{
 "cells": [
  {
   "cell_type": "markdown",
   "id": "9baa23f3",
   "metadata": {},
   "source": [
    "### Question 1\n",
    "Create a function that takes a number as an argument and returns True or False depending\n",
    "on whether the number is symmetrical or not. A number is symmetrical when it is the same as\n",
    "its reverse."
   ]
  },
  {
   "cell_type": "code",
   "execution_count": 2,
   "id": "e5751251",
   "metadata": {},
   "outputs": [],
   "source": [
    "import logging\n",
    "import math\n",
    "logging.basicConfig(filename = 'log_Assignment_23.log',level = logging.DEBUG, format = '%(asctime)s : %(levelname)s : %(message)s')\n"
   ]
  },
  {
   "cell_type": "code",
   "execution_count": 3,
   "id": "d058214f",
   "metadata": {},
   "outputs": [],
   "source": [
    "logging.info('Question 1: Create a function that takes a number as an argument and returns True or False depending on whether the number is symmetrical or not. A number is symmetrical when it is the same as its reverse.')\n",
    "logging.info('Start executing Question 1')"
   ]
  },
  {
   "cell_type": "code",
   "execution_count": 4,
   "id": "f962dc6e",
   "metadata": {},
   "outputs": [],
   "source": [
    "def is_symmetrical(num):\n",
    "    '''Check symmetrical or not.'''\n",
    "    try:\n",
    "        if str(num) == str(num)[::-1]:\n",
    "            return True\n",
    "        else:\n",
    "            return False\n",
    "    except Exception as e:\n",
    "        print(e)\n",
    "        logging.info(f'Error Occured: {e}')\n",
    "        "
   ]
  },
  {
   "cell_type": "code",
   "execution_count": 5,
   "id": "9d3141d7",
   "metadata": {},
   "outputs": [
    {
     "data": {
      "text/plain": [
       "True"
      ]
     },
     "execution_count": 5,
     "metadata": {},
     "output_type": "execute_result"
    }
   ],
   "source": [
    "is_symmetrical(7227)"
   ]
  },
  {
   "cell_type": "code",
   "execution_count": 6,
   "id": "bacedadd",
   "metadata": {},
   "outputs": [
    {
     "data": {
      "text/plain": [
       "False"
      ]
     },
     "execution_count": 6,
     "metadata": {},
     "output_type": "execute_result"
    }
   ],
   "source": [
    "is_symmetrical(12567)"
   ]
  },
  {
   "cell_type": "markdown",
   "id": "199445b5",
   "metadata": {},
   "source": [
    "### Question 2\n",
    "Given a string of numbers separated by a comma and space, return the product of the\n",
    "numbers."
   ]
  },
  {
   "cell_type": "code",
   "execution_count": 7,
   "id": "bd412adc",
   "metadata": {},
   "outputs": [],
   "source": [
    "logging.info('Question 2: Given a string of numbers separated by a comma and space, return the product of the numbers.')\n",
    "logging.info('Start executing Question 2')"
   ]
  },
  {
   "cell_type": "code",
   "execution_count": 8,
   "id": "d9bf1752",
   "metadata": {},
   "outputs": [],
   "source": [
    "def multiply_nums(*s):\n",
    "    '''Return the product'''    \n",
    "    try:\n",
    "        res = 1\n",
    "        for i in s:\n",
    "            res = res*int(i)\n",
    "        return res\n",
    "    except Exception as e:\n",
    "        print(e)\n",
    "        logging.info(f'Error Occured: {e}')"
   ]
  },
  {
   "cell_type": "code",
   "execution_count": 9,
   "id": "17bc8827",
   "metadata": {},
   "outputs": [
    {
     "data": {
      "text/plain": [
       "1536"
      ]
     },
     "execution_count": 9,
     "metadata": {},
     "output_type": "execute_result"
    }
   ],
   "source": [
    "multiply_nums('2','6','8','16')"
   ]
  },
  {
   "cell_type": "markdown",
   "id": "0e02c047",
   "metadata": {},
   "source": [
    "### Question 3\n",
    "Create a function that squares every digit of a number."
   ]
  },
  {
   "cell_type": "code",
   "execution_count": null,
   "id": "f960adc5",
   "metadata": {},
   "outputs": [],
   "source": [
    "logging.info('Question 3: ')\n",
    "logging.info('Start executing Question 3')"
   ]
  }
 ],
 "metadata": {
  "kernelspec": {
   "display_name": "Python 3 (ipykernel)",
   "language": "python",
   "name": "python3"
  },
  "language_info": {
   "codemirror_mode": {
    "name": "ipython",
    "version": 3
   },
   "file_extension": ".py",
   "mimetype": "text/x-python",
   "name": "python",
   "nbconvert_exporter": "python",
   "pygments_lexer": "ipython3",
   "version": "3.9.7"
  }
 },
 "nbformat": 4,
 "nbformat_minor": 5
}
