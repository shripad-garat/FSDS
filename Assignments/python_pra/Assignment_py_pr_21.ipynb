{
 "cells": [
  {
   "cell_type": "markdown",
   "id": "2b583096",
   "metadata": {},
   "source": [
    "### Question1\n",
    "Write a function that takes a list and a number as arguments. Add the number to the end of\n",
    "the list, then remove the first element of the list. The function should then return the updated\n",
    "list."
   ]
  },
  {
   "cell_type": "code",
   "execution_count": 1,
   "id": "30d76edb",
   "metadata": {},
   "outputs": [],
   "source": [
    "import logging\n",
    "import math\n",
    "logging.basicConfig(filename = 'log_Assignment_21.log',level = logging.DEBUG, format = '%(asctime)s : %(levelname)s : %(message)s')\n"
   ]
  },
  {
   "cell_type": "code",
   "execution_count": 2,
   "id": "b8bc0a2a",
   "metadata": {},
   "outputs": [],
   "source": [
    "logging.info('Question 1: Write a function that takes a list and a number as arguments. Add the number to the end of the list, then remove the first element of the list. The function should then return the updated list.')\n",
    "logging.info('Start executing Question 1')"
   ]
  },
  {
   "cell_type": "code",
   "execution_count": 3,
   "id": "c90c9e63",
   "metadata": {},
   "outputs": [],
   "source": [
    "def next_in_line(l,i):\n",
    "    '''takes a list and a number as arguments. Add the number to the end of the list, then remove the first element of the list. The function should then return the updated list.'''\n",
    "    try:\n",
    "        if len(l) == 0:\n",
    "            return 'No list has been selected'\n",
    "        res = l[1:]\n",
    "        res.append(i)\n",
    "        return res\n",
    "    except Exception as e:\n",
    "        print(e)\n",
    "        logging.info(f'Error Occured: {e}')"
   ]
  },
  {
   "cell_type": "code",
   "execution_count": 4,
   "id": "37b421a4",
   "metadata": {},
   "outputs": [
    {
     "data": {
      "text/plain": [
       "[6, 3, 23, 17, 10]"
      ]
     },
     "execution_count": 4,
     "metadata": {},
     "output_type": "execute_result"
    }
   ],
   "source": [
    "next_in_line([7, 6, 3, 23, 17], 10)"
   ]
  },
  {
   "cell_type": "markdown",
   "id": "8378bb19",
   "metadata": {},
   "source": [
    "### Question2\n",
    "Create the function that takes a list of dictionaries and returns the sum of people&#39;s budgets."
   ]
  },
  {
   "cell_type": "code",
   "execution_count": 5,
   "id": "8597a9b7",
   "metadata": {},
   "outputs": [],
   "source": [
    "logging.info('Question 2: Create the function that takes a list of dictionaries and returns the sum of peoples budgets.')\n",
    "logging.info('Start executing Question 2')"
   ]
  },
  {
   "cell_type": "code",
   "execution_count": 6,
   "id": "122b5f52",
   "metadata": {},
   "outputs": [],
   "source": [
    "def get_budgets(l):\n",
    "    '''takes a list of dictionaries and returns the sum of peoples budgets.'''\n",
    "    try:\n",
    "        return sum([i['budget'] for i in l ])\n",
    "    except Exception as e:\n",
    "        print(e)\n",
    "        logging.info(f'Error Occured: {e}')"
   ]
  },
  {
   "cell_type": "code",
   "execution_count": 7,
   "id": "fa40cba0",
   "metadata": {},
   "outputs": [
    {
     "data": {
      "text/plain": [
       "62600"
      ]
     },
     "execution_count": 7,
     "metadata": {},
     "output_type": "execute_result"
    }
   ],
   "source": [
    "get_budgets([\n",
    "{ 'name': 'John', 'age': 21, 'budget': 29000 },\n",
    "{ 'name': 'Stev', 'age': 32, 'budget': 32000 },\n",
    "{ 'name': 'Mart', 'age': 16, 'budget': 1600 }\n",
    "])"
   ]
  },
  {
   "cell_type": "markdown",
   "id": "ea685cb0",
   "metadata": {},
   "source": [
    "### Question3\n",
    "Create a function that takes a string and returns a string with its letters in alphabetical order."
   ]
  },
  {
   "cell_type": "code",
   "execution_count": 8,
   "id": "fb413f78",
   "metadata": {},
   "outputs": [],
   "source": [
    "logging.info('Question 3: Create a function that takes a string and returns a string with its letters in alphabetical order.')\n",
    "logging.info('Start executing Question 3')"
   ]
  },
  {
   "cell_type": "code",
   "execution_count": 9,
   "id": "6d5e5d62",
   "metadata": {},
   "outputs": [],
   "source": [
    "def alphabet_soup(s):\n",
    "    '''takes a string and returns a string with its letters in alphabetical order.'''\n",
    "    try:\n",
    "        return ''.join(sorted(s))\n",
    "    except Exception as e:\n",
    "        print(e)\n",
    "        logging.info(f'Error Occured: {e}')"
   ]
  },
  {
   "cell_type": "code",
   "execution_count": 10,
   "id": "d9a0a114",
   "metadata": {},
   "outputs": [
    {
     "data": {
      "text/plain": [
       "' ehhirt'"
      ]
     },
     "execution_count": 10,
     "metadata": {},
     "output_type": "execute_result"
    }
   ],
   "source": [
    "alphabet_soup('hi ther')"
   ]
  },
  {
   "cell_type": "markdown",
   "id": "6f04f579",
   "metadata": {},
   "source": [
    "### Question4\n",
    "Suppose that you invest '$10,000' for 10 years at an interest rate of 6% compounded monthly.\n",
    "What will be the value of your investment at the end of the 10 year period?\n",
    "Create a function that accepts the principal p, the term in years t, the interest rate r, and the\n",
    "number of compounding periods per year n. The function returns the value at the end of term\n",
    "rounded to the nearest cent.### Question4\n",
    "Suppose that you invest '$10,000' for 10 years at an interest rate of 6% compounded monthly.\n",
    "What will be the value of your investment at the end of the 10 year period?\n",
    "Create a function that accepts the principal p, the term in years t, the interest rate r, and the\n",
    "number of compounding periods per year n. The function returns the value at the end of term\n",
    "rounded to the nearest cent."
   ]
  },
  {
   "cell_type": "code",
   "execution_count": 11,
   "id": "aba99699",
   "metadata": {},
   "outputs": [],
   "source": [
    "logging.info('Question 4: Suppose that you invest 10,000 for 10 years at an interest rate of 6% compounded monthly. What will be the value of your investment at the end of the 10 year period? Create a function that accepts the principal p, the term in years t, the interest rate r, and the number of compounding periods per year n. The function returns the value at the end of term rounded to the nearest cent.### Question4 Suppose that you invest 10,000 for 10 years at an interest rate of 6% compounded monthly. What will be the value of your investment at the end of the 10 year period? Create a function that accepts the principal p, the term in years t, the interest rate r, and the number of compounding periods per year n. The function returns the value at the end of term rounded to the nearest cent.')\n",
    "logging.info('Start executing Question 4')"
   ]
  },
  {
   "cell_type": "code",
   "execution_count": 12,
   "id": "a80934ea",
   "metadata": {},
   "outputs": [],
   "source": [
    "def compound_interest(p,t,r,n):\n",
    "    '''Gives Compund intrest for principle p for years t at rate r per n cycle in year'''\n",
    "    try:\n",
    "        form = p*((1+(r/n))**(t*n))\n",
    "        return round(form,2)\n",
    "    except Exception as e:\n",
    "        print(e)\n",
    "        logging.info(f'Error Occured: {e}')"
   ]
  },
  {
   "cell_type": "code",
   "execution_count": 13,
   "id": "c653a22e",
   "metadata": {},
   "outputs": [
    {
     "data": {
      "text/plain": [
       "105.0"
      ]
     },
     "execution_count": 13,
     "metadata": {},
     "output_type": "execute_result"
    }
   ],
   "source": [
    "compound_interest(100, 1, 0.05, 1)"
   ]
  },
  {
   "cell_type": "code",
   "execution_count": 14,
   "id": "6f47b5ed",
   "metadata": {},
   "outputs": [
    {
     "data": {
      "text/plain": [
       "15399.26"
      ]
     },
     "execution_count": 14,
     "metadata": {},
     "output_type": "execute_result"
    }
   ],
   "source": [
    "compound_interest(3500, 15, 0.1, 4)"
   ]
  },
  {
   "cell_type": "markdown",
   "id": "5dbbbaaa",
   "metadata": {},
   "source": [
    "### Question5\n",
    "Write a function that takes a list of elements and returns only the integers."
   ]
  },
  {
   "cell_type": "code",
   "execution_count": 15,
   "id": "cf70594d",
   "metadata": {},
   "outputs": [],
   "source": [
    "logging.info('Question 5: Write a function that takes a list of elements and returns only the integers.')\n",
    "logging.info('Start executing Question 5')"
   ]
  },
  {
   "cell_type": "code",
   "execution_count": 16,
   "id": "d2b0fd1e",
   "metadata": {},
   "outputs": [],
   "source": [
    "def return_only_integer(l):\n",
    "    '''returns only the integers.'''\n",
    "    try:\n",
    "        return [i for i in l if type(i)==int]\n",
    "    except Exception as e:\n",
    "        print(e)\n",
    "        logging.info(f'Error Occured: {e}')"
   ]
  },
  {
   "cell_type": "code",
   "execution_count": 17,
   "id": "19aac019",
   "metadata": {},
   "outputs": [
    {
     "data": {
      "text/plain": [
       "[81, 123]"
      ]
     },
     "execution_count": 17,
     "metadata": {},
     "output_type": "execute_result"
    }
   ],
   "source": [
    "return_only_integer(['hello', 81, 'basketball', 123, 'fox'])"
   ]
  },
  {
   "cell_type": "code",
   "execution_count": null,
   "id": "03e84476",
   "metadata": {},
   "outputs": [],
   "source": []
  }
 ],
 "metadata": {
  "kernelspec": {
   "display_name": "Python 3 (ipykernel)",
   "language": "python",
   "name": "python3"
  },
  "language_info": {
   "codemirror_mode": {
    "name": "ipython",
    "version": 3
   },
   "file_extension": ".py",
   "mimetype": "text/x-python",
   "name": "python",
   "nbconvert_exporter": "python",
   "pygments_lexer": "ipython3",
   "version": "3.9.7"
  }
 },
 "nbformat": 4,
 "nbformat_minor": 5
}
