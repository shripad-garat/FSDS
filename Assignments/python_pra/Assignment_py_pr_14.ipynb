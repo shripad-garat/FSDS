{
 "cells": [
  {
   "cell_type": "markdown",
   "id": "6ebe245f",
   "metadata": {},
   "source": [
    "### Question 1:\n",
    "Define a class with a generator which can iterate the numbers, which are divisible by\n",
    "7, between a given range 0 and n."
   ]
  },
  {
   "cell_type": "code",
   "execution_count": 1,
   "id": "4280621f",
   "metadata": {},
   "outputs": [],
   "source": [
    "import logging"
   ]
  },
  {
   "cell_type": "code",
   "execution_count": 2,
   "id": "6587e211",
   "metadata": {},
   "outputs": [],
   "source": [
    "logging.basicConfig(filename = 'log_Assignment_14.log',level = logging.DEBUG, format = '%(asctime)s : %(levelname)s : %(message)s')"
   ]
  },
  {
   "cell_type": "code",
   "execution_count": 3,
   "id": "02cc4187",
   "metadata": {},
   "outputs": [],
   "source": [
    "logging.info('Question 1: Define a class with a generator which can iterate the numbers, which are divisible by 7, between a given range 0 and n.')\n",
    "logging.info('Start executing Question 1')\n"
   ]
  },
  {
   "cell_type": "code",
   "execution_count": 4,
   "id": "23e4fc1a",
   "metadata": {},
   "outputs": [
    {
     "name": "stdout",
     "output_type": "stream",
     "text": [
      "<generator object num.gen at 0x000001CC3C9CD510>\n"
     ]
    }
   ],
   "source": [
    "class num:\n",
    "    def __init__(self,num):\n",
    "        self.num = num \n",
    "    def gen(self):\n",
    "        '''generator which can iterate the numbers, which are divisible by 7'''\n",
    "        try:\n",
    "            for i in range(self.num):\n",
    "                if i%7 == 0:\n",
    "                    yield i\n",
    "        except Exception as e:\n",
    "            print(e)\n",
    "            logging.info(f'Error ocured: {e}')\n",
    "            logging.error(e)\n",
    "num = num(100)\n",
    "print(num.gen())"
   ]
  },
  {
   "cell_type": "code",
   "execution_count": 5,
   "id": "5a5f21eb",
   "metadata": {},
   "outputs": [
    {
     "name": "stdout",
     "output_type": "stream",
     "text": [
      "0\n",
      "7\n",
      "14\n",
      "21\n",
      "28\n",
      "35\n",
      "42\n",
      "49\n",
      "56\n",
      "63\n",
      "70\n",
      "77\n",
      "84\n",
      "91\n",
      "98\n"
     ]
    }
   ],
   "source": [
    "for i in num.gen():\n",
    "    print(i)"
   ]
  },
  {
   "cell_type": "markdown",
   "id": "f2cabf71",
   "metadata": {},
   "source": [
    "### Question 2:\n",
    "Write a program to compute the frequency of the words from the input. The output\n",
    "should output after sorting the key alphanumerically.\n"
   ]
  },
  {
   "cell_type": "code",
   "execution_count": 6,
   "id": "13544850",
   "metadata": {},
   "outputs": [],
   "source": [
    "logging.info('Question 2:Write a program to compute the frequency of the words from the input. The output should output after sorting the key alphanumerically.')\n",
    "logging.info('Start executing Question 2')\n"
   ]
  },
  {
   "cell_type": "code",
   "execution_count": 7,
   "id": "ea0ab4b5",
   "metadata": {},
   "outputs": [],
   "source": [
    "def frequency(string):\n",
    "    '''compute the frequency of the words from the input'''\n",
    "    try:\n",
    "        data = sorted(string.split(' '))\n",
    "        result = {}\n",
    "        try:\n",
    "            for item in data:\n",
    "                if item in result:\n",
    "                    result[item] = result[item] + 1\n",
    "                else:\n",
    "                    result[item] = 1\n",
    "        except Exception as e:\n",
    "            logging.info(f'Error ocured: {e}')\n",
    "            print(e)\n",
    "        #return sorted(result)\n",
    "        return result\n",
    "    except Exception as e:\n",
    "        logging.info(f'Error ocured: {e}')\n",
    "        print(e)    \n"
   ]
  },
  {
   "cell_type": "code",
   "execution_count": 8,
   "id": "a68b0fbf",
   "metadata": {},
   "outputs": [
    {
     "data": {
      "text/plain": [
       "{'2': 2,\n",
       " '3.': 1,\n",
       " '3?': 1,\n",
       " 'New': 1,\n",
       " 'Python': 5,\n",
       " 'Read': 1,\n",
       " 'and': 1,\n",
       " 'between': 1,\n",
       " 'choosing': 1,\n",
       " 'or': 2,\n",
       " 'to': 1}"
      ]
     },
     "execution_count": 8,
     "metadata": {},
     "output_type": "execute_result"
    }
   ],
   "source": [
    "s = 'New to Python or choosing between Python 2 and Python 3? Read Python 2 or Python 3.'\n",
    "frequency(s)"
   ]
  },
  {
   "cell_type": "markdown",
   "id": "7e1765c2",
   "metadata": {},
   "source": [
    "### Question 3:\n",
    "Define a class Person and its two child classes: Male and Female. All classes have a\n",
    "method &quot;getGender&quot; which can print &quot;Male&quot; for Male class and &quot;Female&quot; for Female\n",
    "class."
   ]
  },
  {
   "cell_type": "code",
   "execution_count": 9,
   "id": "26b8be64",
   "metadata": {},
   "outputs": [],
   "source": [
    "logging.info('Question 3: Define a class Person and its two child classes: Male and Female. All classes have a method getGender; which can print &quot;Male&quot;Male for Male class and Female for Female class.')\n",
    "logging.info('Start executing Question 3')\n"
   ]
  },
  {
   "cell_type": "code",
   "execution_count": 10,
   "id": "6cf251ed",
   "metadata": {},
   "outputs": [],
   "source": [
    "class Person:\n",
    "    def getGender(self):\n",
    "        pass \n",
    "class Male(Person):\n",
    "    def getGender(self):\n",
    "        print('Male')\n",
    "class Female(Person):\n",
    "    def getGender(self):\n",
    "        print('Female')\n"
   ]
  },
  {
   "cell_type": "code",
   "execution_count": 11,
   "id": "af04f993",
   "metadata": {},
   "outputs": [
    {
     "name": "stdout",
     "output_type": "stream",
     "text": [
      "Female\n",
      "Male\n"
     ]
    }
   ],
   "source": [
    "shetal = Female()\n",
    "shetal.getGender()\n",
    "ram = Male()\n",
    "ram.getGender()"
   ]
  },
  {
   "cell_type": "markdown",
   "id": "c4bf020a",
   "metadata": {},
   "source": [
    "### Question 4:\n",
    "Please write a program to generate all sentences where subject is in [&quot;I&quot;, &quot;You&quot;] and\n",
    "verb is in [&quot;Play&quot;, &quot;Love&quot;] and the object is in [&quot;Hockey&quot;,&quot;Football&quot;]."
   ]
  },
  {
   "cell_type": "code",
   "execution_count": 12,
   "id": "e941df4e",
   "metadata": {},
   "outputs": [],
   "source": [
    "logging.info('Question 4: Please write a program to generate all sentences where subject is in [\"I\", \"You\"] and verb is in [\"Play\", \"Love\"] and the object is in [\"Hockey\",\"Football\"].')\n",
    "logging.info('Start executing Question 4')"
   ]
  },
  {
   "cell_type": "code",
   "execution_count": 13,
   "id": "f3a6baa8",
   "metadata": {},
   "outputs": [],
   "source": [
    "def makeSentences(subject,verb, objects):\n",
    "    '''generate all sentences'''\n",
    "    try :\n",
    "        sentences = [' '.join([i,j,k]) for i in subject for j in verb for k in objects]\n",
    "        return sentences\n",
    "    except Exception as e:\n",
    "        print(e)\n",
    "        logging.info(f'Error ocured: {e}')\n"
   ]
  },
  {
   "cell_type": "code",
   "execution_count": 14,
   "id": "e321e835",
   "metadata": {},
   "outputs": [
    {
     "data": {
      "text/plain": [
       "['I Play Hockey',\n",
       " 'I Play Football',\n",
       " 'I Love Hockey',\n",
       " 'I Love Football',\n",
       " 'You Play Hockey',\n",
       " 'You Play Football',\n",
       " 'You Love Hockey',\n",
       " 'You Love Football']"
      ]
     },
     "execution_count": 14,
     "metadata": {},
     "output_type": "execute_result"
    }
   ],
   "source": [
    "sub = ['I','You']\n",
    "verb = ['Play','Love']\n",
    "obj = [\"Hockey\",\"Football\"] \n",
    "makeSentences(sub,verb,obj)"
   ]
  },
  {
   "cell_type": "markdown",
   "id": "06425a8f",
   "metadata": {},
   "source": [
    "### Question 5:\n",
    "Please write a program to compress and decompress the string &quot;hello world!hello\n",
    "world!hello world!hello world!&quot;."
   ]
  },
  {
   "cell_type": "code",
   "execution_count": 15,
   "id": "1ee34614",
   "metadata": {},
   "outputs": [],
   "source": [
    "logging.info('Question 5: Please write a program to compress and decompress the string \"hello world!hello world!hello world!hello world!\".')\n",
    "logging.info('Start executing Question 5')"
   ]
  },
  {
   "cell_type": "code",
   "execution_count": 16,
   "id": "6f0e79e8",
   "metadata": {},
   "outputs": [],
   "source": [
    "def compress(s):\n",
    "    '''compress the string'''\n",
    "    try:\n",
    "        comstr = ''\n",
    "        n = 1\n",
    "        for i in range(len(s)):\n",
    "            if (i>0) and (s[i]==s[i-1]):\n",
    "                n += 1\n",
    "            else :\n",
    "                if n > 1:\n",
    "                    comstr += str(n)\n",
    "                    n = 1\n",
    "                comstr += str(s[i])\n",
    "        return comstr\n",
    "    except Exception as e:\n",
    "        print(e)\n",
    "        logging.info(f'Error ocured: {e}')\n",
    "\n",
    "def decompress(cs):\n",
    "    '''Decompress the string'''\n",
    "    try:\n",
    "        decomstr = ''\n",
    "        for s in cs:\n",
    "            if s.isdigit():\n",
    "                decomstr += int(s)*decomstr[-1]\n",
    "            else:\n",
    "                decomstr += s\n",
    "        return decomstr\n",
    "    except Exception as e:\n",
    "        print(e)\n",
    "        logging.info(f'Error ocured: {e}')"
   ]
  },
  {
   "cell_type": "code",
   "execution_count": 17,
   "id": "2537a09b",
   "metadata": {},
   "outputs": [
    {
     "name": "stdout",
     "output_type": "stream",
     "text": [
      "Compress string: hel2o world!hel2o world!hel2o world!hel2o world!\n",
      "Decompress string: helllo world!helllo world!helllo world!helllo world!\n"
     ]
    }
   ],
   "source": [
    "s = \"hello world!hello world!hello world!hello world!\"\n",
    "cs = compress(s)\n",
    "print(f'Compress string: {cs}')\n",
    "ds = decompress(cs)\n",
    "print(f'Decompress string: {ds}')"
   ]
  },
  {
   "cell_type": "markdown",
   "id": "6fd2248f",
   "metadata": {},
   "source": [
    "### Question 6:\n",
    "Please write a binary search function which searches an item in a sorted list. The\n",
    "function should return the index of element to be searched in the list."
   ]
  },
  {
   "cell_type": "code",
   "execution_count": 18,
   "id": "bdd42ff1",
   "metadata": {},
   "outputs": [],
   "source": [
    "logging.info('Question 6: Please write a binary search function which searches an item in a sorted list. The function should return the index of element to be searched in the list.')\n",
    "logging.info('Start executing Question 6')"
   ]
  },
  {
   "cell_type": "code",
   "execution_count": 19,
   "id": "001afe38",
   "metadata": {},
   "outputs": [],
   "source": [
    "def binSearch(l,ser):\n",
    "    '''binary search function which searches an item in a sorted list'''\n",
    "    try:\n",
    "        l = sorted(l)\n",
    "        ln = len(l)\n",
    "        ln_2 = int(ln//2)+1\n",
    "        index = 0\n",
    "        if ln > 1:\n",
    "            if ser == l[ln_2]:\n",
    "                index = ln_2\n",
    "                print(l[ln_2])\n",
    "            elif ser < l[ln_2]:\n",
    "                index = ln_2 - binSearch(l[0:ln_2],ser)\n",
    "                print(l[0:ln_2])\n",
    "            elif (ln == 1) and (ser ==l[0]):\n",
    "                index = 0\n",
    "            elif ser > l[ln_2]:\n",
    "                index = binSearch(l[int(ln_2):-1],ser)\n",
    "                print(l[ln_2:-1])\n",
    "        \n",
    "        \n",
    "        else:\n",
    "            return -1\n",
    "        return index \n",
    "    except Exception as e:\n",
    "        print(e)\n",
    "        logging.info(f'Error ocured: {e}')"
   ]
  },
  {
   "cell_type": "code",
   "execution_count": 20,
   "id": "bf35f2d6",
   "metadata": {},
   "outputs": [
    {
     "name": "stdout",
     "output_type": "stream",
     "text": [
      "10\n",
      "[9, 9, 10]\n",
      "[1, 2, 3, 6, 8, 9, 9, 10, 12]\n"
     ]
    },
    {
     "data": {
      "text/plain": [
       "7"
      ]
     },
     "execution_count": 20,
     "metadata": {},
     "output_type": "execute_result"
    }
   ],
   "source": [
    "l = [1,2,3,6,8,9,9,10,12,16,18,22,33,65,108,109]\n",
    "ser = 10\n",
    "binSearch(l,ser)"
   ]
  },
  {
   "cell_type": "code",
   "execution_count": null,
   "id": "c77628b1",
   "metadata": {},
   "outputs": [],
   "source": []
  }
 ],
 "metadata": {
  "kernelspec": {
   "display_name": "Python 3 (ipykernel)",
   "language": "python",
   "name": "python3"
  },
  "language_info": {
   "codemirror_mode": {
    "name": "ipython",
    "version": 3
   },
   "file_extension": ".py",
   "mimetype": "text/x-python",
   "name": "python",
   "nbconvert_exporter": "python",
   "pygments_lexer": "ipython3",
   "version": "3.9.7"
  }
 },
 "nbformat": 4,
 "nbformat_minor": 5
}
