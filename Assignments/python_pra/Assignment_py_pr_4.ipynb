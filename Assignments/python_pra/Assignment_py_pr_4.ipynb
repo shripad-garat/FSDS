{
 "cells": [
  {
   "cell_type": "markdown",
   "id": "258ef3cd",
   "metadata": {},
   "source": [
    "1. Write a Python Program to Find the Factorial of a Number?"
   ]
  },
  {
   "cell_type": "code",
   "execution_count": 2,
   "id": "d7240cb8",
   "metadata": {},
   "outputs": [
    {
     "name": "stdout",
     "output_type": "stream",
     "text": [
      "Enter the no. to be factorial6\n",
      "factorial of 6 is: 720\n"
     ]
    }
   ],
   "source": [
    "num = int(input('Enter the no. to be factorial'))\n",
    "f = 1\n",
    "for i in range(1,num+1):\n",
    "    f = f*i\n",
    "print('factorial of ' + str(num) + ' is: '+ str(f))"
   ]
  },
  {
   "cell_type": "markdown",
   "id": "b86de9e2",
   "metadata": {},
   "source": [
    "2. Write a Python Program to Display the multiplication Table?"
   ]
  },
  {
   "cell_type": "code",
   "execution_count": 4,
   "id": "a3526634",
   "metadata": {},
   "outputs": [
    {
     "name": "stdout",
     "output_type": "stream",
     "text": [
      "Enter the no. for multiplaction table8\n",
      "8 X 1 = 8\n",
      "8 X 2 = 16\n",
      "8 X 3 = 24\n",
      "8 X 4 = 32\n",
      "8 X 5 = 40\n",
      "8 X 6 = 48\n",
      "8 X 7 = 56\n",
      "8 X 8 = 64\n",
      "8 X 9 = 72\n",
      "8 X 10 = 80\n"
     ]
    }
   ],
   "source": [
    "num = int(input('Enter the no. for multiplaction table'))\n",
    "for i in range(1,11):\n",
    "    print(str(num) + ' X ' + str(i) + ' = ' + str(num*i))"
   ]
  },
  {
   "cell_type": "markdown",
   "id": "f170cf31",
   "metadata": {},
   "source": [
    "3. Write a Python Program to Print the Fibonacci sequence?"
   ]
  },
  {
   "cell_type": "code",
   "execution_count": 15,
   "id": "75c6ea30",
   "metadata": {},
   "outputs": [
    {
     "name": "stdout",
     "output_type": "stream",
     "text": [
      "Entter the no. 20\n",
      "F0 = 0\n",
      "F1 = 1\n",
      "F2 = 1\n",
      "F3 = 2\n",
      "F4 = 3\n",
      "F5 = 5\n",
      "F6 = 8\n",
      "F7 = 13\n",
      "F8 = 21\n",
      "F9 = 34\n",
      "F10 = 55\n",
      "F11 = 89\n",
      "F12 = 144\n",
      "F13 = 233\n",
      "F14 = 377\n",
      "F15 = 610\n",
      "F16 = 987\n",
      "F17 = 1597\n",
      "F18 = 2584\n",
      "F19 = 4181\n"
     ]
    }
   ],
   "source": [
    "num = int(input('Entter the no. '))\n",
    "pre1, pre2 = 0,1\n",
    "for i in range(num):\n",
    "    print('F' + str(i) + ' = '+str(pre1))\n",
    "    f = pre1 + pre2\n",
    "    pre1 = pre2\n",
    "    pre2 = f\n",
    "\n",
    "    \n",
    "    "
   ]
  },
  {
   "cell_type": "markdown",
   "id": "3c8568f7",
   "metadata": {},
   "source": [
    "4. Write a Python Program to Check Armstrong Number?"
   ]
  },
  {
   "cell_type": "code",
   "execution_count": 17,
   "id": "dae3b664",
   "metadata": {},
   "outputs": [
    {
     "name": "stdout",
     "output_type": "stream",
     "text": [
      "Enter the  no.153\n",
      "The number is Armstrong Number\n"
     ]
    }
   ],
   "source": [
    "num = int(input('Enter the  no.'))\n",
    "temp = num\n",
    "summ = 0\n",
    "while True:\n",
    "    f = temp%10\n",
    "    summ = summ + (f**3)\n",
    "    if f == 0:\n",
    "        break\n",
    "    else:\n",
    "        temp = int(temp/10)\n",
    "\n",
    "if summ == num:\n",
    "    print('The number is Armstrong Number')\n",
    "else:\n",
    "    print('The number is not Armstrong Number')\n",
    "    "
   ]
  },
  {
   "cell_type": "markdown",
   "id": "d8a951ec",
   "metadata": {},
   "source": [
    "5. Write a Python Program to Find Armstrong Number in an Interval?"
   ]
  },
  {
   "cell_type": "code",
   "execution_count": 21,
   "id": "dc82509d",
   "metadata": {},
   "outputs": [
    {
     "name": "stdout",
     "output_type": "stream",
     "text": [
      "Enter the range155\n",
      "0\n",
      "1\n",
      "153\n"
     ]
    }
   ],
   "source": [
    "num = int(input('Enter the range'))\n",
    "for i in range(num):\n",
    "    temp = i\n",
    "    summ = 0\n",
    "    while True:\n",
    "        f = temp%10\n",
    "        summ = summ + (f**3)\n",
    "        if f == 0:\n",
    "            break\n",
    "        else:\n",
    "            temp = int(temp/10)\n",
    "    if summ == i:\n",
    "        print(i)"
   ]
  },
  {
   "cell_type": "markdown",
   "id": "32acc40d",
   "metadata": {},
   "source": [
    "6. Write a Python Program to Find the Sum of Natural Numbers?"
   ]
  },
  {
   "cell_type": "code",
   "execution_count": 22,
   "id": "13b4bac6",
   "metadata": {},
   "outputs": [
    {
     "name": "stdout",
     "output_type": "stream",
     "text": [
      "Enter the range50\n",
      "The sum is 1275\n"
     ]
    }
   ],
   "source": [
    "num = int(input('Enter the range'))\n",
    "summ = 0\n",
    "for i in range(1,num+1):\n",
    "    summ = i + summ\n",
    "print('The sum is '+str(summ))\n",
    "    "
   ]
  },
  {
   "cell_type": "code",
   "execution_count": null,
   "id": "b8eb73de",
   "metadata": {},
   "outputs": [],
   "source": []
  }
 ],
 "metadata": {
  "kernelspec": {
   "display_name": "Python 3 (ipykernel)",
   "language": "python",
   "name": "python3"
  },
  "language_info": {
   "codemirror_mode": {
    "name": "ipython",
    "version": 3
   },
   "file_extension": ".py",
   "mimetype": "text/x-python",
   "name": "python",
   "nbconvert_exporter": "python",
   "pygments_lexer": "ipython3",
   "version": "3.9.7"
  }
 },
 "nbformat": 4,
 "nbformat_minor": 5
}
