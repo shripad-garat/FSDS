{
 "cells": [
  {
   "cell_type": "markdown",
   "id": "873def7b",
   "metadata": {},
   "source": [
    "Q1. Write a Python Program to find sum of array?"
   ]
  },
  {
   "cell_type": "code",
   "execution_count": 3,
   "id": "a9840f34",
   "metadata": {},
   "outputs": [],
   "source": [
    "import array as arr\n",
    "import logging "
   ]
  },
  {
   "cell_type": "code",
   "execution_count": 51,
   "id": "837c370a",
   "metadata": {},
   "outputs": [],
   "source": [
    "logging.basicConfig(filename = 'Assignmrnt_py_7.log', level = logging.DEBUG, format = '%(asctime)s : %(levelname)s : %(message)s')"
   ]
  },
  {
   "cell_type": "code",
   "execution_count": 52,
   "id": "d318978e",
   "metadata": {},
   "outputs": [],
   "source": [
    "def arrAdd(a):\n",
    "    try:\n",
    "        '''This function will return the sum of given array'''\n",
    "        logging.info('Start executing Q1. Write a Python Program to find sum of array?')\n",
    "        summ = 0\n",
    "        for i in a:\n",
    "            summ = summ + i\n",
    "        return summ\n",
    "    except Exception as e:\n",
    "        print(e)\n",
    "        logging.error('Error ocured')\n",
    "        logging.info('Excepetion : ',e)"
   ]
  },
  {
   "cell_type": "code",
   "execution_count": 53,
   "id": "2b35d13d",
   "metadata": {},
   "outputs": [
    {
     "name": "stdout",
     "output_type": "stream",
     "text": [
      "29\n"
     ]
    }
   ],
   "source": [
    "d = [2,6,9,3,7,2]\n",
    "d = arr.array('i',d)\n",
    "a = arrAdd(d)\n",
    "print(a)"
   ]
  },
  {
   "cell_type": "markdown",
   "id": "62b57701",
   "metadata": {},
   "source": [
    "Q2. Write a Python Program to find largest element in an array?"
   ]
  },
  {
   "cell_type": "code",
   "execution_count": 54,
   "id": "01d5d4c6",
   "metadata": {},
   "outputs": [],
   "source": [
    "def large(a):\n",
    "    try:\n",
    "        '''This function will return the largest element in an array'''\n",
    "        logging.info('Start executing Q2. Write a Python Program to find largest element in an array?')\n",
    "        large = 0\n",
    "        for i in range(len(a)):\n",
    "            if i == 0:\n",
    "                large = a[i]\n",
    "            elif large < a[i]:\n",
    "                large = a[i]\n",
    "        return large \n",
    "    except Exception as e:\n",
    "        print(e)\n",
    "        logging.error('Error ocured')\n",
    "        logging.info('Excepetion : ',e)"
   ]
  },
  {
   "cell_type": "code",
   "execution_count": 55,
   "id": "bdb89830",
   "metadata": {},
   "outputs": [
    {
     "name": "stdout",
     "output_type": "stream",
     "text": [
      "9\n"
     ]
    }
   ],
   "source": [
    "d = [2,6,9,3,7,2]\n",
    "d = arr.array('i',d)\n",
    "a = large(d)\n",
    "print(a)"
   ]
  },
  {
   "cell_type": "markdown",
   "id": "fb643ca4",
   "metadata": {},
   "source": [
    "Q3. Write a Python Program for array rotation?"
   ]
  },
  {
   "cell_type": "code",
   "execution_count": 56,
   "id": "be2fe51c",
   "metadata": {},
   "outputs": [],
   "source": [
    "def rotation(a,k):\n",
    "    try: \n",
    "        '''This function will return the rotated array of same size with shifting position by K'''\n",
    "        logging.info('Start executing Q3. Write a Python Program for array rotation?')\n",
    "        n = len(a)\n",
    "        ar = list(a)\n",
    "        for i in range(n):\n",
    "            if i < k:\n",
    "                ar[n-k+i] = a[i]\n",
    "            else:\n",
    "                ar[i-k] = a[i]\n",
    "        return arr.array('i',ar)\n",
    "    except Exception as e:\n",
    "        print(e)\n",
    "        logging.error('Error ocured')\n",
    "        logging.info('Excepetion : ',e)\n",
    "             "
   ]
  },
  {
   "cell_type": "code",
   "execution_count": 57,
   "id": "df66a89f",
   "metadata": {},
   "outputs": [
    {
     "name": "stdout",
     "output_type": "stream",
     "text": [
      "array('i', [3, 7, 2, 2, 6, 9])\n"
     ]
    }
   ],
   "source": [
    "d = [2,6,9,3,7,2]\n",
    "d = arr.array('i',d)\n",
    "a = rotation(d,3)\n",
    "print(a)"
   ]
  },
  {
   "cell_type": "markdown",
   "id": "b7a76fee",
   "metadata": {},
   "source": [
    "Q4. Write a Python Program to Split the array and add the first part to the end?"
   ]
  },
  {
   "cell_type": "code",
   "execution_count": 58,
   "id": "8442e0ba",
   "metadata": {},
   "outputs": [],
   "source": [
    "def splitAdd(a,k):\n",
    "    try: \n",
    "        '''This function will return the split add array of same size with shifting position by K'''\n",
    "        logging.info('Start executing Q4. Write a Python Program to Split the array and add the first part to the end?')\n",
    "        n = len(a)\n",
    "        ar1 = []\n",
    "        ar2 = []\n",
    "        for i in range(n):\n",
    "            if i < k:\n",
    "                ar1.append(a[i])\n",
    "            else:\n",
    "                ar2.append(a[i])\n",
    "        return arr.array('i',ar2+ar1)\n",
    "    except Exception as e:\n",
    "        print(e)\n",
    "        logging.error('Error ocured')\n",
    "        logging.info('Excepetion : ',e)\n",
    "             "
   ]
  },
  {
   "cell_type": "code",
   "execution_count": 59,
   "id": "4955fa3d",
   "metadata": {},
   "outputs": [
    {
     "name": "stdout",
     "output_type": "stream",
     "text": [
      "array('i', [3, 7, 2, 2, 6, 9])\n"
     ]
    }
   ],
   "source": [
    "d = [2,6,9,3,7,2]\n",
    "d = arr.array('i',d)\n",
    "a = splitAdd(d,3)\n",
    "print(a)"
   ]
  },
  {
   "cell_type": "markdown",
   "id": "d783e874",
   "metadata": {},
   "source": [
    "Q5. Write a Python Program to check if given array is Monotonic?"
   ]
  },
  {
   "cell_type": "code",
   "execution_count": 60,
   "id": "bb15b918",
   "metadata": {},
   "outputs": [],
   "source": [
    "def monotonic(d):\n",
    "    try:\n",
    "        '''THis function will check wheter or not the given array is monotonic'''\n",
    "        logging.info('Start executing Q5. Write a Python Program to check if given array is Monotonic?')\n",
    "        result = False\n",
    "        for i in range(1,len(d)-1):\n",
    "            if (d[i-1]>=d[i]) and (d[i]>=d[i+1]):\n",
    "                result = True\n",
    "            elif (d[i-1]<=d[i]) and (d[i]<=d[i+1]):\n",
    "                result = True\n",
    "            else:\n",
    "                result = False\n",
    "                break\n",
    "        return result\n",
    "    except Exception as e:\n",
    "        print(e)\n",
    "        logging.error('Error ocured')\n",
    "        logging.info('Excepetion : ',e)\n",
    "             "
   ]
  },
  {
   "cell_type": "code",
   "execution_count": 61,
   "id": "e6ea5040",
   "metadata": {},
   "outputs": [
    {
     "name": "stdout",
     "output_type": "stream",
     "text": [
      "False\n"
     ]
    }
   ],
   "source": [
    "d = [2,6,9,3,7,2]\n",
    "d = arr.array('i',d)\n",
    "a = monotonic(d)\n",
    "print(a)"
   ]
  },
  {
   "cell_type": "code",
   "execution_count": 62,
   "id": "813ad74e",
   "metadata": {},
   "outputs": [
    {
     "name": "stdout",
     "output_type": "stream",
     "text": [
      "True\n"
     ]
    }
   ],
   "source": [
    "d = [2,2,5,6,8,9]\n",
    "d = arr.array('i',d)\n",
    "a = monotonic(d)\n",
    "print(a)"
   ]
  },
  {
   "cell_type": "code",
   "execution_count": null,
   "id": "e5276e89",
   "metadata": {},
   "outputs": [],
   "source": []
  },
  {
   "cell_type": "code",
   "execution_count": null,
   "id": "26dd9593",
   "metadata": {},
   "outputs": [],
   "source": []
  },
  {
   "cell_type": "code",
   "execution_count": null,
   "id": "971b9dd8",
   "metadata": {},
   "outputs": [],
   "source": []
  },
  {
   "cell_type": "code",
   "execution_count": null,
   "id": "255cc540",
   "metadata": {},
   "outputs": [],
   "source": []
  }
 ],
 "metadata": {
  "kernelspec": {
   "display_name": "Python 3 (ipykernel)",
   "language": "python",
   "name": "python3"
  },
  "language_info": {
   "codemirror_mode": {
    "name": "ipython",
    "version": 3
   },
   "file_extension": ".py",
   "mimetype": "text/x-python",
   "name": "python",
   "nbconvert_exporter": "python",
   "pygments_lexer": "ipython3",
   "version": "3.9.7"
  }
 },
 "nbformat": 4,
 "nbformat_minor": 5
}
