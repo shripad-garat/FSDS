{
 "cells": [
  {
   "cell_type": "markdown",
   "id": "e4dc7050",
   "metadata": {},
   "source": [
    "### Question1\n",
    "Create a function that takes three integer arguments (a, b, c) and returns the amount of\n",
    "integers which are of equal value."
   ]
  },
  {
   "cell_type": "code",
   "execution_count": 1,
   "id": "c0156af8",
   "metadata": {},
   "outputs": [],
   "source": [
    "import logging\n",
    "import math\n",
    "logging.basicConfig(filename = 'log_Assignment_25.log',level = logging.DEBUG, format = '%(asctime)s : %(levelname)s : %(message)s')\n"
   ]
  },
  {
   "cell_type": "code",
   "execution_count": 2,
   "id": "5f9ccb6f",
   "metadata": {},
   "outputs": [],
   "source": [
    "logging.info('Question 1: Create a function that takes three integer arguments (a, b, c) and returns the amount of integers which are of equal value.')\n",
    "logging.info('Start executing Question 1')"
   ]
  },
  {
   "cell_type": "code",
   "execution_count": 3,
   "id": "80b3d361",
   "metadata": {},
   "outputs": [],
   "source": [
    "def equal(a,b,c):\n",
    "    ''' takes three integer arguments (a, b, c) and returns the amount of integers which are of equal value'''\n",
    "    try:\n",
    "        if (a==b) and (a==c):\n",
    "            return 3\n",
    "        elif (a==b) or (a==c)or(b==c):\n",
    "            return 2\n",
    "        else :\n",
    "            return 0\n",
    "    except Exception as e:\n",
    "        print(e)\n",
    "        logging.info(f'Error Occured: {e}')\n",
    "        "
   ]
  },
  {
   "cell_type": "code",
   "execution_count": 4,
   "id": "ead89ce1",
   "metadata": {},
   "outputs": [
    {
     "data": {
      "text/plain": [
       "2"
      ]
     },
     "execution_count": 4,
     "metadata": {},
     "output_type": "execute_result"
    }
   ],
   "source": [
    "equal(3, 4, 3)"
   ]
  },
  {
   "cell_type": "markdown",
   "id": "13219c9d",
   "metadata": {},
   "source": [
    "### Question2\n",
    "Write a function that converts a dictionary into a list of keys-values tuples."
   ]
  },
  {
   "cell_type": "code",
   "execution_count": 5,
   "id": "aeeaf05e",
   "metadata": {},
   "outputs": [],
   "source": [
    "logging.info('Question 2: Write a function that converts a dictionary into a list of keys-values tuples..')\n",
    "logging.info('Start executing Question 2')"
   ]
  },
  {
   "cell_type": "code",
   "execution_count": 8,
   "id": "bc41203c",
   "metadata": {},
   "outputs": [],
   "source": [
    "def dict_to_list(d):\n",
    "    '''converts a dictionary into a list of keys-values tuples'''\n",
    "    try:\n",
    "        l = [(i, d[i]) for i in d]\n",
    "        return sorted(l)\n",
    "    except Exception as e:\n",
    "        print(e)\n",
    "        logging.info(f'Error Occured: {e}')"
   ]
  },
  {
   "cell_type": "code",
   "execution_count": 9,
   "id": "4ddd44c1",
   "metadata": {},
   "outputs": [
    {
     "data": {
      "text/plain": [
       "[('B', 2), ('C', 3), ('D', 1)]"
      ]
     },
     "execution_count": 9,
     "metadata": {},
     "output_type": "execute_result"
    }
   ],
   "source": [
    "dict_to_list({\n",
    "'D': 1,\n",
    "'B': 2,\n",
    "'C': 3\n",
    "})"
   ]
  },
  {
   "cell_type": "code",
   "execution_count": 10,
   "id": "163dec74",
   "metadata": {},
   "outputs": [
    {
     "data": {
      "text/plain": [
       "[('dislikes', 3), ('followers', 10), ('likes', 2)]"
      ]
     },
     "execution_count": 10,
     "metadata": {},
     "output_type": "execute_result"
    }
   ],
   "source": [
    "dict_to_list({\n",
    "'likes': 2,\n",
    "'dislikes': 3,\n",
    "'followers': 10\n",
    "})"
   ]
  },
  {
   "cell_type": "markdown",
   "id": "d4976e5e",
   "metadata": {},
   "source": [
    "### Question3\n",
    "Write a function that creates a dictionary with each (key, value) pair being the (lower case,\n",
    "upper case) versions of a letter, respectively."
   ]
  },
  {
   "cell_type": "code",
   "execution_count": 11,
   "id": "ab7fdd85",
   "metadata": {},
   "outputs": [],
   "source": [
    "logging.info('Question 3: Write a function that creates a dictionary with each (key, value) pair being the (lower case, upper case) versions of a letter, respectively.')\n",
    "logging.info('Start executing Question 3')"
   ]
  },
  {
   "cell_type": "code",
   "execution_count": 16,
   "id": "869bfaf4",
   "metadata": {},
   "outputs": [],
   "source": [
    "def mapping(l):\n",
    "    '''creates a dictionary with each (key, value) pair being the (lower case, upper case) versions of a letter, respectively.'''\n",
    "    try:\n",
    "        return {i:i.upper() for i in l}\n",
    "    except Exception as e:\n",
    "        print(e)\n",
    "        logging.info(f'Error Occured: {e}')"
   ]
  },
  {
   "cell_type": "code",
   "execution_count": 17,
   "id": "c8468e41",
   "metadata": {},
   "outputs": [
    {
     "data": {
      "text/plain": [
       "{'a': 'A', 'v': 'V', 'y': 'Y', 'z': 'Z'}"
      ]
     },
     "execution_count": 17,
     "metadata": {},
     "output_type": "execute_result"
    }
   ],
   "source": [
    "mapping(['a', 'v', 'y', 'z'])"
   ]
  },
  {
   "cell_type": "markdown",
   "id": "10483c97",
   "metadata": {},
   "source": [
    "### Question4\n",
    "Write a function, that replaces all vowels in a string with a specified vowel."
   ]
  },
  {
   "cell_type": "code",
   "execution_count": 18,
   "id": "ad601c7d",
   "metadata": {},
   "outputs": [],
   "source": [
    "logging.info('Question 4: Write a function, that replaces all vowels in a string with a specified vowel.')\n",
    "logging.info('Start executing Question 4')"
   ]
  },
  {
   "cell_type": "code",
   "execution_count": 19,
   "id": "ff9f8532",
   "metadata": {},
   "outputs": [],
   "source": [
    "def vow_replace(st,re):\n",
    "    '''replaces all vowels in a string with a specified vowel.'''\n",
    "    try:\n",
    "        vo = ['a','e','i','o','u']\n",
    "        return ''.join([re if i in vo else i for i in st])\n",
    "    except Exception as e:\n",
    "        print(e)\n",
    "        logging.info(f'Error Occured: {e}')"
   ]
  },
  {
   "cell_type": "code",
   "execution_count": 20,
   "id": "29265baa",
   "metadata": {},
   "outputs": [
    {
     "data": {
      "text/plain": [
       "'upplus und bununus'"
      ]
     },
     "execution_count": 20,
     "metadata": {},
     "output_type": "execute_result"
    }
   ],
   "source": [
    "vow_replace('apples and bananas', 'u')"
   ]
  },
  {
   "cell_type": "markdown",
   "id": "b2ae845c",
   "metadata": {},
   "source": [
    "### Question5\n",
    "Create a function that takes a string as input and capitalizes a letter if its ASCII code is even\n",
    "and returns its lower case version if its ASCII code is odd."
   ]
  },
  {
   "cell_type": "code",
   "execution_count": 21,
   "id": "ae405e87",
   "metadata": {},
   "outputs": [],
   "source": [
    "logging.info('Question 5: Create a function that takes a string as input and capitalizes a letter if its ASCII code is even and returns its lower case version if its ASCII code is odd.')\n",
    "logging.info('Start executing Question 5')"
   ]
  },
  {
   "cell_type": "code",
   "execution_count": 22,
   "id": "ccf3f0e9",
   "metadata": {},
   "outputs": [],
   "source": [
    "def ascii_capitalize(st):\n",
    "    '''capitalizes a letter if its ASCII code is even and returns its lower case version if its ASCII code is odd'''\n",
    "    try:\n",
    "        return ''.join([i.upper() if ord(i)%2==0 else i.lower() for i in st])\n",
    "    except Exception as e:\n",
    "        print(e)\n",
    "        logging.info(f'Error Occured: {e}')"
   ]
  },
  {
   "cell_type": "code",
   "execution_count": 23,
   "id": "e7a90e0a",
   "metadata": {},
   "outputs": [
    {
     "data": {
      "text/plain": [
       "'To Be oR NoT To Be!'"
      ]
     },
     "execution_count": 23,
     "metadata": {},
     "output_type": "execute_result"
    }
   ],
   "source": [
    "ascii_capitalize('to be or not to be!')"
   ]
  },
  {
   "cell_type": "code",
   "execution_count": null,
   "id": "c618d941",
   "metadata": {},
   "outputs": [],
   "source": []
  }
 ],
 "metadata": {
  "kernelspec": {
   "display_name": "Python 3 (ipykernel)",
   "language": "python",
   "name": "python3"
  },
  "language_info": {
   "codemirror_mode": {
    "name": "ipython",
    "version": 3
   },
   "file_extension": ".py",
   "mimetype": "text/x-python",
   "name": "python",
   "nbconvert_exporter": "python",
   "pygments_lexer": "ipython3",
   "version": "3.9.7"
  }
 },
 "nbformat": 4,
 "nbformat_minor": 5
}
