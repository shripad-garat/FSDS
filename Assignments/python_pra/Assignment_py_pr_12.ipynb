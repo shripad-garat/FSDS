{
 "cells": [
  {
   "cell_type": "code",
   "execution_count": 1,
   "id": "d635f7d8",
   "metadata": {},
   "outputs": [],
   "source": [
    "import logging\n",
    "logging.basicConfig(filename='log_Assignment_11.log',level=logging.DEBUG, format='%(asctime)s : %(levelname)s : %(message)s')\n",
    "logging.info('Start executing Assignment 12 of python programming ')"
   ]
  },
  {
   "cell_type": "markdown",
   "id": "7d646671",
   "metadata": {},
   "source": [
    "## Q1. Write a Python program to Extract Unique values dictionary values?"
   ]
  },
  {
   "cell_type": "code",
   "execution_count": 2,
   "id": "57ca35db",
   "metadata": {},
   "outputs": [],
   "source": [
    "def DicUnq(d):\n",
    "    '''This function will return Unique values from dictionary'''\n",
    "    logging.info('Start executing Q1. Write a Python program to Extract Unique values dictionary values?')\n",
    "    try:\n",
    "        l = []\n",
    "        for i in d:\n",
    "            for j in d[i]:\n",
    "                if j not in l:\n",
    "                    l.append(j)\n",
    "                else:\n",
    "                    continue\n",
    "        logging.info('Returning Unique values from dictionary')            \n",
    "        return l\n",
    "    except Exception as e:\n",
    "        print(e)\n",
    "        logging.info('Error: '+str(e))\n",
    "        logging.error(e)"
   ]
  },
  {
   "cell_type": "code",
   "execution_count": 3,
   "id": "e5b5e1d0",
   "metadata": {},
   "outputs": [
    {
     "name": "stdout",
     "output_type": "stream",
     "text": [
      "[1, 2, 69, 4, 8, 29, 9, 85, 72, 27, 3, 7, 62, 0, 6, 64]\n"
     ]
    }
   ],
   "source": [
    "d = {\n",
    "    'key1':[1,2,69,4,8,29],\n",
    "    'key2':[9,85,72,9,27,1,3,9,3,7],\n",
    "    'key3':[3,8,27,62,7,0,4,9,6,64]\n",
    "}\n",
    "print(DicUnq(d))"
   ]
  },
  {
   "cell_type": "markdown",
   "id": "a687162c",
   "metadata": {},
   "source": [
    "## Q2. Write a Python program to find the sum of all items in a dictionary?"
   ]
  },
  {
   "cell_type": "code",
   "execution_count": 4,
   "id": "466282b0",
   "metadata": {},
   "outputs": [],
   "source": [
    "def DictSum(d):\n",
    "    '''This function will return sum of all values from dictionary'''\n",
    "    logging.info('Start executing Q2. Write a Python program to find the sum of all items in a dictionary?')\n",
    "    try:\n",
    "        summ = 0\n",
    "        for i in d:\n",
    "            for j in d[i]:\n",
    "                summ += j\n",
    "        logging.info('Returning the sum of all values from dictionary')            \n",
    "        return summ\n",
    "    except Exception as e:\n",
    "        print(e)\n",
    "        logging.info('Error: '+str(e))\n",
    "        logging.error(e)"
   ]
  },
  {
   "cell_type": "code",
   "execution_count": 5,
   "id": "e4514988",
   "metadata": {},
   "outputs": [
    {
     "name": "stdout",
     "output_type": "stream",
     "text": [
      "528\n"
     ]
    }
   ],
   "source": [
    "d = {\n",
    "    'key1':[1,2,69,4,8,29],\n",
    "    'key2':[9,85,72,9,27,1,3,9,3,7],\n",
    "    'key3':[3,8,27,62,7,0,4,9,6,64]\n",
    "}\n",
    "print(DictSum(d))"
   ]
  },
  {
   "cell_type": "markdown",
   "id": "8ae58589",
   "metadata": {},
   "source": [
    "## Q3. Write a Python program to Merging two Dictionaries?"
   ]
  },
  {
   "cell_type": "code",
   "execution_count": 6,
   "id": "e5e86437",
   "metadata": {},
   "outputs": [],
   "source": [
    "def DictMerg(d1,d2):\n",
    "    '''This function will return the Dictionari which is form by merging give two dictonary\n",
    "    d1 --> Input Dictionary 1st\n",
    "    d2 --> Input Dictionary 2nd'''\n",
    "    logging.info('Start executing Q3. Write a Python program to Merging two Dictionaries?')\n",
    "    try:\n",
    "        for i in d2:\n",
    "            if i in d1:\n",
    "                d1[i] += d2[i]\n",
    "            else:\n",
    "                d1[i] = d2[i]\n",
    "        logging.info('Returning the Dictionari which is form by merging give two dictonary')\n",
    "        return d1\n",
    "    except Exception as e:\n",
    "        print(e)\n",
    "        logging.info('Error: '+str(e))\n",
    "        logging.error(e)"
   ]
  },
  {
   "cell_type": "code",
   "execution_count": 7,
   "id": "37199b27",
   "metadata": {},
   "outputs": [
    {
     "name": "stdout",
     "output_type": "stream",
     "text": [
      "{'key1': [1, 2, 69, 4, 8, 29, 1, 2, 69, 4, 8, 29], 'key2': [9, 85, 72, 9, 27, 1, 3, 9, 3, 7], 'key3': [3, 8, 27, 62, 7, 0, 4, 9, 6, 64], 'key6': [9, 85, 72, 9, 27, 1, 3, 9, 3, 7], 'key4': [3, 8, 27, 62, 7, 0, 4, 9, 6, 64]}\n"
     ]
    }
   ],
   "source": [
    "d1 = {\n",
    "    'key1':[1,2,69,4,8,29],\n",
    "    'key2':[9,85,72,9,27,1,3,9,3,7],\n",
    "    'key3':[3,8,27,62,7,0,4,9,6,64]\n",
    "}\n",
    "d2 = {'key1':[1,2,69,4,8,29],\n",
    "    'key6':[9,85,72,9,27,1,3,9,3,7],\n",
    "    'key4':[3,8,27,62,7,0,4,9,6,64]\n",
    "}\n",
    "    \n",
    "\n",
    "print(DictMerg(d1,d2))"
   ]
  },
  {
   "cell_type": "markdown",
   "id": "118ca442",
   "metadata": {},
   "source": [
    "## Q4. Write a Python program to convert key-values list to flat dictionary?"
   ]
  },
  {
   "cell_type": "code",
   "execution_count": 8,
   "id": "9e044cb2",
   "metadata": {},
   "outputs": [],
   "source": [
    "def conKeyValDic(d):\n",
    "    '''This function will return convert key-values list to flat dictionary'''\n",
    "    logging.info('Start executing Q4. Write a Python program to convert key-values list to flat dictionary?')\n",
    "    try:\n",
    "        new = {}\n",
    "        for i in d:\n",
    "            new[i[0]] = i[1]\n",
    "        return new\n",
    "    except Exception as e:\n",
    "        print(e)\n",
    "        logging.info('Error: '+str(e))\n",
    "        logging.error(e)"
   ]
  },
  {
   "cell_type": "code",
   "execution_count": 9,
   "id": "20118578",
   "metadata": {},
   "outputs": [
    {
     "name": "stdout",
     "output_type": "stream",
     "text": [
      "{'a': 4, 'b': 4, 'c': 9, 'e': 3}\n"
     ]
    }
   ],
   "source": [
    "d = [('a',4),('b',4),('c',9),('e',3)]\n",
    "print(conKeyValDic(d))"
   ]
  },
  {
   "cell_type": "markdown",
   "id": "b162c039",
   "metadata": {},
   "source": [
    "## Q5. Write a Python program to insertion at the beginning in OrderedDict?"
   ]
  },
  {
   "cell_type": "code",
   "execution_count": 10,
   "id": "5f9ba017",
   "metadata": {},
   "outputs": [],
   "source": [
    "def OrdDict(d,i):\n",
    "    '''This function will return the insertion at the beginning in OrderedDict\n",
    "    d --> Dict\n",
    "    i --> Insertion'''\n",
    "    logging.info('Start executing Q5. Write a Python program to insertion at the beginning in OrderedDict?')\n",
    "    try:\n",
    "        from collections import OrderedDict\n",
    "        d = OrderedDict(d)\n",
    "        d.update(i)\n",
    "        d.move_to_end(list(d.keys())[-1],last=False)\n",
    "        return d\n",
    "    except Exception as e:\n",
    "        print(e)\n",
    "        logging.info('error: '+str(e))\n",
    "        logging.error(e)"
   ]
  },
  {
   "cell_type": "code",
   "execution_count": 11,
   "id": "ae9c76a0",
   "metadata": {},
   "outputs": [
    {
     "name": "stdout",
     "output_type": "stream",
     "text": [
      "OrderedDict([('key', [1, 2, 69, 4, 8, 29]), ('key1', [1, 2, 69, 4, 8, 29]), ('key6', [9, 85, 72, 9, 27, 1, 3, 9, 3, 7]), ('key4', [3, 8, 27, 62, 7, 0, 4, 9, 6, 64])])\n"
     ]
    }
   ],
   "source": [
    "i = {\n",
    "    'key':[1,2,69,4,8,29]\n",
    "}\n",
    "d = {'key1':[1,2,69,4,8,29],\n",
    "    'key6':[9,85,72,9,27,1,3,9,3,7],\n",
    "    'key4':[3,8,27,62,7,0,4,9,6,64]\n",
    "}\n",
    "print(OrdDict(d,i))  "
   ]
  },
  {
   "cell_type": "markdown",
   "id": "e45b69bf",
   "metadata": {},
   "source": [
    "## Q6. Write a Python program to check order of character in string using OrderedDict()?"
   ]
  },
  {
   "cell_type": "code",
   "execution_count": 12,
   "id": "42e1274f",
   "metadata": {},
   "outputs": [],
   "source": [
    "def Patcheck(d):\n",
    "    '''This function will return order of character in string using OrderedDict()'''\n",
    "    logging.info('Start executing Q6. Write a Python program to check order of character in string using OrderedDict()?')\n",
    "    try:\n",
    "        from collections import OrderedDict\n",
    "        d = OrderedDict(dict(sorted(d.items())))\n",
    "        return d\n",
    "    except Exception as e:\n",
    "        print(e)\n",
    "        logging.info('error: '+str(e))\n",
    "        logging.error(e)"
   ]
  },
  {
   "cell_type": "code",
   "execution_count": 13,
   "id": "e0c28745",
   "metadata": {},
   "outputs": [
    {
     "name": "stdout",
     "output_type": "stream",
     "text": [
      "OrderedDict([('a', []), ('d', []), ('f', []), ('m', []), ('x', [])])\n"
     ]
    }
   ],
   "source": [
    "d = {\n",
    "    'a':[],'x':[],'m':[],'d':[],'f':[]\n",
    "}\n",
    "print(Patcheck(d))"
   ]
  },
  {
   "cell_type": "markdown",
   "id": "7f630663",
   "metadata": {},
   "source": [
    "## Q7. Write a Python program to sort Python Dictionaries by Key or Value?"
   ]
  },
  {
   "cell_type": "code",
   "execution_count": 14,
   "id": "89508feb",
   "metadata": {},
   "outputs": [],
   "source": [
    "def SortKeyVal(d,mode):\n",
    "    '''This function will return the sort Python Dictionaries by Key or Value\n",
    "    d --> Input Dict\n",
    "    mode --> type of sorting\n",
    "    mode == keys**,values**'''\n",
    "    logging.info('Start executing Q7. Write a Python program to sort Python Dictionaries by Key or Value?')\n",
    "    try:\n",
    "        from collections import OrderedDict\n",
    "        if mode == 'keys':\n",
    "            d = OrderedDict(dict(sorted(d.items(),key=lambda x:x[0], reverse=False)))\n",
    "        else:\n",
    "            d = OrderedDict(dict(sorted(d.items(),key=lambda x:x[1], reverse=False)))\n",
    "        return d\n",
    "    except Exception as e:\n",
    "        print(e)\n",
    "        logging.info('error: '+str(e))\n",
    "        logging.error(e)"
   ]
  },
  {
   "cell_type": "code",
   "execution_count": 15,
   "id": "844ed45e",
   "metadata": {},
   "outputs": [
    {
     "name": "stdout",
     "output_type": "stream",
     "text": [
      "OrderedDict([('d', 0), ('m', 1), ('a', 2), ('x', 9), ('f', 96)])\n"
     ]
    }
   ],
   "source": [
    "u = {\n",
    "    'a':2,'x':9,'m':1,'d':0,'f':96\n",
    "}\n",
    "print(SortKeyVal(u,'values'))"
   ]
  },
  {
   "cell_type": "code",
   "execution_count": null,
   "id": "3696052d",
   "metadata": {},
   "outputs": [],
   "source": []
  }
 ],
 "metadata": {
  "kernelspec": {
   "display_name": "Python 3 (ipykernel)",
   "language": "python",
   "name": "python3"
  },
  "language_info": {
   "codemirror_mode": {
    "name": "ipython",
    "version": 3
   },
   "file_extension": ".py",
   "mimetype": "text/x-python",
   "name": "python",
   "nbconvert_exporter": "python",
   "pygments_lexer": "ipython3",
   "version": "3.9.7"
  }
 },
 "nbformat": 4,
 "nbformat_minor": 5
}
