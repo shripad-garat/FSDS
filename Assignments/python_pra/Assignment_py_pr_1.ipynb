{
 "cells": [
  {
   "cell_type": "code",
   "execution_count": 1,
   "id": "781c856c",
   "metadata": {},
   "outputs": [
    {
     "name": "stdout",
     "output_type": "stream",
     "text": [
      "Hello world\n"
     ]
    }
   ],
   "source": [
    "print('Hello world')"
   ]
  },
  {
   "cell_type": "code",
   "execution_count": 11,
   "id": "1322cc26",
   "metadata": {},
   "outputs": [
    {
     "name": "stdout",
     "output_type": "stream",
     "text": [
      "Enter the the operation\n",
      "    Addition --> +\n",
      "    Subtraction --> -\n",
      "    Multlipy --> *\n",
      "    division -- > / \n",
      "    Stop the calclation --> &*\n",
      "Enter the first no.5\n",
      "Enter the Second no.7\n",
      "Calculation:5*7=35\n",
      "Enter the the operation\n",
      "    Addition --> +\n",
      "    Subtraction --> -\n",
      "    Multlipy --> *\n",
      "    division -- > / \n",
      "    Stop the calclation --> &0\n",
      "Signoff\n"
     ]
    }
   ],
   "source": [
    "while True:\n",
    "    opp = input('''Enter the the operation\n",
    "    Addition --> +\n",
    "    Subtraction --> -\n",
    "    Multlipy --> *\n",
    "    division -- > / \n",
    "    Stop the calclation --> &''')\n",
    "    opps = ['*','-','+','/']\n",
    "    if opp in opps:\n",
    "        a = int(input('Enter the first no.'))\n",
    "        b = int(input('Enter the Second no.'))\n",
    "        if(opp =='+'):\n",
    "            c = a+ b\n",
    "        elif opp == '-':\n",
    "            c = a - b\n",
    "        elif opp == '*':\n",
    "            c = a*b\n",
    "        else:\n",
    "            c = a/b\n",
    "        print('Calculation:'+ str(a) + opp + str(b) + '=' + str(c))\n",
    "    elif opp == '0':\n",
    "        print(\"Signoff\")\n",
    "        break\n",
    "    else : \n",
    "        print('Enter a valid operation')"
   ]
  },
  {
   "cell_type": "code",
   "execution_count": 12,
   "id": "c1dfbb45",
   "metadata": {},
   "outputs": [
    {
     "name": "stdout",
     "output_type": "stream",
     "text": [
      "enter the hight of triangle5\n",
      "Enter the base of trangel6\n",
      "Area of trangle is 15.0\n"
     ]
    }
   ],
   "source": [
    "h = float(input(\"enter the hight of triangle\"))\n",
    "b = float(input('Enter the base of trangel'))\n",
    "a = (1/2)*(h*b)\n",
    "print('Area of trangle is '+str(a))"
   ]
  },
  {
   "cell_type": "code",
   "execution_count": 14,
   "id": "8ac4cde1",
   "metadata": {},
   "outputs": [
    {
     "name": "stdout",
     "output_type": "stream",
     "text": [
      "First value 65\n",
      "second value 8\n",
      "after swap value of first is 8 and second is 65\n"
     ]
    }
   ],
   "source": [
    "a = int(input(\"First value \"))\n",
    "b = int(input('second value '))\n",
    "temp = a\n",
    "a = b\n",
    "b = temp\n",
    "print('after swap value of first is '+str(a)+' and second is '+str(b))"
   ]
  },
  {
   "cell_type": "code",
   "execution_count": 16,
   "id": "9053be21",
   "metadata": {},
   "outputs": [
    {
     "name": "stdout",
     "output_type": "stream",
     "text": [
      "Random number ->  37487\n"
     ]
    }
   ],
   "source": [
    "from random import randint\n",
    "print('Random number -> ',randint(0,100000))"
   ]
  },
  {
   "cell_type": "code",
   "execution_count": null,
   "id": "a63d33c0",
   "metadata": {},
   "outputs": [],
   "source": []
  }
 ],
 "metadata": {
  "kernelspec": {
   "display_name": "Python 3 (ipykernel)",
   "language": "python",
   "name": "python3"
  },
  "language_info": {
   "codemirror_mode": {
    "name": "ipython",
    "version": 3
   },
   "file_extension": ".py",
   "mimetype": "text/x-python",
   "name": "python",
   "nbconvert_exporter": "python",
   "pygments_lexer": "ipython3",
   "version": "3.9.7"
  }
 },
 "nbformat": 4,
 "nbformat_minor": 5
}
