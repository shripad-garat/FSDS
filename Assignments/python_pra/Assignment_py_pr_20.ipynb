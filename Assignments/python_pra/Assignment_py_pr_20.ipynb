{
 "cells": [
  {
   "cell_type": "markdown",
   "id": "3c6c9bb8",
   "metadata": {},
   "source": [
    "### Question1\n",
    "Create a function that takes a list of strings and integers, and filters out the list so that it\n",
    "returns a list of integers only."
   ]
  },
  {
   "cell_type": "code",
   "execution_count": 1,
   "id": "2fb457aa",
   "metadata": {},
   "outputs": [],
   "source": [
    "import logging\n",
    "import math\n",
    "logging.basicConfig(filename = 'log_Assignment_20.log',level = logging.DEBUG, format = '%(asctime)s : %(levelname)s : %(message)s')\n"
   ]
  },
  {
   "cell_type": "code",
   "execution_count": 2,
   "id": "fa37b816",
   "metadata": {},
   "outputs": [],
   "source": [
    "logging.info('Question 1: Create a function that takes a list of strings and integers, and filters out the list so that it returns a list of integers only.')\n",
    "logging.info('Start executing Question 1')"
   ]
  },
  {
   "cell_type": "code",
   "execution_count": 3,
   "id": "6d2e860e",
   "metadata": {},
   "outputs": [],
   "source": [
    "def filter_list(l):\n",
    "    '''filters out the list so that it returns a list of integers only.'''\n",
    "    try:\n",
    "        return [i for i in l if type(i)==int]\n",
    "    except Exception as e:\n",
    "        print(e)\n",
    "        logging.info(f'Error Occure: {e}')"
   ]
  },
  {
   "cell_type": "code",
   "execution_count": 4,
   "id": "181ff0bf",
   "metadata": {},
   "outputs": [
    {
     "data": {
      "text/plain": [
       "[1, 2, 3, 5, 6, 7]"
      ]
     },
     "execution_count": 4,
     "metadata": {},
     "output_type": "execute_result"
    }
   ],
   "source": [
    "filter_list([1,2,3,'a','b','c',5,6,7])"
   ]
  },
  {
   "cell_type": "markdown",
   "id": "dec1cc11",
   "metadata": {},
   "source": [
    "### Question2\n",
    "Given a list of numbers, create a function which returns the list but with each element&#39;s\n",
    "index in the list added to itself. This means you add 0 to the number at index 0, add 1 to the\n",
    "number at index 1, etc..."
   ]
  },
  {
   "cell_type": "code",
   "execution_count": 5,
   "id": "750a383d",
   "metadata": {},
   "outputs": [],
   "source": [
    "logging.info('Question 2: Given a list of numbers, create a function which returns the list but with each elements index in the list added to itself. This means you add 0 to the number at index 0, add 1 to the number at index 1, etc...')\n",
    "logging.info('Start executing Question 2')"
   ]
  },
  {
   "cell_type": "code",
   "execution_count": 6,
   "id": "c32889af",
   "metadata": {},
   "outputs": [],
   "source": [
    "def add_indexes(l):\n",
    "    '''returns the list but with each elements index in the list added to itself.'''\n",
    "    try:\n",
    "        return [i+l[i] for i in range(len(l))]\n",
    "    except Exception as e:\n",
    "        print(e)\n",
    "        logging.info(f'Error Occured: {e}')"
   ]
  },
  {
   "cell_type": "code",
   "execution_count": 7,
   "id": "010cd934",
   "metadata": {},
   "outputs": [
    {
     "data": {
      "text/plain": [
       "[0, 1, 2, 3, 4]"
      ]
     },
     "execution_count": 7,
     "metadata": {},
     "output_type": "execute_result"
    }
   ],
   "source": [
    "add_indexes([0, 0, 0, 0, 0])"
   ]
  },
  {
   "cell_type": "markdown",
   "id": "5832c4fe",
   "metadata": {},
   "source": [
    "### Question3\n",
    "Create a function that takes the height and radius of a cone as arguments and returns the\n",
    "volume of the cone rounded to the nearest hundredth. See the resources tab for the formula."
   ]
  },
  {
   "cell_type": "code",
   "execution_count": 8,
   "id": "a496bdb1",
   "metadata": {},
   "outputs": [],
   "source": [
    "logging.info('Question 3: Create a function that takes the height and radius of a cone as arguments and returns the volume of the cone rounded to the nearest hundredth. See the resources tab for the formula.')\n",
    "logging.info('Start executing Question 3')"
   ]
  },
  {
   "cell_type": "code",
   "execution_count": 9,
   "id": "29a63bdb",
   "metadata": {},
   "outputs": [],
   "source": [
    "def cone_volume(h,r):\n",
    "    ''' returns the volume of the cone rounded to the nearest hundredth'''\n",
    "    try:\n",
    "        form = math.pi*(r**2)*h/3\n",
    "        return round(form,2)\n",
    "    except Exception as e:\n",
    "        print(e)\n",
    "        logging.info(f'Error Occured: {e}')"
   ]
  },
  {
   "cell_type": "code",
   "execution_count": 10,
   "id": "001e9420",
   "metadata": {},
   "outputs": [
    {
     "data": {
      "text/plain": [
       "12.57"
      ]
     },
     "execution_count": 10,
     "metadata": {},
     "output_type": "execute_result"
    }
   ],
   "source": [
    "cone_volume(3, 2)"
   ]
  },
  {
   "cell_type": "markdown",
   "id": "68ebcc49",
   "metadata": {},
   "source": [
    "### Question4\n",
    "This Triangular Number Sequence is generated from a pattern of dots that form a triangle.\n",
    "The first 5 numbers of the sequence, or dots, are:\n",
    "1, 3, 6, 10, 15\n",
    "This means that the first triangle has just one dot, the second one has three dots, the third one\n",
    "has 6 dots and so on.\n",
    "Write a function that gives the number of dots with its corresponding triangle number of the\n",
    "sequence."
   ]
  },
  {
   "cell_type": "code",
   "execution_count": 11,
   "id": "d26f59f4",
   "metadata": {},
   "outputs": [],
   "source": [
    "logging.info('Question 4: This Triangular Number Sequence is generated from a pattern of dots that form a triangle. The first 5 numbers of the sequence, or dots, are: 1, 3, 6, 10, 15 This means that the first triangle has just one dot, the second one has three dots, the third one has 6 dots and so on. Write a function that gives the number of dots with its corresponding triangle number of the sequence.')\n",
    "logging.info('Start executing Question 3')"
   ]
  },
  {
   "cell_type": "code",
   "execution_count": 12,
   "id": "287f7b09",
   "metadata": {},
   "outputs": [],
   "source": [
    "def triangle(n):\n",
    "    '''number of dots with its corresponding triangle number of the sequence'''\n",
    "    try:\n",
    "        return sum([i for i in range(n+1)])\n",
    "    except Exception as e:\n",
    "        print(e)\n",
    "        logging.info(f'Error Occured: {e}')"
   ]
  },
  {
   "cell_type": "code",
   "execution_count": 13,
   "id": "81a52ec8",
   "metadata": {},
   "outputs": [
    {
     "data": {
      "text/plain": [
       "23220"
      ]
     },
     "execution_count": 13,
     "metadata": {},
     "output_type": "execute_result"
    }
   ],
   "source": [
    "triangle(215)"
   ]
  },
  {
   "cell_type": "markdown",
   "id": "56a9e902",
   "metadata": {},
   "source": [
    "### Question5\n",
    "Create a function that takes a list of numbers between 1 and 10 (excluding one number) and\n",
    "returns the missing number."
   ]
  },
  {
   "cell_type": "code",
   "execution_count": 14,
   "id": "54b3967f",
   "metadata": {},
   "outputs": [],
   "source": [
    "logging.info('Question 4: Create a function that takes a list of numbers between 1 and 10 (excluding one number) and returns the missing number.')\n",
    "logging.info('Start executing Question 4')"
   ]
  },
  {
   "cell_type": "code",
   "execution_count": 15,
   "id": "aa009daa",
   "metadata": {},
   "outputs": [],
   "source": [
    "def missing_num(l):\n",
    "    '''takes a list of numbers between 1 and 10 (excluding one number) and returns the missing number'''\n",
    "    try:\n",
    "        return [i for i in range(2,11) if i not in l][0]\n",
    "    except Exception as e:\n",
    "        print(e)\n",
    "        logging.info(f'Error Occured: {e}')"
   ]
  },
  {
   "cell_type": "code",
   "execution_count": 16,
   "id": "5666ba70",
   "metadata": {},
   "outputs": [
    {
     "data": {
      "text/plain": [
       "5"
      ]
     },
     "execution_count": 16,
     "metadata": {},
     "output_type": "execute_result"
    }
   ],
   "source": [
    "missing_num([1, 2, 3, 4, 6, 7, 8, 9, 10])"
   ]
  },
  {
   "cell_type": "code",
   "execution_count": null,
   "id": "42241974",
   "metadata": {},
   "outputs": [],
   "source": []
  }
 ],
 "metadata": {
  "kernelspec": {
   "display_name": "Python 3 (ipykernel)",
   "language": "python",
   "name": "python3"
  },
  "language_info": {
   "codemirror_mode": {
    "name": "ipython",
    "version": 3
   },
   "file_extension": ".py",
   "mimetype": "text/x-python",
   "name": "python",
   "nbconvert_exporter": "python",
   "pygments_lexer": "ipython3",
   "version": "3.9.7"
  }
 },
 "nbformat": 4,
 "nbformat_minor": 5
}
