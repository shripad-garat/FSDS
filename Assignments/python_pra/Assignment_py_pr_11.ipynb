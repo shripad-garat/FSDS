{
 "cells": [
  {
   "cell_type": "code",
   "execution_count": 1,
   "id": "6a8b0bde",
   "metadata": {},
   "outputs": [],
   "source": [
    "import logging \n",
    "logging.basicConfig(filename='log_Assignment_11.log',level=logging.DEBUG, format='%(asctime)s : %(levelname)s : %(message)s')"
   ]
  },
  {
   "cell_type": "markdown",
   "id": "29e55a34",
   "metadata": {},
   "source": [
    "## Q1. Write a Python program to find words which are greater than given length k?"
   ]
  },
  {
   "cell_type": "code",
   "execution_count": 4,
   "id": "661f7e87",
   "metadata": {},
   "outputs": [],
   "source": [
    "def lenWord(s,k):\n",
    "    '''This program will return the words which are greater than given length K\n",
    "    s --> Input string/List\n",
    "    k --> length'''\n",
    "    logging.info('start executing the Q1. Write a Python program to find words which are greater than given length k?')\n",
    "    logging.info('Finding words which are greater than given lenght k -->'+str(k)+' from the given string '+str(s))\n",
    "    try:\n",
    "        if type(s) == str:\n",
    "            s = s.split()\n",
    "        words = [i for i in s if len(i)>k]\n",
    "        logging.info('Returning the words which matches the conditio : '+str(words))\n",
    "        return words\n",
    "    except Exception as e:\n",
    "        print('Error: ',e)\n",
    "        logging.info('Error: ',e)\n",
    "        logging.error(e)\n",
    "\n",
    "    "
   ]
  },
  {
   "cell_type": "code",
   "execution_count": 5,
   "id": "be829c02",
   "metadata": {},
   "outputs": [
    {
     "name": "stdout",
     "output_type": "stream",
     "text": [
      "['ineuron,', 'shripad', 'support', 'learning']\n"
     ]
    }
   ],
   "source": [
    "s = 'Hi ineuron, shripad here thank you for your support and learning'\n",
    "print(lenWord(s,5))"
   ]
  },
  {
   "cell_type": "markdown",
   "id": "5bd83ea9",
   "metadata": {},
   "source": [
    "## Q2. Write a Python program for removing i-th character from a string? "
   ]
  },
  {
   "cell_type": "code",
   "execution_count": 14,
   "id": "24e12cb4",
   "metadata": {},
   "outputs": [],
   "source": [
    "def ReplaceChar(s,n):\n",
    "    '''This program will string with removed character from i-th place.\n",
    "    s --> Input string/List\n",
    "    i --> Index'''\n",
    "    logging.info('start executing the Q2. Write a Python program for removing i-th character from a string?')\n",
    "    try:\n",
    "        rs = ''.join([s[i] for i in range(len(s)) if i !=n ])\n",
    "        logging.info('Returning the string s which matches the conditio : '+str(s))\n",
    "        return rs\n",
    "    except Exception as e:\n",
    "        print('Error: ',e)\n",
    "        logging.info('Error: ',e)\n",
    "        logging.error(e)"
   ]
  },
  {
   "cell_type": "code",
   "execution_count": 15,
   "id": "20959195",
   "metadata": {},
   "outputs": [
    {
     "name": "stdout",
     "output_type": "stream",
     "text": [
      "Hi inuron, shripad here thank you for your support and learning\n"
     ]
    }
   ],
   "source": [
    "s = 'Hi ineuron, shripad here thank you for your support and learning'\n",
    "print(ReplaceChar(s,5))"
   ]
  },
  {
   "cell_type": "markdown",
   "id": "251592a2",
   "metadata": {},
   "source": [
    "##  Q3. Write a Python program to split and join a string?"
   ]
  },
  {
   "cell_type": "code",
   "execution_count": 16,
   "id": "3591302d",
   "metadata": {},
   "outputs": [],
   "source": [
    "def splitAndjoin(s):\n",
    "    '''This program will return the split and join a string\n",
    "    s--> Input String'''\n",
    "    logging.info('Start executing the Q3. Write a Python program to split and join a string?')\n",
    "    try:\n",
    "        split = s.split()\n",
    "        join = ''.join(s.split())\n",
    "        return split,join\n",
    "    except Exception as e:\n",
    "        print('Error: ',e)\n",
    "        logging.info('Error: ',e)\n",
    "        logging.error(e)"
   ]
  },
  {
   "cell_type": "code",
   "execution_count": 17,
   "id": "4c36396c",
   "metadata": {},
   "outputs": [
    {
     "name": "stdout",
     "output_type": "stream",
     "text": [
      "(['Hi', 'ineuron,', 'shripad', 'here', 'thank', 'you', 'for', 'your', 'support', 'and', 'learning'], 'Hiineuron,shripadherethankyouforyoursupportandlearning')\n"
     ]
    }
   ],
   "source": [
    "s = 'Hi ineuron, shripad here thank you for your support and learning'\n",
    "print(splitAndjoin(s))"
   ]
  },
  {
   "cell_type": "markdown",
   "id": "17e58f77",
   "metadata": {},
   "source": [
    "## Q4. Write a Python to check if a given string is binary string or not?"
   ]
  },
  {
   "cell_type": "code",
   "execution_count": 18,
   "id": "306c36e5",
   "metadata": {},
   "outputs": [],
   "source": [
    "def Isbinarystr(s):\n",
    "    '''THis program will return True if a given string is binary or else False\n",
    "    s --> Input String'''\n",
    "    logging.info('Start executing the Q4. Write a Python to check if a given string is binary string or not?')\n",
    "    try:\n",
    "        status = 1\n",
    "        for i in s:\n",
    "            if (i == '1') or  (i == '0'):\n",
    "                continue\n",
    "            else:\n",
    "                return False\n",
    "        return True\n",
    "    except Exception as e:\n",
    "        print('Error: ',e)\n",
    "        logging.info('Error: ',e)\n",
    "        logging.error(e)"
   ]
  },
  {
   "cell_type": "code",
   "execution_count": 19,
   "id": "511bc4c3",
   "metadata": {},
   "outputs": [
    {
     "name": "stdout",
     "output_type": "stream",
     "text": [
      "False\n",
      "True\n"
     ]
    }
   ],
   "source": [
    "s = 'Hi ineuron, shripad here thank you for your support and learning'\n",
    "print(Isbinarystr(s))\n",
    "s = '1011011010101010101010'\n",
    "print(Isbinarystr(s))"
   ]
  },
  {
   "cell_type": "markdown",
   "id": "7e7240d6",
   "metadata": {},
   "source": [
    "## Q5. Write a Python program to find uncommon words from two Strings?"
   ]
  },
  {
   "cell_type": "code",
   "execution_count": 24,
   "id": "9b21c3ea",
   "metadata": {},
   "outputs": [],
   "source": [
    "def Uncommon(s,c):\n",
    "    '''This function will return the uncommon words from two strings\n",
    "    s --> Input string 1\n",
    "    c --> Input string 2'''\n",
    "    logging.info('Start executing Q5. Write a Python program to find uncommon words from two Strings?')\n",
    "    try:\n",
    "        s,c = s.lower(),c.lower()\n",
    "        s = s.split()\n",
    "        c = c.split()\n",
    "        l1 = [i for i in s if i not in c]\n",
    "        l2 = [i for i in c if i not in s]\n",
    "        return l1+l2\n",
    "    except Exception as e:\n",
    "        print('Error: ',e)\n",
    "        logging.info('Error: ',e)\n",
    "        logging.error(e)"
   ]
  },
  {
   "cell_type": "code",
   "execution_count": 25,
   "id": "ddc401d6",
   "metadata": {},
   "outputs": [
    {
     "name": "stdout",
     "output_type": "stream",
     "text": [
      "['good', 'girl', 'topper', 'of', 'the', 'batch']\n"
     ]
    }
   ],
   "source": [
    "s = 'Neha is a good girl'\n",
    "c = 'Neha is a topper of the batch'\n",
    "print(Uncommon(s,c))"
   ]
  },
  {
   "cell_type": "markdown",
   "id": "e98cbc8b",
   "metadata": {},
   "source": [
    "## Q6. Write a Python to find all duplicate characters in string?"
   ]
  },
  {
   "cell_type": "code",
   "execution_count": 28,
   "id": "5f528c40",
   "metadata": {},
   "outputs": [],
   "source": [
    "def duplicate(s):\n",
    "    '''This function will return the all duplicate characters from string\n",
    "    s --> Input String'''\n",
    "    logging.info('Start executing Q6. Write a Python to find all duplicate characters in string?')\n",
    "    try:\n",
    "        dic = {}\n",
    "        for i in s:\n",
    "            if i == ' ':\n",
    "                continue\n",
    "            elif i in dic:\n",
    "                dic[i] += 1\n",
    "            else :\n",
    "                dic[i] = 1\n",
    "        dup = [i for i in dic if dic[i]>1]\n",
    "        return dup\n",
    "    except Exception as e:\n",
    "        print('Error: ',e)\n",
    "        logging.info('Error: ',e)\n",
    "        logging.error(e)"
   ]
  },
  {
   "cell_type": "code",
   "execution_count": 29,
   "id": "ff737984",
   "metadata": {},
   "outputs": [
    {
     "name": "stdout",
     "output_type": "stream",
     "text": [
      "['i', 'n', 'e', 'u', 'r', 'o', 's', 'h', 'p', 'a', 'd', 't', 'y']\n"
     ]
    }
   ],
   "source": [
    "s = 'Hi ineuron, shripad here thank you for your support and learning'\n",
    "print(duplicate(s))"
   ]
  },
  {
   "cell_type": "markdown",
   "id": "02a950d7",
   "metadata": {},
   "source": [
    "## Q7. Write a Python Program to check if a string contains any special character?"
   ]
  },
  {
   "cell_type": "code",
   "execution_count": 30,
   "id": "63371ee1",
   "metadata": {},
   "outputs": [],
   "source": [
    "def isSpeChar(s):\n",
    "    '''This function will return True if string contain special character or else False'''\n",
    "    logging.info('Start executing Q7. Write a Python Program to check if a string contains any special character?')\n",
    "    try:\n",
    "        spe = '!@#$%^&*_-|\\/?><'\n",
    "        for i in s:\n",
    "            if i in spe:\n",
    "                return True\n",
    "            else:\n",
    "                continue\n",
    "        return False\n",
    "    except Exception as e:\n",
    "        print('Error: ',e)\n",
    "        logging.info('Error: ',e)\n",
    "        logging.error(e)"
   ]
  },
  {
   "cell_type": "code",
   "execution_count": 31,
   "id": "82879693",
   "metadata": {},
   "outputs": [
    {
     "name": "stdout",
     "output_type": "stream",
     "text": [
      "True\n"
     ]
    }
   ],
   "source": [
    "s = 'Hi ineuron, @shripad here thank you for your support and learning'\n",
    "print(isSpeChar(s))"
   ]
  },
  {
   "cell_type": "code",
   "execution_count": null,
   "id": "ad9d081a",
   "metadata": {},
   "outputs": [],
   "source": []
  }
 ],
 "metadata": {
  "kernelspec": {
   "display_name": "Python 3 (ipykernel)",
   "language": "python",
   "name": "python3"
  },
  "language_info": {
   "codemirror_mode": {
    "name": "ipython",
    "version": 3
   },
   "file_extension": ".py",
   "mimetype": "text/x-python",
   "name": "python",
   "nbconvert_exporter": "python",
   "pygments_lexer": "ipython3",
   "version": "3.9.7"
  }
 },
 "nbformat": 4,
 "nbformat_minor": 5
}
