{
 "cells": [
  {
   "cell_type": "code",
   "execution_count": 1,
   "id": "9c4d9502",
   "metadata": {},
   "outputs": [],
   "source": [
    "import logging \n",
    "logging.basicConfig(filename='log_Assignment_10.log',level=logging.DEBUG , format='%(asctime)s : %(levelname)s : %(message)s')"
   ]
  },
  {
   "cell_type": "markdown",
   "id": "f0f7c83c",
   "metadata": {},
   "source": [
    "#### Question 1:\n",
    "Write a program that calculates and prints the value according to the given formula:\n",
    "Q = Square root of [(2 * C * D)/H]\n",
    "Following are the fixed values of C and H:\n",
    "C is 50. H is 30.\n",
    "D is the variable whose values should be input to your program in a comma-separated\n",
    "sequence."
   ]
  },
  {
   "cell_type": "code",
   "execution_count": 2,
   "id": "fb2b12d2",
   "metadata": {},
   "outputs": [],
   "source": [
    "def formulaCal():\n",
    "    '''This Function will return the calculation of formula Q = Square root of [(2 * C * D)/H]\n",
    "    where C = 50\n",
    "    H = 30\n",
    "    D--> variable whose values should be input to your program in a comma-separated sequence'''\n",
    "    logging.info('Start Executing Question 1')\n",
    "    try:\n",
    "        D = input('Enter your comma-separated Sequence').split(',')\n",
    "        C,H = 50,30\n",
    "        Q = [str(round(((2*C*int(i))/H)**(1/2))) for i in D]\n",
    "        Q = ','.join(Q)\n",
    "        print(Q)\n",
    "    except Exception as e:\n",
    "        print(e)\n",
    "        logging.info('Error: '+str(e))\n",
    "        logging.error(e)"
   ]
  },
  {
   "cell_type": "code",
   "execution_count": 3,
   "id": "5e0ac9e7",
   "metadata": {},
   "outputs": [
    {
     "name": "stdout",
     "output_type": "stream",
     "text": [
      "Enter your comma-separated Sequence100,150,180,600,935\n",
      "18,22,24,45,56\n"
     ]
    }
   ],
   "source": [
    "formulaCal()"
   ]
  },
  {
   "cell_type": "markdown",
   "id": "2ad052d3",
   "metadata": {},
   "source": [
    "#### Question 2:\n",
    "Write a program which takes 2 digits, X,Y as input and generates a 2-dimensional array. The\n",
    "element value in the i-th row and j-th column of the array should be i*j.\n",
    "Note: i=0,1.., X-1; j=0,1,¡Y-1."
   ]
  },
  {
   "cell_type": "code",
   "execution_count": 4,
   "id": "666ef758",
   "metadata": {},
   "outputs": [],
   "source": [
    "def array2D(x,y):\n",
    "    '''This function will return the 2-dimension arrya with condition discuss in the above Question\n",
    "    x,y --> Input dimention of required array'''\n",
    "    logging.info('Start Executing Question 2')\n",
    "    try:\n",
    "        array = []\n",
    "        for i in range(x):\n",
    "            temp = []\n",
    "            for j in range(y):\n",
    "                temp.append(i*j)\n",
    "            array.append(temp)\n",
    "        return array\n",
    "    except Exception as e:\n",
    "        print(e)\n",
    "        logging.info('Error: '+str(e))\n",
    "        logging.error(e)"
   ]
  },
  {
   "cell_type": "code",
   "execution_count": 5,
   "id": "ba444742",
   "metadata": {},
   "outputs": [
    {
     "name": "stdout",
     "output_type": "stream",
     "text": [
      "[[0, 0, 0, 0, 0], [0, 1, 2, 3, 4], [0, 2, 4, 6, 8]]\n"
     ]
    }
   ],
   "source": [
    "x = 3\n",
    "y = 5\n",
    "print(array2D(x,y))"
   ]
  },
  {
   "cell_type": "markdown",
   "id": "62022136",
   "metadata": {},
   "source": [
    "#### Question 3:\n",
    "Write a program that accepts a comma separated sequence of words as input and prints the\n",
    "words in a comma-separated sequence after sorting them alphabetically."
   ]
  },
  {
   "cell_type": "code",
   "execution_count": 6,
   "id": "ee30cee6",
   "metadata": {},
   "outputs": [],
   "source": [
    "def sortWord(s):\n",
    "    '''This function will return the words in a comma-separated sequence after sorting \n",
    "    s --> input string'''\n",
    "    logging.info('Start executing Question 3')\n",
    "    try:\n",
    "        s = s.split(',')\n",
    "        s = sorted(s)\n",
    "        s = ','.join(s)\n",
    "        return s\n",
    "    except Exception as e:\n",
    "        print(e)\n",
    "        logging.info('Error: '+str(e))\n",
    "        logging.error(e)"
   ]
  },
  {
   "cell_type": "code",
   "execution_count": 7,
   "id": "68c59068",
   "metadata": {},
   "outputs": [
    {
     "name": "stdout",
     "output_type": "stream",
     "text": [
      "bag,hello,without,world\n"
     ]
    }
   ],
   "source": [
    "s = 'without,hello,bag,world'\n",
    "print(sortWord(s))"
   ]
  },
  {
   "cell_type": "markdown",
   "id": "b5d647cd",
   "metadata": {},
   "source": [
    "#### Question 4:\n",
    "Write a program that accepts a sequence of whitespace separated words as input and prints\n",
    "the words after removing all duplicate words and sorting them alphanumerically."
   ]
  },
  {
   "cell_type": "code",
   "execution_count": 8,
   "id": "cdd02bad",
   "metadata": {},
   "outputs": [],
   "source": [
    "def removeDuplicateAndSort(s):\n",
    "    '''This function will return the words after removing all duplicate words and sorting them alphanumerically'''\n",
    "    logging.info('Start Executing Question 4')\n",
    "    try:\n",
    "        s = set(s.split())\n",
    "        s = sorted(list(s))\n",
    "        s = ' '.join(s)\n",
    "        return s\n",
    "    except Exception as e:\n",
    "        print(e)\n",
    "        logging.info('Error: '+str(e))\n",
    "        logging.error(e)"
   ]
  },
  {
   "cell_type": "code",
   "execution_count": 9,
   "id": "9ab79ef1",
   "metadata": {},
   "outputs": [
    {
     "name": "stdout",
     "output_type": "stream",
     "text": [
      "again and hello makes perfect practice world\n"
     ]
    }
   ],
   "source": [
    "s = 'hello world and practice makes perfect and hello world again'\n",
    "print(removeDuplicateAndSort(s))"
   ]
  },
  {
   "cell_type": "markdown",
   "id": "2082537d",
   "metadata": {},
   "source": [
    "#### Question 5:\n",
    "Write a program that accepts a sentence and calculate the number of letters and digits.\n",
    "Suppose the following input is supplied to the program:"
   ]
  },
  {
   "cell_type": "code",
   "execution_count": 10,
   "id": "99c83055",
   "metadata": {},
   "outputs": [],
   "source": [
    "def count(s):\n",
    "    '''This function will calculate the number of letters and digits from given string'''\n",
    "    logging.info('Start Executing Question 5')\n",
    "    try:\n",
    "        letter,digits = 0,0\n",
    "        for i in s.split():\n",
    "            i = i.lower()\n",
    "            for j in i:\n",
    "                if j.isnumeric():\n",
    "                    digits += 1\n",
    "                elif (97<=ord(j)) and (ord(j)<=122):\n",
    "                    letter += 1\n",
    "        print('LETTER : '+str(letter)+'\\nDIGITS : '+str(digits))\n",
    "    except Exception as e:\n",
    "        print(e)\n",
    "        logging.info('Error: '+str(e))\n",
    "        logging.error(e)"
   ]
  },
  {
   "cell_type": "code",
   "execution_count": 11,
   "id": "13364e6e",
   "metadata": {},
   "outputs": [
    {
     "name": "stdout",
     "output_type": "stream",
     "text": [
      "LETTER : 10\n",
      "DIGITS : 3\n"
     ]
    }
   ],
   "source": [
    "s = 'hello world! 123'\n",
    "count(s)"
   ]
  },
  {
   "cell_type": "markdown",
   "id": "25e3cfbc",
   "metadata": {},
   "source": [
    "#### Question 6:\n",
    "A website requires the users to input username and password to register. Write a program to\n",
    "check the validity of password input by users."
   ]
  },
  {
   "cell_type": "code",
   "execution_count": 27,
   "id": "a17a177e",
   "metadata": {},
   "outputs": [],
   "source": [
    "def passwordValidity(p):\n",
    "    '''This function will check the validity of password and return password which meets the validation'''\n",
    "    logging.info('Start Executing Question 6')\n",
    "    try:\n",
    "        p = p.split(',')\n",
    "        q = []\n",
    "        for i in p:\n",
    "            s1,s2,s3,s4 = False,False,False,False\n",
    "            if (len(i)>=6)and(len(i)<=12):\n",
    "                for j in i:\n",
    "                    o = ord(j)\n",
    "                    if (o>=ord('a'))and(o<=ord('z')):\n",
    "                        s1 = True\n",
    "                    if (o>=ord('0'))and(o<=ord('9')):\n",
    "                        s2 = True\n",
    "                    if (o>=ord('A'))and(o<=ord('Z')):\n",
    "                        s3 = True\n",
    "                    if j in ['#','@','$']:\n",
    "                        s4 = True\n",
    "            if (s1 and s2 and s3 and s4)== True:\n",
    "                q.append(i)\n",
    "        return ','.join(q)\n",
    "    except Exception as e:\n",
    "        print(e)\n",
    "        logging.info('Error: '+str(e))\n",
    "        logging.error(e)"
   ]
  },
  {
   "cell_type": "code",
   "execution_count": 28,
   "id": "c8009bb1",
   "metadata": {},
   "outputs": [
    {
     "name": "stdout",
     "output_type": "stream",
     "text": [
      "ABd1234@1\n"
     ]
    }
   ],
   "source": [
    "p = 'ABd1234@1,a F1#,2w3E*,2We3345'\n",
    "print(passwordValidity(p))"
   ]
  },
  {
   "cell_type": "code",
   "execution_count": null,
   "id": "0fffe0f0",
   "metadata": {},
   "outputs": [],
   "source": []
  }
 ],
 "metadata": {
  "kernelspec": {
   "display_name": "Python 3 (ipykernel)",
   "language": "python",
   "name": "python3"
  },
  "language_info": {
   "codemirror_mode": {
    "name": "ipython",
    "version": 3
   },
   "file_extension": ".py",
   "mimetype": "text/x-python",
   "name": "python",
   "nbconvert_exporter": "python",
   "pygments_lexer": "ipython3",
   "version": "3.9.7"
  }
 },
 "nbformat": 4,
 "nbformat_minor": 5
}
