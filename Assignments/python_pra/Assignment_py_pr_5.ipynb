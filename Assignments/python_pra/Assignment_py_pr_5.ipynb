{
 "cells": [
  {
   "cell_type": "markdown",
   "id": "c485c415",
   "metadata": {},
   "source": [
    "Q1. Write a Python Program to Find LCM?"
   ]
  },
  {
   "cell_type": "code",
   "execution_count": 1,
   "id": "acf0fc4c",
   "metadata": {},
   "outputs": [],
   "source": [
    "import logging \n",
    "logging.basicConfig(filename= 'Py_Assignment_5.log', level = logging.DEBUG, format = '%(asctime)s : %(levelname)s : %(message)s')"
   ]
  },
  {
   "cell_type": "code",
   "execution_count": null,
   "id": "4b0b0639",
   "metadata": {},
   "outputs": [],
   "source": []
  },
  {
   "cell_type": "code",
   "execution_count": 2,
   "id": "f0d0dc2d",
   "metadata": {},
   "outputs": [],
   "source": [
    "logging.info('Starting exicuting Q1. Write a Python Program to Find LCM?')\n",
    "def GCD(a,b):\n",
    "    '''This function will return the GCM or HCF'''\n",
    "    try:\n",
    "        logging.info(f'Calculating GCD of {a} and {b}')\n",
    "        while(True):\n",
    "            if a > b:\n",
    "                temp = b\n",
    "                b = a%b\n",
    "                a = temp\n",
    "            else:\n",
    "                temp = a\n",
    "                a = b%a\n",
    "                b = temp\n",
    "            if (a == 0) or (b == 0):\n",
    "                break\n",
    "            gcd = GCD(a,b)\n",
    "            \n",
    "        if a == 0:\n",
    "            gcd = b\n",
    "        elif b == 0:\n",
    "            gcd = a\n",
    "        logging.info('GCD calculated successfuly')\n",
    "        return gcd\n",
    "    except Exception as e:\n",
    "        print(e)\n",
    "        logging.error('Error Ocured')\n",
    "        logging.exception('Exception: ',e)\n",
    "            \n"
   ]
  },
  {
   "cell_type": "code",
   "execution_count": 3,
   "id": "b0534289",
   "metadata": {},
   "outputs": [],
   "source": [
    "def LCM(a,b):\n",
    "    ''' This  function will return the LCM of two number'''\n",
    "    try:\n",
    "        logging.info(f'Executing the LCM operation on {a} and {b}')\n",
    "        lcm = (a*b)/GCD(a,b)\n",
    "        logging.info('LCM calculated successfully')\n",
    "        return lcm\n",
    "    except Exception as e:\n",
    "        print(e)\n",
    "        logging.error('Error ocured')\n",
    "        logging.exception('Exception: ',e)"
   ]
  },
  {
   "cell_type": "code",
   "execution_count": 4,
   "id": "0094eec8",
   "metadata": {
    "scrolled": false
   },
   "outputs": [],
   "source": [
    "lcm = LCM(12,10)"
   ]
  },
  {
   "cell_type": "code",
   "execution_count": 5,
   "id": "04a7cefa",
   "metadata": {},
   "outputs": [
    {
     "data": {
      "text/plain": [
       "60.0"
      ]
     },
     "execution_count": 5,
     "metadata": {},
     "output_type": "execute_result"
    }
   ],
   "source": [
    "lcm"
   ]
  },
  {
   "cell_type": "markdown",
   "id": "905f33ec",
   "metadata": {},
   "source": [
    "Q2. Write a Python Program to Find HCF?\n"
   ]
  },
  {
   "cell_type": "code",
   "execution_count": 6,
   "id": "202f3ac2",
   "metadata": {},
   "outputs": [],
   "source": [
    "logging.info('Starting exicuting Q2. Write a Python Program to Find HCF?')\n",
    "def HCF(a,b):\n",
    "    '''This function will return the HCF'''\n",
    "    try:\n",
    "        logging.info(f'Calculating HCF of {a} and {b}')\n",
    "        while(True):\n",
    "            if a > b:\n",
    "                temp = b\n",
    "                b = a%b\n",
    "                a = temp\n",
    "            else:\n",
    "                temp = a\n",
    "                a = b%a\n",
    "                b = temp\n",
    "            if (a == 0) or (b == 0):\n",
    "                break\n",
    "            hcf = HCF(a,b)\n",
    "            \n",
    "        if a == 0:\n",
    "            hcf  = b\n",
    "        elif b == 0:\n",
    "            hcf = a\n",
    "        logging.info('HCF calculated successfuly')\n",
    "        return hcf\n",
    "    except Exception as e:\n",
    "        print(e)\n",
    "        logging.error('Error Ocured')\n",
    "        logging.exception('Exception: ',e)\n",
    "            "
   ]
  },
  {
   "cell_type": "code",
   "execution_count": 7,
   "id": "3b14e139",
   "metadata": {},
   "outputs": [],
   "source": [
    "hcf = HCF(45,15)"
   ]
  },
  {
   "cell_type": "code",
   "execution_count": 8,
   "id": "53b9c152",
   "metadata": {},
   "outputs": [
    {
     "name": "stdout",
     "output_type": "stream",
     "text": [
      "15\n"
     ]
    }
   ],
   "source": [
    "print(hcf)"
   ]
  },
  {
   "cell_type": "markdown",
   "id": "f67ae9ff",
   "metadata": {},
   "source": [
    "Q3. Write a Python Program to Convert Decimal to Binary, Octal and Hexadecimal?"
   ]
  },
  {
   "cell_type": "code",
   "execution_count": 9,
   "id": "295fe703",
   "metadata": {},
   "outputs": [],
   "source": [
    "logging.info('Starting exicuting Q3. Write a Python Program to Convert Decimal to Binary, Octal and Hexadecimal?')\n",
    "def binary(d):\n",
    "    try:\n",
    "        logging.info(f'Start converting Decimal no. {d} to binary')\n",
    "        q = d\n",
    "        b, mul = 0,1\n",
    "        while True:\n",
    "            b = (q%2)*mul + b\n",
    "            q = q//2\n",
    "            mul = mul*10\n",
    "            if q == 0:\n",
    "                break\n",
    "        logging.info('The binary conversion done successfuly')\n",
    "        return b\n",
    "    except Exception as e:\n",
    "        print(e)\n",
    "        logging.error('Error Ocured')\n",
    "        logging.exception('Exception: ',e)\n",
    "\n",
    "def octal(d):\n",
    "    try:\n",
    "        logging.info(f'Start converting Decimal no. {d} to Octal')\n",
    "        q = d\n",
    "        o, mul = 0,1\n",
    "        while True:\n",
    "            o = (q%8)*mul + o\n",
    "            q = q//8\n",
    "            mul = mul*10\n",
    "            if q == 0:\n",
    "                break\n",
    "        logging.info('The Octal conversion done successfuly')\n",
    "        return o\n",
    "    except Exception as e:\n",
    "        print(e)\n",
    "        logging.error('Error Ocured')\n",
    "        logging.exception('Exception: ',e)\n",
    "\n",
    "def hexa(d):\n",
    "    try: \n",
    "        logging.info(f'Start converting Decimal no. {d} to Hexadecimal')\n",
    "        q = d\n",
    "        x = ''\n",
    "        no = {10:'A',11:'B',12:'C',13:'D',14:'E',15:'F'}\n",
    "        while True:\n",
    "            temp = q%16\n",
    "            q = q//16\n",
    "            if temp > 9:\n",
    "                x = x + str(no[temp])\n",
    "            else:\n",
    "                x = x + str(temp)\n",
    "            if q == 0:\n",
    "                break\n",
    "            logging.info('The Hexadecimaal conversion done successfuly')\n",
    "        return x[::-1]\n",
    "    except Exception as e:\n",
    "        print(e)\n",
    "        logging.error('Error Ocured')\n",
    "        logging.exception('Exception: ',e)\n"
   ]
  },
  {
   "cell_type": "code",
   "execution_count": 10,
   "id": "4aa66c0a",
   "metadata": {},
   "outputs": [
    {
     "data": {
      "text/plain": [
       "1000"
      ]
     },
     "execution_count": 10,
     "metadata": {},
     "output_type": "execute_result"
    }
   ],
   "source": [
    "binary(8)"
   ]
  },
  {
   "cell_type": "code",
   "execution_count": 11,
   "id": "da062c73",
   "metadata": {},
   "outputs": [
    {
     "data": {
      "text/plain": [
       "20"
      ]
     },
     "execution_count": 11,
     "metadata": {},
     "output_type": "execute_result"
    }
   ],
   "source": [
    "octal(16)"
   ]
  },
  {
   "cell_type": "code",
   "execution_count": 12,
   "id": "8ca09033",
   "metadata": {},
   "outputs": [
    {
     "data": {
      "text/plain": [
       "'10'"
      ]
     },
     "execution_count": 12,
     "metadata": {},
     "output_type": "execute_result"
    }
   ],
   "source": [
    "hexa(16)"
   ]
  },
  {
   "cell_type": "markdown",
   "id": "4d9d2579",
   "metadata": {},
   "source": [
    "Q4. Write a Python Program To Find ASCII value of a character?"
   ]
  },
  {
   "cell_type": "code",
   "execution_count": 13,
   "id": "24d258cc",
   "metadata": {},
   "outputs": [
    {
     "data": {
      "text/plain": [
       "65"
      ]
     },
     "execution_count": 13,
     "metadata": {},
     "output_type": "execute_result"
    }
   ],
   "source": [
    "ord('A')"
   ]
  },
  {
   "cell_type": "code",
   "execution_count": 17,
   "id": "ea601a2c",
   "metadata": {},
   "outputs": [],
   "source": [
    "def asci(char):\n",
    "    try:\n",
    "        logging.info('Start executing Q4. Write a Python Program To Find ASCII value of a character?')\n",
    "        value = ord(char)\n",
    "        logging.info(f'Reutining ASCII value of character {char}')\n",
    "        return value\n",
    "    except Exception as e:\n",
    "        print(e)\n",
    "        logging.error('Error Ocured')\n",
    "        logging.exception('Exception: ',e)"
   ]
  },
  {
   "cell_type": "code",
   "execution_count": 18,
   "id": "8c1e6315",
   "metadata": {},
   "outputs": [
    {
     "data": {
      "text/plain": [
       "97"
      ]
     },
     "execution_count": 18,
     "metadata": {},
     "output_type": "execute_result"
    }
   ],
   "source": [
    "asci('a')"
   ]
  },
  {
   "cell_type": "code",
   "execution_count": null,
   "id": "255f359e",
   "metadata": {},
   "outputs": [],
   "source": []
  },
  {
   "cell_type": "markdown",
   "id": "8676dee9",
   "metadata": {},
   "source": [
    "Q5. Write a Python Program to Make a Simple Calculator with 4 basic mathematical operations?"
   ]
  },
  {
   "cell_type": "code",
   "execution_count": 20,
   "id": "a5b9c162",
   "metadata": {},
   "outputs": [],
   "source": [
    "def cal(a,b ,opp):\n",
    "    '''\n",
    "    This function fill return the basic operation of two no.\n",
    "    for addition ---> 'sum'\n",
    "    for substration ---> 'sub'\n",
    "    for multiply ---> 'multi'\n",
    "    for division ---> 'div'\n",
    "    '''\n",
    "    try: \n",
    "        logging.info('Start executing Q5. Write a Python Program to Make a Simple Calculator with 4 basic mathematical operations?')\n",
    "        \n",
    "        if opp == 'sum':\n",
    "            result = a + b\n",
    "        elif opp == 'div':\n",
    "            result = a/b\n",
    "        elif opp == 'multi':\n",
    "            result = a*b\n",
    "        elif opp == 'sub':\n",
    "            result = a-b\n",
    "        else:\n",
    "            raise Exception('Enter valid opp')\n",
    "            logging.exception('Invalid oppration')\n",
    "        return result\n",
    "    except Exception as e:\n",
    "        print(e)\n",
    "        logging.error('Error Ocured')\n",
    "        logging.exception('Exception: ',e)\n",
    "        \n",
    "            "
   ]
  },
  {
   "cell_type": "code",
   "execution_count": 21,
   "id": "4388ce53",
   "metadata": {},
   "outputs": [],
   "source": [
    "a = cal(54,56,'sum')"
   ]
  },
  {
   "cell_type": "code",
   "execution_count": 22,
   "id": "29fd22cf",
   "metadata": {},
   "outputs": [
    {
     "data": {
      "text/plain": [
       "110"
      ]
     },
     "execution_count": 22,
     "metadata": {},
     "output_type": "execute_result"
    }
   ],
   "source": [
    "a"
   ]
  },
  {
   "cell_type": "code",
   "execution_count": null,
   "id": "f39a6c96",
   "metadata": {},
   "outputs": [],
   "source": []
  }
 ],
 "metadata": {
  "kernelspec": {
   "display_name": "Python 3 (ipykernel)",
   "language": "python",
   "name": "python3"
  },
  "language_info": {
   "codemirror_mode": {
    "name": "ipython",
    "version": 3
   },
   "file_extension": ".py",
   "mimetype": "text/x-python",
   "name": "python",
   "nbconvert_exporter": "python",
   "pygments_lexer": "ipython3",
   "version": "3.9.7"
  }
 },
 "nbformat": 4,
 "nbformat_minor": 5
}
