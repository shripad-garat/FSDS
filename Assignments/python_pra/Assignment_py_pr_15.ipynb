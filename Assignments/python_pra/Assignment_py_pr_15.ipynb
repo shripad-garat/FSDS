{
 "cells": [
  {
   "cell_type": "markdown",
   "id": "1bffa1b5",
   "metadata": {},
   "source": [
    "### Question 1:\n",
    "Please write a program using generator to print the numbers which can be divisible by 5 and\n",
    "7 between 0 and n in comma separated form while n is input by console."
   ]
  },
  {
   "cell_type": "code",
   "execution_count": 1,
   "id": "608d9c5b",
   "metadata": {},
   "outputs": [],
   "source": [
    "import logging\n",
    "logging.basicConfig(filename = 'log_Assignment_14.log',level = logging.DEBUG, format = '%(asctime)s : %(levelname)s : %(message)s')\n"
   ]
  },
  {
   "cell_type": "code",
   "execution_count": 2,
   "id": "d345d3a2",
   "metadata": {},
   "outputs": [],
   "source": [
    "logging.info('Question 1: Please write a program using generator to print the numbers which can be divisible by 5 and 7 between 0 and n in comma separated form while n is input by console.')\n",
    "logging.info('Start executing Question 1')\n"
   ]
  },
  {
   "cell_type": "code",
   "execution_count": 6,
   "id": "b30000fc",
   "metadata": {},
   "outputs": [],
   "source": [
    "def div_5_7(n):\n",
    "    try:\n",
    "        for i in range(n+1):\n",
    "            if (i%7 == 0) and (i%5==0):\n",
    "                yield i\n",
    "    except Exception as e:\n",
    "        print(e)\n",
    "        logging.info(f'Error occured: {e}')"
   ]
  },
  {
   "cell_type": "code",
   "execution_count": 11,
   "id": "e44ac4e5",
   "metadata": {},
   "outputs": [
    {
     "name": "stdout",
     "output_type": "stream",
     "text": [
      "Enter the value if n100\n",
      "[0, 35, 70]\n"
     ]
    }
   ],
   "source": [
    "n = int(input('Enter the value if n'))\n",
    "result = [i for i in div_5_7(n)]\n",
    "print(result)"
   ]
  },
  {
   "cell_type": "markdown",
   "id": "1021168b",
   "metadata": {},
   "source": [
    "### Question 2: \n",
    "Please write a program using generator to print the even numbers between 0 and n in comma separated form while n is input by console."
   ]
  },
  {
   "cell_type": "code",
   "execution_count": 16,
   "id": "0074875f",
   "metadata": {},
   "outputs": [],
   "source": [
    "logging.info('Question 2: Please write a program using generator to print the even numbers between 0 and n in comma separated form while n is input by console.')\n",
    "logging.info('Start executing Question 2')\n"
   ]
  },
  {
   "cell_type": "code",
   "execution_count": 17,
   "id": "baecbd1d",
   "metadata": {},
   "outputs": [],
   "source": [
    "def even(n):\n",
    "    '''generator to print the even numbers between 0 and n'''\n",
    "    try:\n",
    "        for i in range(n+1):\n",
    "            if i%2==0:\n",
    "                yield i\n",
    "    except Exception as e:\n",
    "        print(e)\n",
    "        logging.info(f'Error occured: {e}')\n"
   ]
  },
  {
   "cell_type": "code",
   "execution_count": 19,
   "id": "7e02348f",
   "metadata": {},
   "outputs": [
    {
     "name": "stdout",
     "output_type": "stream",
     "text": [
      "Enter the value of n100\n",
      "[0, 2, 4, 6, 8, 10, 12, 14, 16, 18, 20, 22, 24, 26, 28, 30, 32, 34, 36, 38, 40, 42, 44, 46, 48, 50, 52, 54, 56, 58, 60, 62, 64, 66, 68, 70, 72, 74, 76, 78, 80, 82, 84, 86, 88, 90, 92, 94, 96, 98, 100]\n"
     ]
    }
   ],
   "source": [
    "n = int(input('Enter the value of n'))\n",
    "result = [i for i in even(n)]\n",
    "print(result)"
   ]
  },
  {
   "cell_type": "markdown",
   "id": "8f83cb9b",
   "metadata": {},
   "source": [
    "### Question 3:\n",
    "The Fibonacci Sequence is computed based on the following formula:\n",
    "f(n)=0 if n=0\n",
    "f(n)=1 if n=1\n",
    "f(n)=f(n-1)+f(n-2) if n&gt;1\n",
    "Please write a program using list comprehension to print the Fibonacci Sequence in comma\n",
    "separated form with a given n input by console."
   ]
  },
  {
   "cell_type": "code",
   "execution_count": 20,
   "id": "b87ce645",
   "metadata": {},
   "outputs": [],
   "source": [
    "logging.info('Question 3: The Fibonacci Sequence is computed based on the following formula: f(n)=0 if n=0 f(n)=1 if n=1 f(n)=f(n-1)+f(n-2) if n>1 Please write a program using list comprehension to print the Fibonacci Sequence in comma separated form with a given n input by console.')\n",
    "logging.info('Start executing Question 3')"
   ]
  },
  {
   "cell_type": "code",
   "execution_count": 28,
   "id": "ead1762a",
   "metadata": {},
   "outputs": [],
   "source": [
    "def febonacciSeq(n):\n",
    "    '''using list comprehension to print the Fibonacci Sequence'''\n",
    "    try:\n",
    "        if n == 0:\n",
    "            return 0\n",
    "        elif n == 1:\n",
    "            return 1\n",
    "        else:\n",
    "            return febonacciSeq(n-1)+ febonacciSeq(n-2)\n",
    "    except Exception as e:\n",
    "        print(e)\n",
    "        logging.info(f'Error occured: {e}')\n"
   ]
  },
  {
   "cell_type": "code",
   "execution_count": 29,
   "id": "6ac32f89",
   "metadata": {},
   "outputs": [
    {
     "name": "stdout",
     "output_type": "stream",
     "text": [
      "Enter the value of n20\n",
      "[0, 1, 1, 2, 3, 5, 8, 13, 21, 34, 55, 89, 144, 233, 377, 610, 987, 1597, 2584, 4181]\n"
     ]
    }
   ],
   "source": [
    "n = int(input('Enter the value of n'))\n",
    "result = [febonacciSeq(i) for i in range(n)]\n",
    "print(result)"
   ]
  },
  {
   "cell_type": "markdown",
   "id": "2385d8e2",
   "metadata": {},
   "source": [
    "### Question 4:\n",
    "Assuming that we have some email addresses in the &quot;username@companyname.com&quot; format,\n",
    "please write program to print the user name of a given email address. Both user names and\n",
    "company names are composed of letters only."
   ]
  },
  {
   "cell_type": "code",
   "execution_count": 30,
   "id": "a0b658be",
   "metadata": {},
   "outputs": [],
   "source": [
    "logging.info('Question 4: Assuming that we have some email addresses in the username@companyname.com format, please write program to print the user name of a given email address. Both user names and company names are composed of letters only.')\n",
    "logging.info('Start executing Question 4')"
   ]
  },
  {
   "cell_type": "code",
   "execution_count": 33,
   "id": "772c3423",
   "metadata": {},
   "outputs": [],
   "source": [
    "def username(s):\n",
    "    '''the user name of a given email address'''\n",
    "    try:\n",
    "        l = s.split('@')\n",
    "        print(f'username of {s} email is {l[0]}')\n",
    "    except Exception as e:\n",
    "        print(e)\n",
    "        logging.info(f'Error occured: {e}')"
   ]
  },
  {
   "cell_type": "code",
   "execution_count": 35,
   "id": "2b08c948",
   "metadata": {},
   "outputs": [
    {
     "name": "stdout",
     "output_type": "stream",
     "text": [
      "username of username@companyname.com email is username\n",
      "username of john@companyname.com email is john\n"
     ]
    }
   ],
   "source": [
    "username( \"username@companyname.com\")\n",
    "username( \"john@companyname.com\")"
   ]
  },
  {
   "cell_type": "markdown",
   "id": "c4846f63",
   "metadata": {},
   "source": [
    "### Question 5:\n",
    "Define a class named Shape and its subclass Square. The Square class has an init function\n",
    "which takes a length as argument. Both classes have a area function which can print the area\n",
    "of the shape where Shape&#39;s area is 0 by default."
   ]
  },
  {
   "cell_type": "code",
   "execution_count": 36,
   "id": "cc9a690f",
   "metadata": {},
   "outputs": [],
   "source": [
    "logging.info('Question 5: Define a class named Shape and its subclass Square. The Square class has an init function which takes a length as argument. Both classes have a area function which can print the area of the shape where Shapes area is 0 by default.')\n",
    "logging.info('Start executing Question 5')"
   ]
  },
  {
   "cell_type": "code",
   "execution_count": 45,
   "id": "1ac94e2e",
   "metadata": {},
   "outputs": [],
   "source": [
    "class Shape:\n",
    "    def area(self):\n",
    "        try:\n",
    "            area = 0\n",
    "            print(f'The area of given shape is {area}')\n",
    "        except Exception as e:\n",
    "            print(e)\n",
    "            logging.info(f'Error Occured: {e}')\n",
    "        \n",
    "class Square(Shape):\n",
    "    def __init__(self,l):\n",
    "        self.len = l\n",
    "    def area(self):\n",
    "        try:\n",
    "            area = self.len**2\n",
    "            print(f'The area of given Square is {area}')\n",
    "\n",
    "        except Exception as e:\n",
    "            print(e)\n",
    "            logging.info(f'Error Occured: {e}')\n",
    "            "
   ]
  },
  {
   "cell_type": "code",
   "execution_count": 46,
   "id": "0a0eea17",
   "metadata": {},
   "outputs": [
    {
     "name": "stdout",
     "output_type": "stream",
     "text": [
      "The area of given Square is 25\n"
     ]
    }
   ],
   "source": [
    "sq = Square(5)\n",
    "sq.area()"
   ]
  },
  {
   "cell_type": "code",
   "execution_count": null,
   "id": "769ce747",
   "metadata": {},
   "outputs": [],
   "source": []
  }
 ],
 "metadata": {
  "kernelspec": {
   "display_name": "Python 3 (ipykernel)",
   "language": "python",
   "name": "python3"
  },
  "language_info": {
   "codemirror_mode": {
    "name": "ipython",
    "version": 3
   },
   "file_extension": ".py",
   "mimetype": "text/x-python",
   "name": "python",
   "nbconvert_exporter": "python",
   "pygments_lexer": "ipython3",
   "version": "3.9.7"
  }
 },
 "nbformat": 4,
 "nbformat_minor": 5
}
