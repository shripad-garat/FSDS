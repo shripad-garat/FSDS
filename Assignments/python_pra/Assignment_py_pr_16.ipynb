{
 "cells": [
  {
   "cell_type": "markdown",
   "id": "35b92a0f",
   "metadata": {},
   "source": [
    "### Question1. \n",
    "Write a function that stutters a word as if someone is struggling to read it. The\n",
    "first two letters are repeated twice with an ellipsis ... and space after each, and then the\n",
    "word is pronounced with a question mark ?."
   ]
  },
  {
   "cell_type": "code",
   "execution_count": 9,
   "id": "5dfccd75",
   "metadata": {},
   "outputs": [],
   "source": [
    "import logging\n",
    "import math\n",
    "logging.basicConfig(filename = 'log_Assignment_14.log',level = logging.DEBUG, format = '%(asctime)s : %(levelname)s : %(message)s')\n"
   ]
  },
  {
   "cell_type": "code",
   "execution_count": 2,
   "id": "9c017e10",
   "metadata": {},
   "outputs": [],
   "source": [
    "logging.info('Question 1: Write a function that stutters a word as if someone is struggling to read it. The first two letters are repeated twice with an ellipsis ... and space after each, and then the word is pronounced with a question mark ?.')\n",
    "logging.info('Start executing Question 1')\n"
   ]
  },
  {
   "cell_type": "code",
   "execution_count": 3,
   "id": "151411f0",
   "metadata": {},
   "outputs": [],
   "source": [
    "def stutters(s):\n",
    "    '''stutters a word as if someone is struggling to read it'''\n",
    "    try: \n",
    "        form = f'{s[0:2]}... {s[0:2]}... {s}?'\n",
    "        return form\n",
    "    except Exception as e:\n",
    "        print(e)\n",
    "        logging.info(f'Error Occured: {e}')"
   ]
  },
  {
   "cell_type": "code",
   "execution_count": 4,
   "id": "21a44e92",
   "metadata": {},
   "outputs": [
    {
     "name": "stdout",
     "output_type": "stream",
     "text": [
      "in... in... incredible?\n"
     ]
    }
   ],
   "source": [
    "print(stutters('incredible'))"
   ]
  },
  {
   "cell_type": "markdown",
   "id": "dbb38d28",
   "metadata": {},
   "source": [
    "### Question 2.\n",
    "Create a function that takes an angle in radians and returns the corresponding\n",
    "angle in degrees rounded to one decimal place."
   ]
  },
  {
   "cell_type": "code",
   "execution_count": 5,
   "id": "988f154e",
   "metadata": {},
   "outputs": [],
   "source": [
    "logging.info('Question 2: Create a function that takes an angle in radians and returns the corresponding angle in degrees rounded to one decimal place.')\n",
    "logging.info('Start executing Question 2')\n"
   ]
  },
  {
   "cell_type": "code",
   "execution_count": 10,
   "id": "1278bcb6",
   "metadata": {},
   "outputs": [],
   "source": [
    "def radians_to_degree(rad):\n",
    "    '''angle in radians and returns the corresponding angle in degrees'''\n",
    "    try:\n",
    "        deg = round(rad * (180/math.pi),1)\n",
    "        return deg\n",
    "    except Exception as e:\n",
    "        print(e)\n",
    "        logging.info(f'Error occured: {e}')\n",
    "        "
   ]
  },
  {
   "cell_type": "code",
   "execution_count": 11,
   "id": "7c0b0f3a",
   "metadata": {},
   "outputs": [
    {
     "name": "stdout",
     "output_type": "stream",
     "text": [
      "1145.9\n"
     ]
    }
   ],
   "source": [
    "print(radians_to_degree(20))"
   ]
  },
  {
   "cell_type": "markdown",
   "id": "048e2d11",
   "metadata": {},
   "source": [
    "### Question 3. \n",
    "In this challenge, establish if a given integer num is a Curzon number. If 1 plus\n",
    "2 elevated to num is exactly divisible by 1 plus 2 multiplied by num, then num is a Curzon\n",
    "number."
   ]
  },
  {
   "cell_type": "code",
   "execution_count": 13,
   "id": "c38ea7fa",
   "metadata": {},
   "outputs": [],
   "source": [
    "logging.info('Question 3: In this challenge, establish if a given integer num is a Curzon number. If 1 plus 2 elevated to num is exactly divisible by 1 plus 2 multiplied by num, then num is a Curzon number.')\n",
    "logging.info('Start executing Question 3')\n"
   ]
  },
  {
   "cell_type": "code",
   "execution_count": 14,
   "id": "a7a132a7",
   "metadata": {},
   "outputs": [],
   "source": [
    "def curzonCheck(num):\n",
    "    try:\n",
    "        n = 2**num + 1\n",
    "        d = 2*num + 1\n",
    "        if n%d == 0:\n",
    "            return True\n",
    "        else:\n",
    "            return False\n",
    "    except Exception as e:\n",
    "        print(e)\n",
    "        logging.info(f'Error Occured {e}')\n",
    "    "
   ]
  },
  {
   "cell_type": "code",
   "execution_count": 15,
   "id": "1f9db556",
   "metadata": {},
   "outputs": [
    {
     "name": "stdout",
     "output_type": "stream",
     "text": [
      "True\n"
     ]
    }
   ],
   "source": [
    "print(curzonCheck(5))"
   ]
  },
  {
   "cell_type": "markdown",
   "id": "37a76247",
   "metadata": {},
   "source": [
    "### Question 4.\n",
    "Given the side length x find the area of a hexagon."
   ]
  },
  {
   "cell_type": "code",
   "execution_count": 16,
   "id": "49b7fafe",
   "metadata": {},
   "outputs": [],
   "source": [
    "logging.info('Question 4: Given the side length x find the area of a hexagon.')\n",
    "logging.info('Start executing Question 4')\n"
   ]
  },
  {
   "cell_type": "code",
   "execution_count": 20,
   "id": "d8dafae0",
   "metadata": {},
   "outputs": [],
   "source": [
    "def area_of_hexagon(x):\n",
    "    '''return area of a hexagon.'''\n",
    "    try:\n",
    "        return round((3*(3**(1/2)))*(x**2)/2,1)\n",
    "    except Exception as e:\n",
    "        print(e)\n",
    "        logging.info(f'Error Occured: {s}')"
   ]
  },
  {
   "cell_type": "code",
   "execution_count": 21,
   "id": "f9b9d31a",
   "metadata": {},
   "outputs": [
    {
     "data": {
      "text/plain": [
       "23.4"
      ]
     },
     "execution_count": 21,
     "metadata": {},
     "output_type": "execute_result"
    }
   ],
   "source": [
    "area_of_hexagon(3)"
   ]
  },
  {
   "cell_type": "markdown",
   "id": "9e8ec1d2",
   "metadata": {},
   "source": [
    "### Question 5. \n",
    "Create a function that returns a base-2 (binary) representation of a base-10\n",
    "(decimal) string number. To convert is simple: ((2) means base-2 and (10) means base-10)\n",
    "010101001(2) = 1 + 8 + 32 + 128."
   ]
  },
  {
   "cell_type": "code",
   "execution_count": 22,
   "id": "f419faef",
   "metadata": {},
   "outputs": [],
   "source": [
    "logging.info('Question 5: Create a function that returns a base-2 (binary) representation of a base-10 (decimal) string number. To convert is simple: ((2) means base-2 and (10) means base-10) 010101001(2) = 1 + 8 + 32 + 128.')\n",
    "logging.info('Start executing Question 5')"
   ]
  },
  {
   "cell_type": "code",
   "execution_count": 25,
   "id": "59895f6c",
   "metadata": {},
   "outputs": [],
   "source": [
    "def dec_to_bin(num):\n",
    "    '''returns a base-2 (binary) representation of a base-10 (decimal) string number'''\n",
    "    try:\n",
    "        num = int(num)\n",
    "        bit = []\n",
    "        count = 0\n",
    "        while(num!=0):\n",
    "            bit.append(str(num%2))\n",
    "            num = num//2\n",
    "        return ''.join(bit[::-1])\n",
    "    except Exception as e:\n",
    "        print(e)\n",
    "        logging.info(f'Error Occure: {e}')\n",
    "        "
   ]
  },
  {
   "cell_type": "code",
   "execution_count": 27,
   "id": "3a24fa60",
   "metadata": {},
   "outputs": [
    {
     "data": {
      "text/plain": [
       "'10000'"
      ]
     },
     "execution_count": 27,
     "metadata": {},
     "output_type": "execute_result"
    }
   ],
   "source": [
    "dec_to_bin(16)"
   ]
  },
  {
   "cell_type": "code",
   "execution_count": null,
   "id": "5e063082",
   "metadata": {},
   "outputs": [],
   "source": []
  }
 ],
 "metadata": {
  "kernelspec": {
   "display_name": "Python 3 (ipykernel)",
   "language": "python",
   "name": "python3"
  },
  "language_info": {
   "codemirror_mode": {
    "name": "ipython",
    "version": 3
   },
   "file_extension": ".py",
   "mimetype": "text/x-python",
   "name": "python",
   "nbconvert_exporter": "python",
   "pygments_lexer": "ipython3",
   "version": "3.9.7"
  }
 },
 "nbformat": 4,
 "nbformat_minor": 5
}
