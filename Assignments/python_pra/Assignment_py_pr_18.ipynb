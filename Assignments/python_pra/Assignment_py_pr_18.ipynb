{
 "cells": [
  {
   "cell_type": "markdown",
   "id": "1c9be0b0",
   "metadata": {},
   "source": [
    "### Question 1\n",
    "Create a function that takes a list of non-negative integers and strings and return a new list\n",
    "without the strings."
   ]
  },
  {
   "cell_type": "code",
   "execution_count": 1,
   "id": "acbbc693",
   "metadata": {},
   "outputs": [],
   "source": [
    "import logging\n",
    "import math\n",
    "logging.basicConfig(filename = 'log_Assignment_18.log',level = logging.DEBUG, format = '%(asctime)s : %(levelname)s : %(message)s')\n"
   ]
  },
  {
   "cell_type": "code",
   "execution_count": 2,
   "id": "633d0bfe",
   "metadata": {},
   "outputs": [],
   "source": [
    "logging.info('Question 1: Create a function that takes a list of non-negative integers and strings and return a new list without the strings.')\n",
    "logging.info('Start executing Question 1')\n"
   ]
  },
  {
   "cell_type": "code",
   "execution_count": 6,
   "id": "8d550246",
   "metadata": {},
   "outputs": [],
   "source": [
    "def filter_list(l):\n",
    "    '''takes a list of non-negative integers and strings and return a new list without the strings'''\n",
    "    try:\n",
    "        res = [i for i in l if isinstance(i,int)]\n",
    "        return res\n",
    "    except Exception as e:\n",
    "        print(e)\n",
    "        logging.info(f'Error Occured: {e}')\n",
    "        "
   ]
  },
  {
   "cell_type": "code",
   "execution_count": 7,
   "id": "522eed23",
   "metadata": {},
   "outputs": [
    {
     "data": {
      "text/plain": [
       "[1, 2]"
      ]
     },
     "execution_count": 7,
     "metadata": {},
     "output_type": "execute_result"
    }
   ],
   "source": [
    "filter_list([1, 2, 'a', 'b'])"
   ]
  },
  {
   "cell_type": "markdown",
   "id": "3e4c83be",
   "metadata": {},
   "source": [
    "### Question 2\n",
    "The &quot;Reverser&quot; takes a string as input and returns that string in reverse order, with the\n",
    "opposite case."
   ]
  },
  {
   "cell_type": "code",
   "execution_count": 8,
   "id": "75e2b71b",
   "metadata": {},
   "outputs": [],
   "source": [
    "logging.info('Question 2: The \"Reverser\" takes a string as input and returns that string in reverse order, with the opposite case.')\n",
    "logging.info('Start executing Question 2')"
   ]
  },
  {
   "cell_type": "code",
   "execution_count": 19,
   "id": "b531f2ae",
   "metadata": {},
   "outputs": [],
   "source": [
    "def reverser(s):\n",
    "    '''The \"Reverser\" takes a string as input and returns that string in reverse order, with the opposite case.'''\n",
    "    try:\n",
    "        res = [i.upper()  if i.islower() else i.lower() for i in s]\n",
    "        return ''.join(res[::-1])\n",
    "    except Exception as e:\n",
    "        print(e)\n",
    "        logging.info(f'Error Occured: {e}')"
   ]
  },
  {
   "cell_type": "code",
   "execution_count": 20,
   "id": "c8446fad",
   "metadata": {},
   "outputs": [
    {
     "data": {
      "text/plain": [
       "'DLROw OLLEh'"
      ]
     },
     "execution_count": 20,
     "metadata": {},
     "output_type": "execute_result"
    }
   ],
   "source": [
    "reverser('Hello World')"
   ]
  },
  {
   "cell_type": "markdown",
   "id": "8aa6dd20",
   "metadata": {},
   "source": [
    "### Question 3\n",
    "You can assign variables from lists like this:\n",
    "lst = [1, 2, 3, 4, 5, 6]\n",
    "first = lst[0]\n",
    "middle = lst[1:-1]\n",
    "last = lst[-1]\n",
    "print(first) ➞ outputs 1\n",
    "print(middle) ➞ outputs [2, 3, 4, 5]\n",
    "print(last) ➞ outputs 6\n",
    "With Python 3, you can assign variables from lists in a much more succinct way. Create\n",
    "variables first, middle and last from the given list using destructuring assignment\n",
    "(check the Resources tab for some examples), where:\n",
    "first ➞ 1\n",
    "middle ➞ [2, 3, 4, 5]\n",
    "last ➞ 6\n",
    "\n",
    "Your task is to unpack the list writeyourcodehere into three variables, being first,\n",
    "middle, and last, with middle being everything in between the first and last element. Then\n",
    "print all three variables."
   ]
  },
  {
   "cell_type": "code",
   "execution_count": 21,
   "id": "d2b58299",
   "metadata": {},
   "outputs": [],
   "source": [
    "logging.info('Question 3: You can assign variables from lists like this: lst = [1, 2, 3, 4, 5, 6] first = lst[0] middle = lst[1:-1] last = lst[-1] print(first) ➞ outputs 1 print(middle) ➞ outputs [2, 3, 4, 5] print(last) ➞ outputs 6')\n",
    "logging.info('Start executing Question 3')"
   ]
  },
  {
   "cell_type": "code",
   "execution_count": 23,
   "id": "8b3cc452",
   "metadata": {},
   "outputs": [],
   "source": [
    "def list_split_3(l):\n",
    "    try:\n",
    "        first = l[0]\n",
    "        middle = l[1:-1]\n",
    "        last = l[-1]\n",
    "        return first,middle,last\n",
    "    except Exception as e:\n",
    "        print(e)\n",
    "        logging.info(f'Error Occure: {e}')"
   ]
  },
  {
   "cell_type": "code",
   "execution_count": 24,
   "id": "7de4aea7",
   "metadata": {},
   "outputs": [
    {
     "data": {
      "text/plain": [
       "(1, [2, 36, 9, 5, 6], 58)"
      ]
     },
     "execution_count": 24,
     "metadata": {},
     "output_type": "execute_result"
    }
   ],
   "source": [
    "list_split_3([1,2,36,9,5,6,58])"
   ]
  },
  {
   "cell_type": "markdown",
   "id": "fc1df00d",
   "metadata": {},
   "source": [
    "### Question 4\n",
    "Write a function that calculates the factorial of a number recursively."
   ]
  },
  {
   "cell_type": "code",
   "execution_count": 25,
   "id": "3a97b19f",
   "metadata": {},
   "outputs": [],
   "source": [
    "logging.info('Question 4: Write a function that calculates the factorial of a number recursively.')\n",
    "logging.info('Start executing Question 4')"
   ]
  },
  {
   "cell_type": "code",
   "execution_count": 27,
   "id": "fb728b3a",
   "metadata": {},
   "outputs": [],
   "source": [
    "def factorial(n):\n",
    "    '''calculates the factorial of a number recursively.'''\n",
    "    try:\n",
    "        if n == 0:\n",
    "            return 1\n",
    "        return n*factorial(n-1)\n",
    "    except Exception as e:\n",
    "        print(e)\n",
    "        logging.info(f'Error Occure {e}')\n",
    "        "
   ]
  },
  {
   "cell_type": "code",
   "execution_count": 28,
   "id": "c59bbdb8",
   "metadata": {},
   "outputs": [
    {
     "data": {
      "text/plain": [
       "3628800"
      ]
     },
     "execution_count": 28,
     "metadata": {},
     "output_type": "execute_result"
    }
   ],
   "source": [
    "factorial(10)"
   ]
  },
  {
   "cell_type": "code",
   "execution_count": 29,
   "id": "3eda633f",
   "metadata": {},
   "outputs": [
    {
     "data": {
      "text/plain": [
       "120"
      ]
     },
     "execution_count": 29,
     "metadata": {},
     "output_type": "execute_result"
    }
   ],
   "source": [
    "factorial(5)"
   ]
  },
  {
   "cell_type": "markdown",
   "id": "1f230deb",
   "metadata": {},
   "source": [
    "### Question 5\n",
    "Write a function that moves all elements of one type to the end of the list."
   ]
  },
  {
   "cell_type": "code",
   "execution_count": 30,
   "id": "945f05be",
   "metadata": {},
   "outputs": [],
   "source": [
    "logging.info('Question 5: Write a function that moves all elements of one type to the end of the list.')\n",
    "logging.info('Start executing Question 5')"
   ]
  },
  {
   "cell_type": "code",
   "execution_count": 49,
   "id": "4a5708e2",
   "metadata": {},
   "outputs": [],
   "source": [
    "def move_to_end(l,e):\n",
    "    '''moves all elements of one type to the end of the list.'''\n",
    "    try:\n",
    "        ex = [i for i in l if i == e]\n",
    "        res = [i for i in l if i != e]\n",
    "        return res+ex\n",
    "    except Exception as e:\n",
    "        print(e)\n",
    "        logging.info(f'Error Occured: {e}')"
   ]
  },
  {
   "cell_type": "code",
   "execution_count": 50,
   "id": "7c96f45b",
   "metadata": {},
   "outputs": [
    {
     "name": "stdout",
     "output_type": "stream",
     "text": [
      "[3, 2, 4, 4, 1, 1]\n"
     ]
    }
   ],
   "source": [
    "a = move_to_end([1, 3, 2, 4, 4, 1], 1)\n",
    "print(a)"
   ]
  },
  {
   "cell_type": "code",
   "execution_count": null,
   "id": "49087eee",
   "metadata": {},
   "outputs": [],
   "source": []
  }
 ],
 "metadata": {
  "kernelspec": {
   "display_name": "Python 3 (ipykernel)",
   "language": "python",
   "name": "python3"
  },
  "language_info": {
   "codemirror_mode": {
    "name": "ipython",
    "version": 3
   },
   "file_extension": ".py",
   "mimetype": "text/x-python",
   "name": "python",
   "nbconvert_exporter": "python",
   "pygments_lexer": "ipython3",
   "version": "3.9.7"
  }
 },
 "nbformat": 4,
 "nbformat_minor": 5
}
