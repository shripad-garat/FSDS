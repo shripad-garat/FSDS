{
 "cells": [
  {
   "cell_type": "markdown",
   "id": "6ff4e41f",
   "metadata": {},
   "source": [
    "### Question1. \n",
    "Create a function that takes three arguments a, b, c and returns the sum of the\n",
    "numbers that are evenly divided by c from the range a, b inclusive."
   ]
  },
  {
   "cell_type": "code",
   "execution_count": 1,
   "id": "ae38f59f",
   "metadata": {},
   "outputs": [],
   "source": [
    "import logging\n",
    "import math\n",
    "logging.basicConfig(filename = 'log_Assignment_14.log',level = logging.DEBUG, format = '%(asctime)s : %(levelname)s : %(message)s')\n"
   ]
  },
  {
   "cell_type": "code",
   "execution_count": 2,
   "id": "d799f731",
   "metadata": {},
   "outputs": [],
   "source": [
    "logging.info('Question 1: Create a function that takes three arguments a, b, c and returns the sum of the numbers that are evenly divided by c from the range a, b inclusive.')\n",
    "logging.info('Start executing Question 1')\n"
   ]
  },
  {
   "cell_type": "code",
   "execution_count": 3,
   "id": "04047000",
   "metadata": {},
   "outputs": [],
   "source": [
    "def abc(a,b,c):\n",
    "    '''returns the sum of the numbers that are evenly divided by c from the range a, b inclusive.'''\n",
    "    try:\n",
    "        result = sum([i for i in range(a,b+1) if i%c==0])\n",
    "        return result\n",
    "    except Exception as e:\n",
    "        print(e)\n",
    "        logging.info(f'Error Occured: {e}')"
   ]
  },
  {
   "cell_type": "code",
   "execution_count": 4,
   "id": "cefb389d",
   "metadata": {},
   "outputs": [
    {
     "data": {
      "text/plain": [
       "30"
      ]
     },
     "execution_count": 4,
     "metadata": {},
     "output_type": "execute_result"
    }
   ],
   "source": [
    "abc(0,10,2)"
   ]
  },
  {
   "cell_type": "markdown",
   "id": "3582a39d",
   "metadata": {},
   "source": [
    "### Question2. \n",
    "Create a function that returns True if a given inequality expression is correct and\n",
    "False otherwise."
   ]
  },
  {
   "cell_type": "code",
   "execution_count": 5,
   "id": "5ca75715",
   "metadata": {},
   "outputs": [],
   "source": [
    "logging.info('Question 2: Create a function that returns True if a given inequality expression is correct and False otherwise.')\n",
    "logging.info('Start executing Question 2')\n"
   ]
  },
  {
   "cell_type": "code",
   "execution_count": 8,
   "id": "dd39765c",
   "metadata": {},
   "outputs": [],
   "source": [
    "def cheakExp(exp):\n",
    "    '''returns True if a given inequality expression is correct and False otherwise'''\n",
    "    try:\n",
    "        exp = exp.split()\n",
    "        for i in range(len(exp)-1):\n",
    "            if i%2!=0:\n",
    "                if exp[i] == '<':\n",
    "                    if int(exp[i-1]) >= int(exp[i+1]):\n",
    "                        return False\n",
    "                else:\n",
    "                    if int(exp[i-1]) <= int(exp[i+1]):\n",
    "                        return False\n",
    "        return True\n",
    "    except Exception as e:\n",
    "        print(e)\n",
    "        logging.info(f'Error Occured: {e}')"
   ]
  },
  {
   "cell_type": "code",
   "execution_count": 9,
   "id": "bb6bb416",
   "metadata": {},
   "outputs": [
    {
     "data": {
      "text/plain": [
       "True"
      ]
     },
     "execution_count": 9,
     "metadata": {},
     "output_type": "execute_result"
    }
   ],
   "source": [
    "cheakExp('16>24>32>40')"
   ]
  },
  {
   "cell_type": "markdown",
   "id": "f059cf10",
   "metadata": {},
   "source": [
    "### Question3.\n",
    "Create a function that replaces all the vowels in a string with a specified character."
   ]
  },
  {
   "cell_type": "code",
   "execution_count": 10,
   "id": "70d37c9d",
   "metadata": {},
   "outputs": [],
   "source": [
    "logging.info('Question 3: Create a function that replaces all the vowels in a string with a specified character.')\n",
    "logging.info('Start executing Question 3')\n"
   ]
  },
  {
   "cell_type": "code",
   "execution_count": 17,
   "id": "3be4e817",
   "metadata": {},
   "outputs": [],
   "source": [
    "def repVow(s,c):\n",
    "    '''replaces all the vowels in a string with a specified character.'''\n",
    "    try:\n",
    "        vow = ['a','e','i','o','u']\n",
    "        rs = ''.join([i if(i not in vow) else c for i in s ])\n",
    "        return rs\n",
    "    except Exception as e:\n",
    "        print(e)\n",
    "        logging.info(f'Error Occured: {e}')"
   ]
  },
  {
   "cell_type": "code",
   "execution_count": 18,
   "id": "78202fa1",
   "metadata": {},
   "outputs": [
    {
     "data": {
      "text/plain": [
       "'th# ##rdv#rk'"
      ]
     },
     "execution_count": 18,
     "metadata": {},
     "output_type": "execute_result"
    }
   ],
   "source": [
    "repVow('the aardvark','#')"
   ]
  },
  {
   "cell_type": "markdown",
   "id": "51e5e49a",
   "metadata": {},
   "source": [
    "### Question4. \n",
    "Write a function that calculates the factorial of a number recursively."
   ]
  },
  {
   "cell_type": "code",
   "execution_count": 19,
   "id": "bc7f7779",
   "metadata": {},
   "outputs": [],
   "source": [
    "logging.info('Question 4: Write a function that calculates the factorial of a number recursively.')\n",
    "logging.info('Start executing Question 4')\n"
   ]
  },
  {
   "cell_type": "code",
   "execution_count": 25,
   "id": "f419aaeb",
   "metadata": {},
   "outputs": [],
   "source": [
    "def factorial(num):\n",
    "    '''calculates the factorial of a number recursively'''\n",
    "    try:\n",
    "        pro = 1\n",
    "        for i in range(num):\n",
    "            pro = pro * (i+1)\n",
    "        return pro\n",
    "    except Exception as e:\n",
    "        print(e)\n",
    "        logging.info(f'Error Occure: {e}')\n"
   ]
  },
  {
   "cell_type": "code",
   "execution_count": 26,
   "id": "e9a2ca4c",
   "metadata": {},
   "outputs": [
    {
     "data": {
      "text/plain": [
       "120"
      ]
     },
     "execution_count": 26,
     "metadata": {},
     "output_type": "execute_result"
    }
   ],
   "source": [
    "factorial(5)"
   ]
  },
  {
   "cell_type": "markdown",
   "id": "aec3a6c0",
   "metadata": {},
   "source": [
    "### Question 5\n",
    "Hamming distance is the number of characters that differ between two strings.\n",
    "To illustrate:\n",
    "String1: &quot;abcbba&quot;\n",
    "String2: &quot;abcbda&quot;\n",
    "Hamming Distance: 1 - &quot;b&quot; vs. &quot;d&quot; is the only difference.\n",
    "Create a function that computes the hamming distance between two strings."
   ]
  },
  {
   "cell_type": "code",
   "execution_count": 28,
   "id": "ba6e51a5",
   "metadata": {},
   "outputs": [],
   "source": [
    "logging.info('Question 5: Hamming distance is the number of characters that differ between two strings. To illustrate: String1: \"abcbba\" String2: \"abcbda\" Hamming Distance: 1 - \"b\" vs. \"d\" is the only difference. Create a function that computes the hamming distance between two strings.')\n",
    "logging.info('Start executing Question 5')\n"
   ]
  },
  {
   "cell_type": "code",
   "execution_count": 37,
   "id": "95d439af",
   "metadata": {},
   "outputs": [],
   "source": [
    "def  hamming_distance(str1,str2):\n",
    "    '''computes the hamming distance between two strings'''\n",
    "    try:\n",
    "        summ = 0\n",
    "        for i in range(len(str1)):\n",
    "            if str1[i]!=str2[i]:\n",
    "                summ += abs(ord(str1[i])-ord(str2[i]))\n",
    "        return summ\n",
    "    except Exception as e:\n",
    "        print(e)\n",
    "        logging.info(f'Error Occured: {e}')"
   ]
  },
  {
   "cell_type": "code",
   "execution_count": 39,
   "id": "3b7196ae",
   "metadata": {},
   "outputs": [
    {
     "data": {
      "text/plain": [
       "5"
      ]
     },
     "execution_count": 39,
     "metadata": {},
     "output_type": "execute_result"
    }
   ],
   "source": [
    "hamming_distance('abcde','bcdef')"
   ]
  },
  {
   "cell_type": "code",
   "execution_count": null,
   "id": "fd42904f",
   "metadata": {},
   "outputs": [],
   "source": []
  },
  {
   "cell_type": "code",
   "execution_count": null,
   "id": "c872875f",
   "metadata": {},
   "outputs": [],
   "source": []
  }
 ],
 "metadata": {
  "kernelspec": {
   "display_name": "Python 3 (ipykernel)",
   "language": "python",
   "name": "python3"
  },
  "language_info": {
   "codemirror_mode": {
    "name": "ipython",
    "version": 3
   },
   "file_extension": ".py",
   "mimetype": "text/x-python",
   "name": "python",
   "nbconvert_exporter": "python",
   "pygments_lexer": "ipython3",
   "version": "3.9.7"
  }
 },
 "nbformat": 4,
 "nbformat_minor": 5
}
