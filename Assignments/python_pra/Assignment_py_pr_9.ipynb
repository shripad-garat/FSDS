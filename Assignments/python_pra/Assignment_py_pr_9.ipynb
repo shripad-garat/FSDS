{
 "cells": [
  {
   "cell_type": "code",
   "execution_count": 1,
   "id": "fc84efd9",
   "metadata": {},
   "outputs": [],
   "source": [
    "import logging\n"
   ]
  },
  {
   "cell_type": "code",
   "execution_count": 2,
   "id": "991406ed",
   "metadata": {},
   "outputs": [],
   "source": [
    "logging.basicConfig(filename = 'log_Assignment_9.log', level = logging.DEBUG, format  = '%(asctime)s : %(levelname)s : %(message)s')"
   ]
  },
  {
   "cell_type": "code",
   "execution_count": 4,
   "id": "122386f6",
   "metadata": {},
   "outputs": [],
   "source": [
    "logging.info('Start executing the Assignmrnt np 9 of python basic')"
   ]
  },
  {
   "cell_type": "markdown",
   "id": "97dbb699",
   "metadata": {},
   "source": [
    "##  Q1. Write a Python program to check if the given number is a Disarium Number?"
   ]
  },
  {
   "cell_type": "code",
   "execution_count": 43,
   "id": "40a3a646",
   "metadata": {},
   "outputs": [],
   "source": [
    "def DisariumNumber(a):\n",
    "    logging.info('Start executing Q1. Write a Python program to check if the given number is a Disarium Number?')\n",
    "    '''\n",
    "    This function will checks the number enter is Disarium number or not\n",
    "    And returns Trus is no. is Disarium else False\n",
    "    '''\n",
    "    try:\n",
    "        summ = 0\n",
    "        c = str(a)\n",
    "        for i in range(len(c)):\n",
    "            summ += (int(c[i])**(i+1))\n",
    "        if summ == a:\n",
    "            return True\n",
    "        else:\n",
    "            return False\n",
    "    except Exception as e:\n",
    "        print(e)\n",
    "        logging.error('Error occurred')\n",
    "        logging.exception(e)"
   ]
  },
  {
   "cell_type": "code",
   "execution_count": 44,
   "id": "3998c1a7",
   "metadata": {},
   "outputs": [
    {
     "name": "stdout",
     "output_type": "stream",
     "text": [
      "True\n"
     ]
    }
   ],
   "source": [
    "print(DisariumNumber(89))"
   ]
  },
  {
   "cell_type": "code",
   "execution_count": 45,
   "id": "1f9aecb8",
   "metadata": {},
   "outputs": [
    {
     "name": "stdout",
     "output_type": "stream",
     "text": [
      "True\n"
     ]
    }
   ],
   "source": [
    "print(DisariumNumber(135))"
   ]
  },
  {
   "cell_type": "code",
   "execution_count": 46,
   "id": "671a8d7f",
   "metadata": {},
   "outputs": [
    {
     "name": "stdout",
     "output_type": "stream",
     "text": [
      "False\n"
     ]
    }
   ],
   "source": [
    "print(DisariumNumber(80))"
   ]
  },
  {
   "cell_type": "code",
   "execution_count": 47,
   "id": "b5060f7b",
   "metadata": {},
   "outputs": [
    {
     "name": "stdout",
     "output_type": "stream",
     "text": [
      "False\n"
     ]
    }
   ],
   "source": [
    "print(DisariumNumber(88))"
   ]
  },
  {
   "cell_type": "markdown",
   "id": "b9c68d20",
   "metadata": {},
   "source": [
    "## Q2. Write a Python program to print all disarium numbers between 1 to 100?"
   ]
  },
  {
   "cell_type": "code",
   "execution_count": 48,
   "id": "816ad31d",
   "metadata": {},
   "outputs": [],
   "source": [
    "def disarium1to100():\n",
    "    logging.info('Start executing Q2. Write a Python program to print all disarium numbers between 1 to 100?')\n",
    "    '''This function will print all disariu numbers between 1 to 100 '''\n",
    "    try:\n",
    "        for i in range(1,101):\n",
    "            logging.info('using the DisariumNumber function from previous Question')\n",
    "            if DisariumNumber(i):\n",
    "                print(i)\n",
    "            else:\n",
    "                continue\n",
    "    except Exception as e:\n",
    "        print(e)\n",
    "        logging.error('Error occurred')\n",
    "        logging.exception(e)"
   ]
  },
  {
   "cell_type": "code",
   "execution_count": 49,
   "id": "f8a97995",
   "metadata": {},
   "outputs": [
    {
     "name": "stdout",
     "output_type": "stream",
     "text": [
      "1\n",
      "2\n",
      "3\n",
      "4\n",
      "5\n",
      "6\n",
      "7\n",
      "8\n",
      "9\n",
      "89\n"
     ]
    }
   ],
   "source": [
    "disarium1to100()"
   ]
  },
  {
   "cell_type": "markdown",
   "id": "1282dd7a",
   "metadata": {},
   "source": [
    "## Q3. Write a Python program to check if the given number is Happy Number?"
   ]
  },
  {
   "cell_type": "code",
   "execution_count": 51,
   "id": "c081ae1b",
   "metadata": {},
   "outputs": [],
   "source": [
    "def HappyNumber(a):\n",
    "    '''This function will check if the given number is happy number or not'''\n",
    "    logging.info('Start executing Q3. Write a Python program to check if the given number is Happy Number?')\n",
    "    try:\n",
    "        numset = []\n",
    "        while True:\n",
    "            temp = sum([int(i)**2 for i in str(a)])\n",
    "            if temp == 1:\n",
    "                return True\n",
    "            elif temp in numset:\n",
    "                return False\n",
    "            else:\n",
    "                a = temp\n",
    "                numset.append(temp)\n",
    "    except Exception as e:\n",
    "        print(e)\n",
    "        logging.error('Error occurred')\n",
    "        logging.exception(e)"
   ]
  },
  {
   "cell_type": "code",
   "execution_count": 52,
   "id": "d3f0738a",
   "metadata": {},
   "outputs": [
    {
     "data": {
      "text/plain": [
       "True"
      ]
     },
     "execution_count": 52,
     "metadata": {},
     "output_type": "execute_result"
    }
   ],
   "source": [
    "HappyNumber(19)"
   ]
  },
  {
   "cell_type": "code",
   "execution_count": 53,
   "id": "b5005899",
   "metadata": {},
   "outputs": [
    {
     "data": {
      "text/plain": [
       "False"
      ]
     },
     "execution_count": 53,
     "metadata": {},
     "output_type": "execute_result"
    }
   ],
   "source": [
    "HappyNumber(20)"
   ]
  },
  {
   "cell_type": "markdown",
   "id": "3846bd09",
   "metadata": {},
   "source": [
    "## Q4. Write a Python program to print all happy numbers between 1 and 100?"
   ]
  },
  {
   "cell_type": "code",
   "execution_count": 54,
   "id": "19b3ee80",
   "metadata": {},
   "outputs": [],
   "source": [
    "def Happy1to100():\n",
    "    logging.info('Start executing Q4. Write a Python program to print all happy numbers between 1 and 100?')\n",
    "    '''This function will print all Happy number numbers between 1 to 100 '''\n",
    "    try:\n",
    "        for i in range(1,101):\n",
    "            logging.info('using the HappyNumber function from previous Question')\n",
    "            if HappyNumber(i):\n",
    "                print(i)\n",
    "            else:\n",
    "                continue\n",
    "    except Exception as e:\n",
    "        print(e)\n",
    "        logging.error('Error occurred')\n",
    "        logging.exception(e)"
   ]
  },
  {
   "cell_type": "code",
   "execution_count": 55,
   "id": "2eae7ff9",
   "metadata": {},
   "outputs": [
    {
     "name": "stdout",
     "output_type": "stream",
     "text": [
      "1\n",
      "7\n",
      "10\n",
      "13\n",
      "19\n",
      "23\n",
      "28\n",
      "31\n",
      "32\n",
      "44\n",
      "49\n",
      "68\n",
      "70\n",
      "79\n",
      "82\n",
      "86\n",
      "91\n",
      "94\n",
      "97\n",
      "100\n"
     ]
    }
   ],
   "source": [
    "Happy1to100()"
   ]
  },
  {
   "cell_type": "markdown",
   "id": "dadcbc60",
   "metadata": {},
   "source": [
    "## Q5. Write a Python program to determine whether the given number is a Harshad Number?"
   ]
  },
  {
   "cell_type": "code",
   "execution_count": 57,
   "id": "3cf1b5ac",
   "metadata": {},
   "outputs": [],
   "source": [
    "def HarshadNumber(a):\n",
    "    '''This function will check whether the given number is Harshad number or not'''\n",
    "    logging.info('Start executing Q5. Write a Python program to determine whether the given number is a Harshad Number?')\n",
    "    try:\n",
    "        if a%(sum([int(i) for i in str(a)])) == 0:\n",
    "            return True\n",
    "        else :\n",
    "            return False\n",
    "    except Exception as e:\n",
    "        print(e)\n",
    "        logging.error('Error occurred')\n",
    "        logging.exception(e)"
   ]
  },
  {
   "cell_type": "code",
   "execution_count": 58,
   "id": "60324943",
   "metadata": {},
   "outputs": [
    {
     "data": {
      "text/plain": [
       "False"
      ]
     },
     "execution_count": 58,
     "metadata": {},
     "output_type": "execute_result"
    }
   ],
   "source": [
    "HarshadNumber(22)"
   ]
  },
  {
   "cell_type": "code",
   "execution_count": 59,
   "id": "28fd16f6",
   "metadata": {},
   "outputs": [
    {
     "data": {
      "text/plain": [
       "True"
      ]
     },
     "execution_count": 59,
     "metadata": {},
     "output_type": "execute_result"
    }
   ],
   "source": [
    "HarshadNumber(20)"
   ]
  },
  {
   "cell_type": "markdown",
   "id": "842a3d2f",
   "metadata": {},
   "source": [
    "## Q6. Write a Python program to print all pronic numbers between 1 and 100?"
   ]
  },
  {
   "cell_type": "code",
   "execution_count": null,
   "id": "9ab71f51",
   "metadata": {},
   "outputs": [],
   "source": [
    "def Harshad1to100():\n",
    "    logging.info('Start executing Q6. Write a Python program to print all pronic numbers between 1 and 100?')\n",
    "    '''This function will print all Harshad number numbers between 1 to 100 '''\n",
    "    try:\n",
    "        for i in range(1,101):\n",
    "            logging.info('using the HarshadNumber function from previous Question')\n",
    "            if HarshadNumber(i):\n",
    "                print(i)\n",
    "            else:\n",
    "                continue\n",
    "    except Exception as e:\n",
    "        print(e)\n",
    "        logging.error('Error occurred')\n",
    "        logging.exception(e)"
   ]
  }
 ],
 "metadata": {
  "kernelspec": {
   "display_name": "Python 3 (ipykernel)",
   "language": "python",
   "name": "python3"
  },
  "language_info": {
   "codemirror_mode": {
    "name": "ipython",
    "version": 3
   },
   "file_extension": ".py",
   "mimetype": "text/x-python",
   "name": "python",
   "nbconvert_exporter": "python",
   "pygments_lexer": "ipython3",
   "version": "3.9.7"
  }
 },
 "nbformat": 4,
 "nbformat_minor": 5
}
