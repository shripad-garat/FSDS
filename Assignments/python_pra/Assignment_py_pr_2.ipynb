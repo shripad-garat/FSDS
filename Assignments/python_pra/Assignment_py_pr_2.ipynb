{
 "cells": [
  {
   "cell_type": "markdown",
   "id": "cae3ceb0",
   "metadata": {},
   "source": [
    "1. Write a Python program to convert kilometers to miles?"
   ]
  },
  {
   "cell_type": "code",
   "execution_count": 3,
   "id": "3daa1ba1",
   "metadata": {},
   "outputs": [
    {
     "name": "stdout",
     "output_type": "stream",
     "text": [
      "Enter the no. of Km: 10\n",
      "Miles =  6.21371\n"
     ]
    }
   ],
   "source": [
    "k = float(input('Enter the no. of Km: '))\n",
    "m = k*0.621371\n",
    "print('Miles = ',str(m))"
   ]
  },
  {
   "cell_type": "markdown",
   "id": "95cd8e15",
   "metadata": {},
   "source": [
    "2. Write a Python program to convert Celsius to Fahrenheit?"
   ]
  },
  {
   "cell_type": "code",
   "execution_count": 5,
   "id": "7ff62a75",
   "metadata": {},
   "outputs": [
    {
     "name": "stdout",
     "output_type": "stream",
     "text": [
      "Enter the temperature in degree celsius:  0\n",
      "Fehrenheit: 32.0f\n"
     ]
    }
   ],
   "source": [
    "c = float(input('Enter the temperature in degree celsius:  '))\n",
    "f = (c * 9/5) + 32\n",
    "print('Fehrenheit: '+str(f)+'f')"
   ]
  },
  {
   "cell_type": "markdown",
   "id": "b6a40913",
   "metadata": {},
   "source": [
    "3. Write a Python program to display calendar?"
   ]
  },
  {
   "cell_type": "code",
   "execution_count": 12,
   "id": "175c0576",
   "metadata": {},
   "outputs": [
    {
     "name": "stdout",
     "output_type": "stream",
     "text": [
      "Enter a mounth in No. 2\n",
      "Enter a year in No. 1999\n",
      "   February 1999\n",
      "Mo Tu We Th Fr Sa Su\n",
      " 1  2  3  4  5  6  7\n",
      " 8  9 10 11 12 13 14\n",
      "15 16 17 18 19 20 21\n",
      "22 23 24 25 26 27 28\n",
      "\n"
     ]
    }
   ],
   "source": [
    "import calendar\n",
    "mm = int(input('Enter a mounth in No. '))\n",
    "yy = int(input('Enter a year in No. '))\n",
    "print(calendar.month(yy,mm))"
   ]
  },
  {
   "cell_type": "markdown",
   "id": "2897c805",
   "metadata": {},
   "source": [
    "4. Write a Python program to solve quadratic equation?|"
   ]
  },
  {
   "cell_type": "code",
   "execution_count": 13,
   "id": "00b9f0e6",
   "metadata": {},
   "outputs": [
    {
     "name": "stdout",
     "output_type": "stream",
     "text": [
      "Enter a5\n",
      "Enter b5\n",
      "Enter c5\n",
      "Complex Roots\n",
      "-0.5  + i 8.660254037844387\n",
      "-0.5  - i 8.660254037844387\n"
     ]
    }
   ],
   "source": [
    "import math\n",
    "a = int(input('Enter a'))\n",
    "b = int(input('Enter b'))\n",
    "c = int(input('Enter c'))\n",
    "if a == 0:\n",
    "    print('Enter the valid Quadratic equation')\n",
    "else:\n",
    "    sqr_b = b**2\n",
    "    _4_a_c = 4 * a * c\n",
    "    dis = sqr_b - _4_a_c\n",
    "    sqrt_val = math.sqrt(abs(dis)) \n",
    "    if dis > 0:\n",
    "        print(\" real and different roots \") \n",
    "        print((-b + sqrt_val)/(2 * a)) \n",
    "        print((-b - sqrt_val)/(2 * a)) \n",
    "      \n",
    "    elif dis == 0: \n",
    "        print(\" real and same roots\") \n",
    "        print(-b / (2 * a)) \n",
    "    else:\n",
    "        print(\"Complex Roots\") \n",
    "        print(- b / (2 * a), \" + i\", sqrt_val) \n",
    "        print(- b / (2 * a), \" - i\", sqrt_val) "
   ]
  },
  {
   "cell_type": "markdown",
   "id": "8ae6594f",
   "metadata": {},
   "source": [
    "5. Write a Python program to swap two variables without temp variable?"
   ]
  },
  {
   "cell_type": "code",
   "execution_count": 15,
   "id": "165d9ef0",
   "metadata": {},
   "outputs": [
    {
     "name": "stdout",
     "output_type": "stream",
     "text": [
      "Enter value of a5\n",
      "Enter value of b9\n",
      "The value after swap of a is 9 and b is 5\n"
     ]
    }
   ],
   "source": [
    "a = int(input('Enter value of a'))\n",
    "b = int(input('Enter value of b'))\n",
    "a,b = b,a\n",
    "print(f'The value after swap of a is {a} and b is {b}')"
   ]
  },
  {
   "cell_type": "code",
   "execution_count": null,
   "id": "02fa78fb",
   "metadata": {},
   "outputs": [],
   "source": []
  }
 ],
 "metadata": {
  "kernelspec": {
   "display_name": "Python 3 (ipykernel)",
   "language": "python",
   "name": "python3"
  },
  "language_info": {
   "codemirror_mode": {
    "name": "ipython",
    "version": 3
   },
   "file_extension": ".py",
   "mimetype": "text/x-python",
   "name": "python",
   "nbconvert_exporter": "python",
   "pygments_lexer": "ipython3",
   "version": "3.9.7"
  }
 },
 "nbformat": 4,
 "nbformat_minor": 5
}
