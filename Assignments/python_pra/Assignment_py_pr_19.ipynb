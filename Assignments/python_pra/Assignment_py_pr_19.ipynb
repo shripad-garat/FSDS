{
 "cells": [
  {
   "cell_type": "markdown",
   "id": "247e3870",
   "metadata": {},
   "source": [
    "### Question1\n",
    "Create a function that takes a string and returns a string in which each character is repeated\n",
    "once."
   ]
  },
  {
   "cell_type": "code",
   "execution_count": 1,
   "id": "ca4b977c",
   "metadata": {},
   "outputs": [],
   "source": [
    "import logging\n",
    "import math\n",
    "logging.basicConfig(filename = 'log_Assignment_19.log',level = logging.DEBUG, format = '%(asctime)s : %(levelname)s : %(message)s')\n"
   ]
  },
  {
   "cell_type": "code",
   "execution_count": 2,
   "id": "b7fd00ac",
   "metadata": {},
   "outputs": [],
   "source": [
    "logging.info('Question 1: Create a function that takes a string and returns a string in which each character is repeated once.')\n",
    "logging.info('Start executing Question 1')"
   ]
  },
  {
   "cell_type": "code",
   "execution_count": 4,
   "id": "1a48b548",
   "metadata": {},
   "outputs": [],
   "source": [
    "def double_char(s):\n",
    "    '''takes a string and returns a string in which each character is repeated once.'''\n",
    "    try:\n",
    "        res = [i*2 for i in s]\n",
    "        return ''.join(res)\n",
    "    except Exception as e:\n",
    "        print(e)\n",
    "        logging.info(f'Error Occured: {e}')"
   ]
  },
  {
   "cell_type": "code",
   "execution_count": 5,
   "id": "da0652ae",
   "metadata": {},
   "outputs": [
    {
     "data": {
      "text/plain": [
       "'SSttrriinngg'"
      ]
     },
     "execution_count": 5,
     "metadata": {},
     "output_type": "execute_result"
    }
   ],
   "source": [
    "double_char('String')"
   ]
  },
  {
   "cell_type": "markdown",
   "id": "a78be980",
   "metadata": {},
   "source": [
    "### Question2\n",
    "Create a function that reverses a boolean value and returns the string &quot;boolean expected&quot;\n",
    "if another variable type is given."
   ]
  },
  {
   "cell_type": "code",
   "execution_count": 6,
   "id": "8d183a4c",
   "metadata": {},
   "outputs": [],
   "source": [
    "logging.info('Question 2: Create a function that reverses a boolean value and returns the string \"boolean expected\" if another variable type is given.')\n",
    "logging.info('Start executing Question 2')\n"
   ]
  },
  {
   "cell_type": "code",
   "execution_count": 15,
   "id": "7fe2b710",
   "metadata": {},
   "outputs": [],
   "source": [
    "def reverse(b):\n",
    "    '''reverses a boolean value'''\n",
    "    try:\n",
    "        if type(b) != bool:\n",
    "            return 'boolean expected'\n",
    "        if b == True:\n",
    "            return False\n",
    "        elif b == False:\n",
    "            return True\n",
    "        \n",
    "    except Exception as e:\n",
    "        print(e)\n",
    "        logging.info(f'Error Occure: {e}')\n",
    "\n",
    "        "
   ]
  },
  {
   "cell_type": "code",
   "execution_count": 16,
   "id": "b9ba61d5",
   "metadata": {},
   "outputs": [
    {
     "data": {
      "text/plain": [
       "'boolean expected'"
      ]
     },
     "execution_count": 16,
     "metadata": {},
     "output_type": "execute_result"
    }
   ],
   "source": [
    "reverse(1)"
   ]
  },
  {
   "cell_type": "code",
   "execution_count": 17,
   "id": "727f6ff9",
   "metadata": {},
   "outputs": [
    {
     "data": {
      "text/plain": [
       "False"
      ]
     },
     "execution_count": 17,
     "metadata": {},
     "output_type": "execute_result"
    }
   ],
   "source": [
    "reverse(True)"
   ]
  },
  {
   "cell_type": "markdown",
   "id": "1605b56a",
   "metadata": {},
   "source": [
    "### Question3\n",
    "Create a function that returns the thickness (in meters) of a piece of paper after folding it n\n",
    "number of times. The paper starts off with a thickness of 0.5mm."
   ]
  },
  {
   "cell_type": "code",
   "execution_count": 18,
   "id": "69d8c598",
   "metadata": {},
   "outputs": [],
   "source": [
    "logging.info('Question 3: Create a function that returns the thickness (in meters) of a piece of paper after folding it n number of times. The paper starts off with a thickness of 0.5mm.')\n",
    "logging.info('Start executing Question 3')\n"
   ]
  },
  {
   "cell_type": "code",
   "execution_count": 19,
   "id": "7cea1f6c",
   "metadata": {},
   "outputs": [],
   "source": [
    "def num_layers(n):\n",
    "    '''the thickness (in meters) of a piece of paper after folding it n number of times'''\n",
    "    try:\n",
    "        return 0.0005*(2**n)\n",
    "    except Exception as e:\n",
    "        print(e)\n",
    "        logging.info(f'Error Occure: {e}')"
   ]
  },
  {
   "cell_type": "code",
   "execution_count": 20,
   "id": "b934301a",
   "metadata": {},
   "outputs": [
    {
     "data": {
      "text/plain": [
       "1048.576"
      ]
     },
     "execution_count": 20,
     "metadata": {},
     "output_type": "execute_result"
    }
   ],
   "source": [
    "num_layers(21)"
   ]
  },
  {
   "cell_type": "code",
   "execution_count": 21,
   "id": "512da770",
   "metadata": {},
   "outputs": [
    {
     "data": {
      "text/plain": [
       "0.001"
      ]
     },
     "execution_count": 21,
     "metadata": {},
     "output_type": "execute_result"
    }
   ],
   "source": [
    "num_layers(1)"
   ]
  },
  {
   "cell_type": "markdown",
   "id": "3913a456",
   "metadata": {},
   "source": [
    "### Question4\n",
    "\n",
    "Create a function that takes a single string as argument and returns an ordered list containing\n",
    "the indices of all capital letters in the string."
   ]
  },
  {
   "cell_type": "code",
   "execution_count": 22,
   "id": "e7d23664",
   "metadata": {},
   "outputs": [],
   "source": [
    "logging.info('Question 4: Create a function that takes a single string as argument and returns an ordered list containing the indices of all capital letters in the string.')\n",
    "logging.info('Start executing Question 4')\n"
   ]
  },
  {
   "cell_type": "code",
   "execution_count": 23,
   "id": "cf5a0745",
   "metadata": {},
   "outputs": [],
   "source": [
    "def index_of_caps(s):\n",
    "    '''takes a single string as argument and returns an ordered list containing the indices of all capital letters in the string.''' \n",
    "    try:\n",
    "        res = [i for i in range(len(s)) if s[i].isupper()]\n",
    "        return res\n",
    "    except Exception as e:\n",
    "        print(e)\n",
    "        logging.info(f'Error Occured: {e}')"
   ]
  },
  {
   "cell_type": "code",
   "execution_count": 24,
   "id": "539b6dbf",
   "metadata": {},
   "outputs": [
    {
     "data": {
      "text/plain": [
       "[1, 3, 5]"
      ]
     },
     "execution_count": 24,
     "metadata": {},
     "output_type": "execute_result"
    }
   ],
   "source": [
    "index_of_caps('eDaBiT')"
   ]
  },
  {
   "cell_type": "markdown",
   "id": "5e012b46",
   "metadata": {},
   "source": [
    "### Question5\n",
    "Using list comprehensions, create a function that finds all even numbers from 1 to the given\n",
    "number."
   ]
  },
  {
   "cell_type": "code",
   "execution_count": 25,
   "id": "4f2caada",
   "metadata": {},
   "outputs": [],
   "source": [
    "logging.info('Question 5: Using list comprehensions, create a function that finds all even numbers from 1 to the given number.')\n",
    "logging.info('Start executing Question 5')\n"
   ]
  },
  {
   "cell_type": "code",
   "execution_count": 29,
   "id": "19542b85",
   "metadata": {},
   "outputs": [],
   "source": [
    "def find_even_num(n):\n",
    "    '''finds all even numbers from 1 to n.'''\n",
    "    try:\n",
    "        return [i for i in range(1,n+1) if i%2 ==0]\n",
    "    except Exception as e:\n",
    "        print(e)\n",
    "        logging.info(f'Error Occured: {e}')"
   ]
  },
  {
   "cell_type": "code",
   "execution_count": 30,
   "id": "69fc9c77",
   "metadata": {},
   "outputs": [
    {
     "data": {
      "text/plain": [
       "[2, 4, 6, 8]"
      ]
     },
     "execution_count": 30,
     "metadata": {},
     "output_type": "execute_result"
    }
   ],
   "source": [
    "find_even_num(8)"
   ]
  },
  {
   "cell_type": "code",
   "execution_count": null,
   "id": "42151e83",
   "metadata": {},
   "outputs": [],
   "source": []
  }
 ],
 "metadata": {
  "kernelspec": {
   "display_name": "Python 3 (ipykernel)",
   "language": "python",
   "name": "python3"
  },
  "language_info": {
   "codemirror_mode": {
    "name": "ipython",
    "version": 3
   },
   "file_extension": ".py",
   "mimetype": "text/x-python",
   "name": "python",
   "nbconvert_exporter": "python",
   "pygments_lexer": "ipython3",
   "version": "3.9.7"
  }
 },
 "nbformat": 4,
 "nbformat_minor": 5
}
