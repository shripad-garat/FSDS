{
 "cells": [
  {
   "cell_type": "code",
   "execution_count": 1,
   "id": "063394eb",
   "metadata": {},
   "outputs": [],
   "source": [
    "import logging\n",
    "logging.basicConfig(filename='log_Assignment_10.log',level= logging.DEBUG, format= '%(asctime)s : %(levelname)s : %(message)s')"
   ]
  },
  {
   "cell_type": "markdown",
   "id": "19eb15b2",
   "metadata": {},
   "source": [
    "## Q1. Write a Python program to find sum of elements in list?"
   ]
  },
  {
   "cell_type": "code",
   "execution_count": 2,
   "id": "0afd1812",
   "metadata": {},
   "outputs": [],
   "source": [
    "def listsum(l):\n",
    "    '''This function will return the sum of all elements in list l\n",
    "    l --> Input list, type = list'''\n",
    "    logging.info('Start executing Q1. Write a Python program to find sum of elements in list?')\n",
    "    try:\n",
    "        if type(l) != list:\n",
    "            logging.info('Invalid List')\n",
    "            raise Exception('Enter a valid list')\n",
    "\n",
    "        else:\n",
    "            result = 0\n",
    "            for i in l:\n",
    "                result += i\n",
    "            return result\n",
    "    except Exception as e:\n",
    "        print(e)\n",
    "        logging.error('Error ocured')\n",
    "        logging.info(e)"
   ]
  },
  {
   "cell_type": "code",
   "execution_count": 3,
   "id": "1eae2436",
   "metadata": {},
   "outputs": [
    {
     "name": "stdout",
     "output_type": "stream",
     "text": [
      "28\n"
     ]
    }
   ],
   "source": [
    "l = [1,2,3,4,5,6,7]\n",
    "print(listsum(l))"
   ]
  },
  {
   "cell_type": "markdown",
   "id": "85458665",
   "metadata": {},
   "source": [
    "## Q2. Write a Python program to Multiply all numbers in the list?"
   ]
  },
  {
   "cell_type": "code",
   "execution_count": 4,
   "id": "deae2b84",
   "metadata": {},
   "outputs": [],
   "source": [
    "def listmulti(l):\n",
    "    '''This function will returns the Multiply of all numbers in the list\n",
    "    l --> Input list, type = list'''\n",
    "    logging.info('Start executing Q2. Write a Python program to Multiply all numbers in the list?')\n",
    "    try:\n",
    "        if type(l) != list:\n",
    "            logging.info('Invalid List')\n",
    "            raise Exception('Enter a valid list')\n",
    "\n",
    "        else:\n",
    "            result = 1\n",
    "            for i in l:\n",
    "                result *= i\n",
    "            return result\n",
    "    except Exception as e:\n",
    "        print(e)\n",
    "        logging.error('Error ocured')\n",
    "        logging.info(e)"
   ]
  },
  {
   "cell_type": "code",
   "execution_count": 5,
   "id": "6527d50a",
   "metadata": {},
   "outputs": [
    {
     "name": "stdout",
     "output_type": "stream",
     "text": [
      "5040\n"
     ]
    }
   ],
   "source": [
    "l = [1,2,3,4,5,6,7]\n",
    "print(listmulti(l))"
   ]
  },
  {
   "cell_type": "markdown",
   "id": "94a50964",
   "metadata": {},
   "source": [
    "## Q3. Write a Python program to find smallest number in a list?"
   ]
  },
  {
   "cell_type": "code",
   "execution_count": 6,
   "id": "ea6b31f2",
   "metadata": {},
   "outputs": [],
   "source": [
    "def smallest(l):\n",
    "    '''This function will returns the smallest element in the list \n",
    "    l --> Input liust , type = list'''\n",
    "    logging.info('Start executing Q3. Write a Python program to find smallest number in a list?')\n",
    "    try:\n",
    "        if type(l) != list:\n",
    "            logging.info('Invalid List')\n",
    "            raise Exception('Enter a valid list')\n",
    "        else:\n",
    "            low = None\n",
    "            for i in range(len(l)):\n",
    "                if i == 0:\n",
    "                    low = l[i]\n",
    "                elif low >= l[i]:\n",
    "                    low = l[i]\n",
    "            return low\n",
    "    except Exception as e:\n",
    "        print(e)\n",
    "        logging.error('Error ocured')\n",
    "        logging.info(e)"
   ]
  },
  {
   "cell_type": "code",
   "execution_count": 7,
   "id": "160539de",
   "metadata": {},
   "outputs": [
    {
     "name": "stdout",
     "output_type": "stream",
     "text": [
      "2\n"
     ]
    }
   ],
   "source": [
    "l =[7,9,2,2,32,6,3,2,63,46,52,4]\n",
    "print(smallest(l))"
   ]
  },
  {
   "cell_type": "markdown",
   "id": "f5cfb660",
   "metadata": {},
   "source": [
    "## Q4. Write a Python program to find largest number in a list?"
   ]
  },
  {
   "cell_type": "code",
   "execution_count": 8,
   "id": "4bbe8e3b",
   "metadata": {},
   "outputs": [],
   "source": [
    "def largest(l):\n",
    "    '''Thius function will returns the largest number in the list \n",
    "    l --> list, type = list'''\n",
    "    logging.info('Start executing Q4. Write a Python program to find largest number in a list?')\n",
    "    try:\n",
    "        if type(l) != list:\n",
    "            logging.info('Invalid List')\n",
    "            raise Exception('Enter a valid list')\n",
    "        else:\n",
    "            high = None\n",
    "            for i in range(len(l)):\n",
    "                if i == 0:\n",
    "                    high = l[i]\n",
    "                elif high <= l[i]:\n",
    "                    high = l[i]\n",
    "            return high\n",
    "    except Exception as e:\n",
    "        print(e)\n",
    "        logging.error('Error ocured')\n",
    "        logging.info(e)"
   ]
  },
  {
   "cell_type": "code",
   "execution_count": 9,
   "id": "153cc33c",
   "metadata": {},
   "outputs": [
    {
     "name": "stdout",
     "output_type": "stream",
     "text": [
      "63\n"
     ]
    }
   ],
   "source": [
    "l =[7,9,2,2,32,6,3,2,63,46,52,4]\n",
    "print(largest(l))"
   ]
  },
  {
   "cell_type": "markdown",
   "id": "3caf8ca8",
   "metadata": {},
   "source": [
    "## Q5. Write a Python program to find second largest number in a list?"
   ]
  },
  {
   "cell_type": "code",
   "execution_count": 10,
   "id": "af538e4d",
   "metadata": {},
   "outputs": [],
   "source": [
    "def SecLargest(l):\n",
    "    '''This function will return Secound largest number in the list \n",
    "    l' --> Input list , type = list'''\n",
    "    logging.info('Start executing Q5. Write a Python program to find second largest number in a list?')\n",
    "    try:\n",
    "        if type(l) != list:\n",
    "            logging.info('Invalid List')\n",
    "            raise Exception('Enter a valid list')\n",
    "        else:\n",
    "            sechigh = None\n",
    "            for i in range(len(l)):\n",
    "                if i == 0:\n",
    "                    temp = l[i]\n",
    "                elif temp <= l[i]:\n",
    "                    sechigh = temp\n",
    "                    temp = l[i]\n",
    "                elif sechigh <= l[i]:\n",
    "                    sechigh = l[i]\n",
    "            return sechigh\n",
    "    except Exception as e:\n",
    "        print(e)\n",
    "        logging.error('Error ocured')\n",
    "        logging.info(e)"
   ]
  },
  {
   "cell_type": "code",
   "execution_count": 11,
   "id": "3686dad7",
   "metadata": {},
   "outputs": [
    {
     "name": "stdout",
     "output_type": "stream",
     "text": [
      "8\n"
     ]
    }
   ],
   "source": [
    "l = [2,5,6,9,3,8,2,8,6]\n",
    "print(SecLargest(l))"
   ]
  },
  {
   "cell_type": "markdown",
   "id": "5fb157a9",
   "metadata": {},
   "source": [
    "## Q6. Write a Python program to find N largest elements from a list?"
   ]
  },
  {
   "cell_type": "code",
   "execution_count": 12,
   "id": "8fc7328d",
   "metadata": {},
   "outputs": [],
   "source": [
    "def NLargest(l,n):\n",
    "    '''This function will return the N th largest element from the list \n",
    "    l --> Input list, type = list\n",
    "    n --> N th position, type = int'''\n",
    "    logging.info('Start executing Q6. Write a Python program to find N largest elements from a list?')\n",
    "    try:\n",
    "        if type(l) != list:\n",
    "            logging.info('Invalid List')\n",
    "            raise Exception('Enter a valid list')\n",
    "        else:\n",
    "            l.sort()\n",
    "            return l[len(l)-n]\n",
    "    except Exception as e:\n",
    "        print(e)\n",
    "        logging.error('Error ocured')\n",
    "        logging.info(e)"
   ]
  },
  {
   "cell_type": "code",
   "execution_count": 13,
   "id": "f196e6b1",
   "metadata": {},
   "outputs": [
    {
     "name": "stdout",
     "output_type": "stream",
     "text": [
      "5\n"
     ]
    }
   ],
   "source": [
    "l = [2,5,6,9,3,8,2,8,6]\n",
    "print(NLargest(l,6))"
   ]
  },
  {
   "cell_type": "markdown",
   "id": "eceec978",
   "metadata": {},
   "source": [
    "## Q7. Write a Python program to print even numbers in a list?"
   ]
  },
  {
   "cell_type": "code",
   "execution_count": 14,
   "id": "0dbcd80b",
   "metadata": {},
   "outputs": [],
   "source": [
    "def evenNum(l):\n",
    "    '''This function will print the even number from the list\n",
    "    l --> Input list, type = list'''\n",
    "    logging.info('Start executing Q7. Write a Python program to print even numbers in a list?')\n",
    "    try:\n",
    "        if type(l) != list:\n",
    "            logging.info('Invalid List')\n",
    "            raise Exception('Enter a valid list')\n",
    "        else:\n",
    "            for i in l:\n",
    "                if i%2==0:\n",
    "                    print(i)\n",
    "    except Exception as e:\n",
    "        print(e)\n",
    "        logging.error('Error ocured')\n",
    "        logging.info(e)"
   ]
  },
  {
   "cell_type": "code",
   "execution_count": 15,
   "id": "4174f6ff",
   "metadata": {},
   "outputs": [],
   "source": [
    "l = [8,6,8,98,2,9,4,5,7,3,1,7,9,3]"
   ]
  },
  {
   "cell_type": "code",
   "execution_count": 16,
   "id": "d83595e7",
   "metadata": {},
   "outputs": [
    {
     "name": "stdout",
     "output_type": "stream",
     "text": [
      "8\n",
      "6\n",
      "8\n",
      "98\n",
      "2\n",
      "4\n"
     ]
    }
   ],
   "source": [
    "\n",
    "evenNum(l)"
   ]
  },
  {
   "cell_type": "markdown",
   "id": "dce2545f",
   "metadata": {},
   "source": [
    "## Q8. Write a Python program to print odd numbers in a List?"
   ]
  },
  {
   "cell_type": "code",
   "execution_count": 17,
   "id": "c2db9ea5",
   "metadata": {},
   "outputs": [],
   "source": [
    "def oddNum(l):\n",
    "    '''This function will print the odd no. from the list\n",
    "    l --> Input list, type = list'''\n",
    "    logging.info('Start executing Q8. Write a Python program to print odd numbers in a List?')\n",
    "    try:\n",
    "        if type(l) != list:\n",
    "            logging.info('Invalid List')\n",
    "            raise Exception('Enter a valid list')\n",
    "        else:\n",
    "            for i in l:\n",
    "                if i%2!=0:\n",
    "                    print(i)\n",
    "    except Exception as e:\n",
    "        print(e)\n",
    "        logging.error('Error ocured')\n",
    "        logging.info(e)"
   ]
  },
  {
   "cell_type": "code",
   "execution_count": 18,
   "id": "074b71a9",
   "metadata": {},
   "outputs": [
    {
     "name": "stdout",
     "output_type": "stream",
     "text": [
      "9\n",
      "5\n",
      "7\n",
      "3\n",
      "1\n",
      "7\n",
      "9\n",
      "3\n"
     ]
    }
   ],
   "source": [
    "l = [8,6,8,98,2,9,4,5,7,3,1,7,9,3]\n",
    "oddNum(l)"
   ]
  },
  {
   "cell_type": "markdown",
   "id": "64b62499",
   "metadata": {},
   "source": [
    "## Q9. Write a Python program to Remove empty List from List?"
   ]
  },
  {
   "cell_type": "code",
   "execution_count": 19,
   "id": "8d244ca2",
   "metadata": {},
   "outputs": [],
   "source": [
    "def RemoveEmpList(l):\n",
    "    '''This function will remove the empty list from the given list\n",
    "    l --> list, type = list'''\n",
    "    logging.info('Start executingQ9. Write a Python program to Remove empty List from List')\n",
    "    try:\n",
    "        if type(l) != list:\n",
    "            logging.info('Invalid List')\n",
    "            raise Exception('Enter a valid list')\n",
    "        else:\n",
    "            for i in l:\n",
    "                if i == []:\n",
    "                    l.remove(i)\n",
    "    except Exception as e:\n",
    "        print(e)\n",
    "        logging.error('Error ocured')\n",
    "        logging.info(e)"
   ]
  },
  {
   "cell_type": "code",
   "execution_count": 20,
   "id": "96673482",
   "metadata": {},
   "outputs": [
    {
     "name": "stdout",
     "output_type": "stream",
     "text": [
      "[82144, 72, 69, 87, [728, 82, 7821, 8, 7]]\n"
     ]
    }
   ],
   "source": [
    "l =[[],82144,72,69,87,[],[728,82,7821,8,7],[]]\n",
    "RemoveEmpList(l)\n",
    "print(l)"
   ]
  },
  {
   "cell_type": "markdown",
   "id": "a59e6b2d",
   "metadata": {},
   "source": [
    "## Q10. Write a Python program to Cloning or Copying a list?"
   ]
  },
  {
   "cell_type": "code",
   "execution_count": 21,
   "id": "42b45c09",
   "metadata": {},
   "outputs": [],
   "source": [
    "def CopyList(l):\n",
    "    '''This function will Cloning or copying a given list\n",
    "    l --> list, type = list'''\n",
    "    logging.info('Start executing Q10. Write a Python program to Cloning or Copying a list?')\n",
    "    try:\n",
    "        if type(l) != list:\n",
    "            logging.info('Invalid List')\n",
    "            raise Exception('Enter a valid list')\n",
    "        else:\n",
    "            l_copy = l[:]\n",
    "            return l_copy\n",
    "    except Exception as e:\n",
    "        print(e)\n",
    "        logging.error('Error ocured')\n",
    "        logging.info(e)"
   ]
  },
  {
   "cell_type": "code",
   "execution_count": 22,
   "id": "cb944e26",
   "metadata": {},
   "outputs": [
    {
     "name": "stdout",
     "output_type": "stream",
     "text": [
      "[2, 6, 9, 52, 8, 282, 96, 52]\n"
     ]
    }
   ],
   "source": [
    "l = [2,6,9,52,8,282,96,52]\n",
    "print(CopyList(l))"
   ]
  },
  {
   "cell_type": "markdown",
   "id": "10798988",
   "metadata": {},
   "source": [
    "## Q11. Write a Python program to Count occurrences of an element in a list?"
   ]
  },
  {
   "cell_type": "code",
   "execution_count": 23,
   "id": "429dea27",
   "metadata": {},
   "outputs": [],
   "source": [
    "def Count(l):\n",
    "    '''This function will returns the Count occurrences of an element in a list\n",
    "    l --> Input list, type = list'''\n",
    "    logging.info('Start executing Q11. Write a Python program to Count occurrences of an element in a list?')\n",
    "    try:\n",
    "        if type(l) != list:\n",
    "            logging.info('Invalid List')\n",
    "            raise Exception('Enter a valid list')\n",
    "        else:\n",
    "            count = {}\n",
    "            for i in l:\n",
    "                if i in count.keys():\n",
    "                    count[i] = count[i] + 1\n",
    "                else:\n",
    "                    count[i] = 1\n",
    "            return count\n",
    "    except Exception as e:\n",
    "        print(e)\n",
    "        logging.error('Error ocured')\n",
    "        logging.info(e)"
   ]
  },
  {
   "cell_type": "code",
   "execution_count": 24,
   "id": "0f601495",
   "metadata": {},
   "outputs": [
    {
     "name": "stdout",
     "output_type": "stream",
     "text": [
      "{2: 5, 6: 4, 9: 6, 8: 3, 36: 1, 87: 1, 5: 1, 3: 3, 83: 1, 893: 1}\n"
     ]
    }
   ],
   "source": [
    "l = [2,2,6,9,2,8,2,9,6,2,8,6,9,36,87,5,9,3,83,893,9,3,8,6,9,3]\n",
    "print(Count(l))"
   ]
  },
  {
   "cell_type": "code",
   "execution_count": null,
   "id": "6066ab7c",
   "metadata": {},
   "outputs": [],
   "source": []
  }
 ],
 "metadata": {
  "kernelspec": {
   "display_name": "Python 3 (ipykernel)",
   "language": "python",
   "name": "python3"
  },
  "language_info": {
   "codemirror_mode": {
    "name": "ipython",
    "version": 3
   },
   "file_extension": ".py",
   "mimetype": "text/x-python",
   "name": "python",
   "nbconvert_exporter": "python",
   "pygments_lexer": "ipython3",
   "version": "3.9.7"
  }
 },
 "nbformat": 4,
 "nbformat_minor": 5
}
