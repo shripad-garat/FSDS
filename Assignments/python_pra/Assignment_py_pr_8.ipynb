{
 "cells": [
  {
   "cell_type": "markdown",
   "id": "421685f5",
   "metadata": {},
   "source": [
    "## Q1. Write a Python Program to Add Two Matrices?"
   ]
  },
  {
   "cell_type": "code",
   "execution_count": 1,
   "id": "4486fb70",
   "metadata": {},
   "outputs": [],
   "source": [
    "import logging "
   ]
  },
  {
   "cell_type": "code",
   "execution_count": 2,
   "id": "ac4dd516",
   "metadata": {},
   "outputs": [],
   "source": [
    "logging.basicConfig(filename = 'log_Assignment_8.log', level = logging.DEBUG, format = '%(asctime)s : %(levelname)s : %(message)s')"
   ]
  },
  {
   "cell_type": "code",
   "execution_count": 3,
   "id": "d0b83b76",
   "metadata": {},
   "outputs": [],
   "source": [
    "logging.info('Starting the Assignment no. 8')"
   ]
  },
  {
   "cell_type": "code",
   "execution_count": 6,
   "id": "f089bd26",
   "metadata": {},
   "outputs": [],
   "source": [
    "def MatAdd(a,b):\n",
    "    '''\n",
    "    This function will return the addion of two matrix \n",
    "    '''\n",
    "    logging.info('Start executing Q1. Write a Python Program to Add Two Matrices?')\n",
    "    try :\n",
    "        n1 = len(a)\n",
    "        m1 = len(a[0])\n",
    "        n2 = len(b)\n",
    "        m2 = len(b[0])\n",
    "        add = []\n",
    "        if (type(a) != list) and (type(b) != list):\n",
    "            logging.exception('Pass the right matrix')\n",
    "            raise Exception('Pass the right matrix')\n",
    "        if (n1 == n2) and (m1 == m2):\n",
    "            for i in range(n1):\n",
    "                subadd = []\n",
    "                for j in range(m1):\n",
    "                    temp = a[i][j]+b[i][j]\n",
    "                    subadd.append(temp)\n",
    "                add.append(subadd)\n",
    "            logging.info('exection successfully')\n",
    "            return add\n",
    "        else:\n",
    "            logging.exception('wrong Dimension of matrix')\n",
    "            raise Exception('Wrong Dimension of matrix')\n",
    "    except Exception as e:\n",
    "        logging.error('Error ocured',e)\n",
    "        print(e)\n",
    "            "
   ]
  },
  {
   "cell_type": "code",
   "execution_count": 9,
   "id": "d8765e7d",
   "metadata": {},
   "outputs": [],
   "source": [
    "a = [[2,3,4],[1,2,3]]\n",
    "b = [[1,2,3],[3,6,9]]\n",
    "add = MatAdd(a,b)"
   ]
  },
  {
   "cell_type": "code",
   "execution_count": 10,
   "id": "f7f3eef4",
   "metadata": {},
   "outputs": [
    {
     "name": "stdout",
     "output_type": "stream",
     "text": [
      "[[3, 5, 7], [4, 8, 12]]\n"
     ]
    }
   ],
   "source": [
    "print(add)"
   ]
  },
  {
   "cell_type": "markdown",
   "id": "7e38da62",
   "metadata": {},
   "source": [
    "## Q2. Write a Python Program to Multiply Two Matrices?"
   ]
  },
  {
   "cell_type": "code",
   "execution_count": 70,
   "id": "2afdf08f",
   "metadata": {},
   "outputs": [],
   "source": [
    "def MatMul(a,b):\n",
    "    '''\n",
    "    This function will return the multiplaction of two matrix \n",
    "    '''\n",
    "    logging.info('Start executing Q2. Write a Python Program to Multiply Two Matrices?')\n",
    "    try:\n",
    "        n1 = len(a)\n",
    "        m1 = len(a[0])\n",
    "        n2 = len(b)\n",
    "        m2 = len(b[0])\n",
    "        mul = []\n",
    "        if (type(a) != list) and (type(b) != list):\n",
    "            logging.exception('Pass the right matrix')\n",
    "            raise Exception('Pass the right matrix')\n",
    "        if (n1 == m2):\n",
    "            for i in range(n1):\n",
    "                mul1 = []\n",
    "                for j in range(m2):\n",
    "                    mul2 = 0\n",
    "                    for k in range(n2):\n",
    "                        x = b[k][j]\n",
    "                        y = a[i][k]\n",
    "                        mul2 = (x * y) + mul2\n",
    "                    mul1.append(mul2)\n",
    "                mul.append(mul1)\n",
    "            return mul\n",
    "        else:\n",
    "            logging.exception('wrong Dimension of matrix')\n",
    "            raise Exception('Wrong Dimension of matrix')\n",
    "    except Exception as e:\n",
    "        logging.error('Error ocured',e)\n",
    "        print(e)"
   ]
  },
  {
   "cell_type": "code",
   "execution_count": null,
   "id": "7913478b",
   "metadata": {},
   "outputs": [],
   "source": []
  },
  {
   "cell_type": "code",
   "execution_count": 73,
   "id": "1ccf8a81",
   "metadata": {},
   "outputs": [],
   "source": [
    "a = [[5, 4, 3],  \n",
    "         [2, 4, 6],  \n",
    "         [4, 7, 9]]    \n",
    "b = [[3, 2, 4],  \n",
    "         [4, 3, 6],  \n",
    "         [2, 7, 5]]  \n",
    "mul = MatMul(a,b)"
   ]
  },
  {
   "cell_type": "code",
   "execution_count": 74,
   "id": "b421d1bb",
   "metadata": {},
   "outputs": [
    {
     "name": "stdout",
     "output_type": "stream",
     "text": [
      "[[37, 43, 59], [34, 58, 62], [58, 92, 103]]\n"
     ]
    }
   ],
   "source": [
    "print(mul)"
   ]
  },
  {
   "cell_type": "markdown",
   "id": "9246fc6c",
   "metadata": {},
   "source": [
    "## Q3. Write a Python Program to Transpose a Matrix?"
   ]
  },
  {
   "cell_type": "code",
   "execution_count": 85,
   "id": "81aa23d8",
   "metadata": {},
   "outputs": [],
   "source": [
    "def MatTrans(a):\n",
    "    '''\n",
    "    This function will return the Transpose \n",
    "    '''\n",
    "    logging.info('Start executing Q3. Write a Python Program to Transpose a Matrix? ')\n",
    "    try:\n",
    "        n = len(a)\n",
    "        m = len(a[0])\n",
    "        if (type(a) != list) and (type(b) != list):\n",
    "            logging.exception('Pass the right matrix')\n",
    "            raise Exception('Pass the right matrix')\n",
    "        trans = []\n",
    "        for i in range(m):\n",
    "            trans.append([0 for j in range(n)])\n",
    "        for i in range(m):\n",
    "            for j in range(n):\n",
    "                trans[i][j] = a[j][i]\n",
    "        return trans\n",
    "    except Exception as e:\n",
    "        logging.error('Error ocured',e)\n",
    "        print(e)"
   ]
  },
  {
   "cell_type": "code",
   "execution_count": 86,
   "id": "d742425f",
   "metadata": {},
   "outputs": [
    {
     "name": "stdout",
     "output_type": "stream",
     "text": [
      "[[2, 2], [9, 3], [6, 8]]\n"
     ]
    }
   ],
   "source": [
    "l = [[2,9,6],[2,3,8]]\n",
    "print(MatTrans(l))"
   ]
  },
  {
   "cell_type": "markdown",
   "id": "22437d05",
   "metadata": {},
   "source": [
    "## Q4. Write a Python Program to Sort Words in Alphabetic Order?"
   ]
  },
  {
   "cell_type": "code",
   "execution_count": 95,
   "id": "b4d7ad74",
   "metadata": {},
   "outputs": [],
   "source": [
    "def sortStr(st):\n",
    "    '''\n",
    "    This function will return the sort words in alphabetic order'''\n",
    "    logging.info('Start executing Q4. Write a Python Program to Sort Words in Alphabetic Order?')\n",
    "    try:\n",
    "        unsort = st.split(\" \")\n",
    "        sort = sorted(unsort)\n",
    "        return (' '.join(sort))\n",
    "    except Exception as e:\n",
    "        logging.error('Error ocured',e)\n",
    "        print(e)"
   ]
  },
  {
   "cell_type": "code",
   "execution_count": 97,
   "id": "762e6c66",
   "metadata": {},
   "outputs": [
    {
     "name": "stdout",
     "output_type": "stream",
     "text": [
      "be is sorted string the this to\n"
     ]
    }
   ],
   "source": [
    "st = 'this is the string to be sorted'\n",
    "print(sortStr(st))"
   ]
  },
  {
   "cell_type": "markdown",
   "id": "666f92ea",
   "metadata": {},
   "source": [
    "## Q5. Write a Python Program to Remove Punctuation From a String?"
   ]
  },
  {
   "cell_type": "code",
   "execution_count": 100,
   "id": "15959a65",
   "metadata": {},
   "outputs": [],
   "source": [
    "def repunct(a):\n",
    "    '''\n",
    "    This function is used to remove the punctuation from a string'''\n",
    "    logging.info('Start executing Q5. Write a Python Program to Remove Punctuation From a String?')\n",
    "    try:\n",
    "        p = '''!()-[]{};:'\"\\,<>./?@#$%^&*_~'''\n",
    "        st = ''\n",
    "        for i in a:\n",
    "            if i not in p:\n",
    "                st = st+i\n",
    "        return st\n",
    "    except Exception as e:\n",
    "        logging.error('Error ocured',e)\n",
    "        print(e)"
   ]
  },
  {
   "cell_type": "code",
   "execution_count": 101,
   "id": "47f68dbb",
   "metadata": {},
   "outputs": [
    {
     "name": "stdout",
     "output_type": "stream",
     "text": [
      "remove  the punctuation\n"
     ]
    }
   ],
   "source": [
    "st = 'remove @#$^$&* the punctuation'\n",
    "print(repunct(st))"
   ]
  },
  {
   "cell_type": "code",
   "execution_count": null,
   "id": "4c792362",
   "metadata": {},
   "outputs": [],
   "source": []
  }
 ],
 "metadata": {
  "kernelspec": {
   "display_name": "Python 3 (ipykernel)",
   "language": "python",
   "name": "python3"
  },
  "language_info": {
   "codemirror_mode": {
    "name": "ipython",
    "version": 3
   },
   "file_extension": ".py",
   "mimetype": "text/x-python",
   "name": "python",
   "nbconvert_exporter": "python",
   "pygments_lexer": "ipython3",
   "version": "3.9.7"
  }
 },
 "nbformat": 4,
 "nbformat_minor": 5
}
