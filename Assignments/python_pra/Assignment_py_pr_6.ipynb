{
 "cells": [
  {
   "cell_type": "code",
   "execution_count": 1,
   "id": "4aa207cc",
   "metadata": {},
   "outputs": [],
   "source": [
    "import logging\n",
    "logging.basicConfig(filename = 'Py_Assignment_6.log', level = logging.DEBUG, format = '%(asctime)s : %(levelname)s : %(message)s')"
   ]
  },
  {
   "cell_type": "markdown",
   "id": "96ececa3",
   "metadata": {},
   "source": [
    "Q1. Write a Python Program to Display Fibonacci Sequence Using Recursion? "
   ]
  },
  {
   "cell_type": "code",
   "execution_count": 2,
   "id": "b95aa582",
   "metadata": {},
   "outputs": [],
   "source": [
    "def fibSeq(r = 20,x1 = 0,x2 = 1):\n",
    "    '''\n",
    "    This function will give you fibonacci sequence for a given range\n",
    "    r --> range dafult 20\n",
    "    x1 --> first element of sequence\n",
    "    x2 --> secound element of sequence\n",
    "    '''\n",
    "    logging.info('start exicuting Q1. Write a Python Program to Display Fibonacci Sequence Using Recursion? ')\n",
    "    try:\n",
    "        print(x1)\n",
    "        t = x1 + x2\n",
    "        x1 = x2\n",
    "        x2 = t\n",
    "        if r != 0:\n",
    "            r = r - 1\n",
    "            fibSeq(r,x1,x2)\n",
    "        logging.info('Execution successfuly')\n",
    "    except Exception as e:\n",
    "        print(e)\n",
    "        logging.error('Error ocured',e)\n",
    "        "
   ]
  },
  {
   "cell_type": "code",
   "execution_count": 3,
   "id": "8507b8a5",
   "metadata": {},
   "outputs": [
    {
     "name": "stdout",
     "output_type": "stream",
     "text": [
      "0\n",
      "1\n",
      "1\n",
      "2\n",
      "3\n",
      "5\n",
      "8\n",
      "13\n",
      "21\n",
      "34\n",
      "55\n",
      "89\n",
      "144\n",
      "233\n",
      "377\n",
      "610\n",
      "987\n",
      "1597\n",
      "2584\n",
      "4181\n",
      "6765\n"
     ]
    }
   ],
   "source": [
    "fibSeq()"
   ]
  },
  {
   "cell_type": "markdown",
   "id": "61290a4d",
   "metadata": {},
   "source": [
    "Q2. Write a Python Program to Find Factorial of Number Using Recursion?"
   ]
  },
  {
   "cell_type": "code",
   "execution_count": 6,
   "id": "9a4ffff6",
   "metadata": {},
   "outputs": [],
   "source": [
    "def factorial(x):\n",
    "    '''\n",
    "    This function will return the factorial or given number \n",
    "    x --> Number to which factorial is calculating \n",
    "    '''\n",
    "    logging.info('Start executing Q2. Write a Python Program to Find Factorial of Number Using Recursion?')\n",
    "    try:\n",
    "        if x == 0:\n",
    "            logging.info('Executation complet')\n",
    "            return 1\n",
    "        else :\n",
    "            return x * factorial(x-1)\n",
    "    except Exception as e:\n",
    "        print(e)\n",
    "        logging.error('Error ocured',e)\n",
    "        "
   ]
  },
  {
   "cell_type": "code",
   "execution_count": 7,
   "id": "a3278bbb",
   "metadata": {},
   "outputs": [
    {
     "data": {
      "text/plain": [
       "720"
      ]
     },
     "execution_count": 7,
     "metadata": {},
     "output_type": "execute_result"
    }
   ],
   "source": [
    "factorial(6)"
   ]
  },
  {
   "cell_type": "markdown",
   "id": "f8413a00",
   "metadata": {},
   "source": [
    "Q3. Write a Python Program to calculate your Body Mass Index?"
   ]
  },
  {
   "cell_type": "code",
   "execution_count": 10,
   "id": "d551ade9",
   "metadata": {},
   "outputs": [],
   "source": [
    "def BMI(w,h):\n",
    "    '''This function will return the BMI of your body \n",
    "    w --> weight of person\n",
    "    h --> hight of person\n",
    "    '''\n",
    "    logging.info('Start executing Q3. Write a Python Program to calculate your Body Mass Index?')\n",
    "    try:\n",
    "        return w/(h**2)\n",
    "    except Exception as e:\n",
    "        print(e)\n",
    "        logging.error('Error ocured',e)\n",
    "        "
   ]
  },
  {
   "cell_type": "code",
   "execution_count": 11,
   "id": "3b3d9fab",
   "metadata": {},
   "outputs": [
    {
     "data": {
      "text/plain": [
       "22.20408163265306"
      ]
     },
     "execution_count": 11,
     "metadata": {},
     "output_type": "execute_result"
    }
   ],
   "source": [
    "BMI(68,1.75)"
   ]
  },
  {
   "cell_type": "markdown",
   "id": "93b170e8",
   "metadata": {},
   "source": [
    "Q4. Write a Python Program to calculate the natural logarithm of any number?"
   ]
  },
  {
   "cell_type": "code",
   "execution_count": 30,
   "id": "ce15e5a2",
   "metadata": {},
   "outputs": [],
   "source": [
    "def ln(x):\n",
    "    '''This function will return the natural log of given no.'''\n",
    "    logging.info('Start executing Q4. Write a Python Program to calculate the natural logarithm of any number?')\n",
    "    try:\n",
    "        n = 1000.0\n",
    "        return n * ((x ** (1/n)) - 1)\n",
    "    except Exception as e:\n",
    "        print(e)\n",
    "        logging.error('Error ocured',e)\n",
    "        "
   ]
  },
  {
   "cell_type": "code",
   "execution_count": 31,
   "id": "988416fb",
   "metadata": {},
   "outputs": [
    {
     "data": {
      "text/plain": [
       "2.3052380778996184"
      ]
     },
     "execution_count": 31,
     "metadata": {},
     "output_type": "execute_result"
    }
   ],
   "source": [
    "ln(10)"
   ]
  },
  {
   "cell_type": "markdown",
   "id": "8da2937c",
   "metadata": {},
   "source": [
    "Q5. Write a Python Program for cube sum of first n natural numbers?"
   ]
  },
  {
   "cell_type": "code",
   "execution_count": 32,
   "id": "d4265719",
   "metadata": {},
   "outputs": [],
   "source": [
    "def cubeSum(n):\n",
    "    '''This function will return the sum of cube of first n natural no.'''\n",
    "    logging.info('Start executing Q5. Write a Python Program for cube sum of first n natural numbers?')\n",
    "    try:\n",
    "        if n == 0:\n",
    "            return 0\n",
    "        return (n**3) + cubeSum(n-1)\n",
    "    except Exception as e:\n",
    "        print(e)\n",
    "        logging.error('Error ocured',e)\n",
    "        "
   ]
  },
  {
   "cell_type": "code",
   "execution_count": 33,
   "id": "6b702ff7",
   "metadata": {},
   "outputs": [
    {
     "data": {
      "text/plain": [
       "3025"
      ]
     },
     "execution_count": 33,
     "metadata": {},
     "output_type": "execute_result"
    }
   ],
   "source": [
    "cubeSum(10)"
   ]
  },
  {
   "cell_type": "code",
   "execution_count": null,
   "id": "e93c3845",
   "metadata": {},
   "outputs": [],
   "source": []
  }
 ],
 "metadata": {
  "kernelspec": {
   "display_name": "Python 3 (ipykernel)",
   "language": "python",
   "name": "python3"
  },
  "language_info": {
   "codemirror_mode": {
    "name": "ipython",
    "version": 3
   },
   "file_extension": ".py",
   "mimetype": "text/x-python",
   "name": "python",
   "nbconvert_exporter": "python",
   "pygments_lexer": "ipython3",
   "version": "3.9.7"
  }
 },
 "nbformat": 4,
 "nbformat_minor": 5
}
