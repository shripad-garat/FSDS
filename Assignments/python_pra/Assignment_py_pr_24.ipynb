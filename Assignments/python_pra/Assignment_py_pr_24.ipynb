{
 "cells": [
  {
   "cell_type": "markdown",
   "id": "142dd10d",
   "metadata": {},
   "source": [
    "### Question1\n",
    "Create a function that takes an integer and returns a list from 1 to the given number, where:\n",
    "1. If the number can be divided evenly by 4, amplify it by 10 (i.e. return 10 times the\n",
    "number).\n",
    "2. If the number cannot be divided evenly by 4, simply return the number."
   ]
  },
  {
   "cell_type": "code",
   "execution_count": 1,
   "id": "a422ec7e",
   "metadata": {},
   "outputs": [],
   "source": [
    "import logging\n",
    "import math\n",
    "logging.basicConfig(filename = 'log_Assignment_24.log',level = logging.DEBUG, format = '%(asctime)s : %(levelname)s : %(message)s')\n"
   ]
  },
  {
   "cell_type": "code",
   "execution_count": 2,
   "id": "3c216662",
   "metadata": {},
   "outputs": [],
   "source": [
    "import math "
   ]
  },
  {
   "cell_type": "code",
   "execution_count": 3,
   "id": "27ccbcf3",
   "metadata": {},
   "outputs": [],
   "source": [
    "logging.info('Question 1: Create a function that takes an integer and returns a list from 1 to the given number, where: If the number can be divided evenly by 4, amplify it by 10 (i.e. return 10 times the number). If the number cannot be divided evenly by 4, simply return the number.')\n",
    "logging.info('Start executing Question 1')"
   ]
  },
  {
   "cell_type": "code",
   "execution_count": 4,
   "id": "a0143f5d",
   "metadata": {},
   "outputs": [],
   "source": [
    "def amplify(num):\n",
    "    '''Returns Amplify'''\n",
    "    try:\n",
    "        a = [i*10 if i%4==0 else i for i in range(num+1)]\n",
    "        return a\n",
    "    except Exception as e:\n",
    "        print(e)\n",
    "        logging.info(f'Error Occured: {e}')"
   ]
  },
  {
   "cell_type": "code",
   "execution_count": 5,
   "id": "b26bb756",
   "metadata": {},
   "outputs": [
    {
     "data": {
      "text/plain": [
       "[0,\n",
       " 1,\n",
       " 2,\n",
       " 3,\n",
       " 40,\n",
       " 5,\n",
       " 6,\n",
       " 7,\n",
       " 80,\n",
       " 9,\n",
       " 10,\n",
       " 11,\n",
       " 120,\n",
       " 13,\n",
       " 14,\n",
       " 15,\n",
       " 160,\n",
       " 17,\n",
       " 18,\n",
       " 19,\n",
       " 200,\n",
       " 21,\n",
       " 22,\n",
       " 23,\n",
       " 240,\n",
       " 25]"
      ]
     },
     "execution_count": 5,
     "metadata": {},
     "output_type": "execute_result"
    }
   ],
   "source": [
    "amplify(25)"
   ]
  },
  {
   "cell_type": "markdown",
   "id": "c75a4ae9",
   "metadata": {},
   "source": [
    "### Question2\n",
    "Create a function that takes a list of numbers and return the number that&#39;s unique."
   ]
  },
  {
   "cell_type": "code",
   "execution_count": 6,
   "id": "c3afbe0f",
   "metadata": {},
   "outputs": [],
   "source": [
    "logging.info('Question 2: Create a function that takes a list of numbers and return the number thats unique.')\n",
    "logging.info('Start executing Question 2')"
   ]
  },
  {
   "cell_type": "code",
   "execution_count": 7,
   "id": "d7ba9d7f",
   "metadata": {},
   "outputs": [],
   "source": [
    "def unique(l):\n",
    "    '''Create a function that takes a list of numbers and return the number that's unique'''\n",
    "    try:\n",
    "        for i in range(len(l)):\n",
    "            if l[i] in l[i+1:]:\n",
    "                continue\n",
    "            else:\n",
    "                return l[i]\n",
    "    except Exception as e:\n",
    "        print(e)\n",
    "        logging.info(f'Error Occured: {e}')"
   ]
  },
  {
   "cell_type": "code",
   "execution_count": 8,
   "id": "7b635eba",
   "metadata": {},
   "outputs": [
    {
     "data": {
      "text/plain": [
       "0"
      ]
     },
     "execution_count": 8,
     "metadata": {},
     "output_type": "execute_result"
    }
   ],
   "source": [
    "unique([0, 1, 1, 1, 1, 1, 1, 1])"
   ]
  },
  {
   "cell_type": "markdown",
   "id": "006848e1",
   "metadata": {},
   "source": [
    "### Question3\n",
    "Your task is to create a Circle constructor that creates a circle with a radius provided by an\n",
    "argument. The circles constructed must have two getters getArea() (PIr^2) and\n",
    "getPerimeter() (2PI*r) which give both respective areas and perimeter (circumference)."
   ]
  },
  {
   "cell_type": "code",
   "execution_count": 9,
   "id": "f0da2dff",
   "metadata": {},
   "outputs": [],
   "source": [
    "logging.info('Question 3:Your task is to create a Circle constructor that creates a circle with a radius provided by an argument. The circles constructed must have two getters getArea() (PIr^2) and getPerimeter() (2PI*r) which give both respective areas and perimeter (circumference). ')\n",
    "logging.info('Start executing Question 3')"
   ]
  },
  {
   "cell_type": "code",
   "execution_count": 10,
   "id": "398daed7",
   "metadata": {},
   "outputs": [],
   "source": [
    "class Circul:\n",
    "    def __init__(self,rad):\n",
    "        self.rad = rad\n",
    "    \n",
    "    def getArea(self):\n",
    "        a = math.pi*(self.rad**2)\n",
    "        return round(a)\n",
    "    \n",
    "    def getPerimeter(self):\n",
    "        p = math.pi*2*self.rad\n",
    "        return round(p)"
   ]
  },
  {
   "cell_type": "code",
   "execution_count": 11,
   "id": "6c4940b2",
   "metadata": {},
   "outputs": [
    {
     "data": {
      "text/plain": [
       "380"
      ]
     },
     "execution_count": 11,
     "metadata": {},
     "output_type": "execute_result"
    }
   ],
   "source": [
    "cir = Circul(11)\n",
    "cir.getArea()"
   ]
  },
  {
   "cell_type": "code",
   "execution_count": 12,
   "id": "21ee9b61",
   "metadata": {},
   "outputs": [
    {
     "data": {
      "text/plain": [
       "69"
      ]
     },
     "execution_count": 12,
     "metadata": {},
     "output_type": "execute_result"
    }
   ],
   "source": [
    "cir.getPerimeter()"
   ]
  },
  {
   "cell_type": "markdown",
   "id": "9afb0a87",
   "metadata": {},
   "source": [
    "### Question4\n",
    "Create a function that takes a list of strings and return a list, sorted from shortest to longest."
   ]
  },
  {
   "cell_type": "code",
   "execution_count": 13,
   "id": "e9609c54",
   "metadata": {},
   "outputs": [],
   "source": [
    "logging.info('Question 4: Create a function that takes a list of strings and return a list, sorted from shortest to longest.')\n",
    "logging.info('Start executing Question 4')"
   ]
  },
  {
   "cell_type": "code",
   "execution_count": 14,
   "id": "315f32fa",
   "metadata": {},
   "outputs": [],
   "source": [
    "def sort_by_length(l):\n",
    "    ''' takes a list of strings and return a list, sorted from shortest to longest.'''\n",
    "    try:\n",
    "        check = 0\n",
    "        while(check != len(l)-1):\n",
    "            check = 0\n",
    "            for i in range(len(l)-1):\n",
    "                if len(l[i])>len(l[i+1]):\n",
    "                    temp = l[i]\n",
    "                    l[i] = l[i+1]\n",
    "                    l[i+1] = temp\n",
    "                else:\n",
    "                    check += 1\n",
    "        return l\n",
    "    except Exception as e:\n",
    "        print(e)\n",
    "        logging.info(f'Error Occured: {e}')"
   ]
  },
  {
   "cell_type": "code",
   "execution_count": 15,
   "id": "369a1b1d",
   "metadata": {},
   "outputs": [
    {
     "data": {
      "text/plain": [
       "['Apple', 'Google', 'Microsoft']"
      ]
     },
     "execution_count": 15,
     "metadata": {},
     "output_type": "execute_result"
    }
   ],
   "source": [
    "sort_by_length(['Google', 'Apple', 'Microsoft'])"
   ]
  },
  {
   "cell_type": "markdown",
   "id": "f5c25d96",
   "metadata": {},
   "source": [
    "### Question5\n",
    "Create a function that validates whether three given integers form a Pythagorean triplet. The\n",
    "sum of the squares of the two smallest integers must equal the square of the largest number to\n",
    "be validated."
   ]
  },
  {
   "cell_type": "code",
   "execution_count": 16,
   "id": "b18bf0f1",
   "metadata": {},
   "outputs": [],
   "source": [
    "logging.info('Question 5: Create a function that validates whether three given integers form a Pythagorean triplet. The sum of the squares of the two smallest integers must equal the square of the largest number to be validated. ')\n",
    "logging.info('Start executing Question 5')"
   ]
  },
  {
   "cell_type": "code",
   "execution_count": 21,
   "id": "2477ed05",
   "metadata": {},
   "outputs": [],
   "source": [
    "def is_triplet(a,b,c):\n",
    "    '''That validates whether three given integers form a Pythagorean triplet'''\n",
    "    try:\n",
    "        tri = sorted([a,b,c])\n",
    "        cs = (tri[0]**2)+(tri[1]**2)\n",
    "        if tri[2]**2==cs:\n",
    "            return True \n",
    "        else:\n",
    "            return False\n",
    "    except Exception as e:\n",
    "        print(e)\n",
    "        logging.info(f'Error Occured: {e}')"
   ]
  },
  {
   "cell_type": "code",
   "execution_count": 22,
   "id": "6eb6bdb3",
   "metadata": {},
   "outputs": [
    {
     "data": {
      "text/plain": [
       "True"
      ]
     },
     "execution_count": 22,
     "metadata": {},
     "output_type": "execute_result"
    }
   ],
   "source": [
    "is_triplet(3, 4, 5)"
   ]
  },
  {
   "cell_type": "code",
   "execution_count": null,
   "id": "895ecbb7",
   "metadata": {},
   "outputs": [],
   "source": []
  }
 ],
 "metadata": {
  "kernelspec": {
   "display_name": "Python 3 (ipykernel)",
   "language": "python",
   "name": "python3"
  },
  "language_info": {
   "codemirror_mode": {
    "name": "ipython",
    "version": 3
   },
   "file_extension": ".py",
   "mimetype": "text/x-python",
   "name": "python",
   "nbconvert_exporter": "python",
   "pygments_lexer": "ipython3",
   "version": "3.9.7"
  }
 },
 "nbformat": 4,
 "nbformat_minor": 5
}
