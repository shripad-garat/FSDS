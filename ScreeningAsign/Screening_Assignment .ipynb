{
 "cells": [
  {
   "cell_type": "code",
   "execution_count": 1,
   "id": "7a735494",
   "metadata": {},
   "outputs": [],
   "source": [
    "import logging \n",
    "logging.basicConfig(filename='Assignment.log',level=logging.DEBUG, format='%(asctime)s : %(levelname)s : %(message)s')\n"
   ]
  },
  {
   "cell_type": "markdown",
   "id": "f737e06c",
   "metadata": {},
   "source": [
    "## Question 1 \n",
    "Create a function in python to read the text file and replace specific content\n",
    "of the file."
   ]
  },
  {
   "cell_type": "code",
   "execution_count": 2,
   "id": "ceb51c42",
   "metadata": {},
   "outputs": [],
   "source": [
    "import os\n",
    "def replace(filename,orig,rep):\n",
    "    '''This function will replace the data from the given file \n",
    "    filename --> name of the given file\n",
    "    orig --> the text which is to replace from file\n",
    "    rep --> the replacement text for orig text'''\n",
    "    logging.info('start executing the function for replacement of '+str(orig)+' with '+str(rep)+'.')\n",
    "    try:\n",
    "        if not filename.endswith('.txt'):\n",
    "            raise Exception('Wrong extension or extension not found please provide proper file name')\n",
    "        file = open(filename,'r')\n",
    "        data = file.read()\n",
    "        file.close()\n",
    "        print(data)\n",
    "        data = data.replace(orig,rep)\n",
    "        file = open(filename,'w')\n",
    "        file.write(data)\n",
    "        file.close()\n",
    "        logging.info('Replacement of '+str(orig)+' with '+str(rep)+' completed')\n",
    "    except Exception as e:\n",
    "        print(e)\n",
    "        logging.info(str(e))\n",
    "        logging.error(e)"
   ]
  },
  {
   "cell_type": "code",
   "execution_count": 3,
   "id": "4c8c612f",
   "metadata": {},
   "outputs": [
    {
     "name": "stdout",
     "output_type": "stream",
     "text": [
      "This is a placement assignment\n"
     ]
    }
   ],
   "source": [
    "file1 = open('example.txt','w')\n",
    "file1.write('This is a placement assignment')\n",
    "file1.close()\n",
    "replace('example.txt','placement','screening')"
   ]
  },
  {
   "cell_type": "markdown",
   "id": "da407635",
   "metadata": {},
   "source": [
    "## Question 2\n",
    "Demonstrate use of abstract class, multiple inheritance and decorator in\n",
    "python using examples."
   ]
  },
  {
   "cell_type": "code",
   "execution_count": 4,
   "id": "ebbb6c65",
   "metadata": {},
   "outputs": [],
   "source": [
    "from abc import abstractmethod, ABC\n",
    "class emp:\n",
    "    logging.info('creating class emp for basic employ details')\n",
    "    def __init__(self, name, carrLevel, exp, status):\n",
    "        self.name = name\n",
    "        self.carrLevel = carrLevel\n",
    "        self.exp = exp\n",
    "        self.status = status\n",
    "    @abstractmethod\n",
    "    def salary(self):\n",
    "        pass\n",
    "    \n",
    "class fullTime(emp):\n",
    "    def salary(self):\n",
    "        salary = (25000)+(self.carrLevel*1000)+(self.exp*500)\n",
    "        return salary\n",
    "\n",
    "class cont:\n",
    "    def Basic(self, dur = 2,wages = 120, hour = 9):\n",
    "        self.dur = dur\n",
    "        self.wages = wages\n",
    "        self.dalyWorkingHours = hour\n",
    "    @abstractmethod\n",
    "    def salary(self):\n",
    "        pass\n",
    "    \n",
    "class freeLance(emp,cont):\n",
    "    def salary(self):\n",
    "        self.Basic()\n",
    "        salary = (self.dur*100)+(500*self.carrLevel)+(self.wages*self.dalyWorkingHours)\n",
    "        return salary\n",
    "\n",
    "class payroll():\n",
    "    def __init__(self):\n",
    "        self.emplist = []\n",
    "    def add(self, emp):\n",
    "        self.emplist.append(emp)\n",
    "    def showSalaryDetails(self):\n",
    "        salaryDetails = [[i.name,i.status,i.salary()] for i in self.emplist]\n",
    "        return salaryDetails\n",
    "        "
   ]
  },
  {
   "cell_type": "code",
   "execution_count": 5,
   "id": "b6e5953d",
   "metadata": {},
   "outputs": [
    {
     "name": "stdout",
     "output_type": "stream",
     "text": [
      "[['shri', 'full time', 32000], ['rahul', 'full time', 38000], ['krishna', 'free lance', 7280], ['kumar', 'full time', 4280]]\n"
     ]
    }
   ],
   "source": [
    "xyz = payroll()\n",
    "xyz.add(fullTime('shri',6,2,'full time'))\n",
    "xyz.add(fullTime('rahul',10,6,'full time'))\n",
    "xyz.add(freeLance('krishna',12,9,'free lance'))\n",
    "xyz.add(freeLance('kumar',6,2,'full time'))\n",
    "print(xyz.showSalaryDetails())"
   ]
  },
  {
   "cell_type": "code",
   "execution_count": null,
   "id": "04b5e625",
   "metadata": {},
   "outputs": [],
   "source": []
  }
 ],
 "metadata": {
  "kernelspec": {
   "display_name": "Python 3 (ipykernel)",
   "language": "python",
   "name": "python3"
  },
  "language_info": {
   "codemirror_mode": {
    "name": "ipython",
    "version": 3
   },
   "file_extension": ".py",
   "mimetype": "text/x-python",
   "name": "python",
   "nbconvert_exporter": "python",
   "pygments_lexer": "ipython3",
   "version": "3.9.7"
  }
 },
 "nbformat": 4,
 "nbformat_minor": 5
}
